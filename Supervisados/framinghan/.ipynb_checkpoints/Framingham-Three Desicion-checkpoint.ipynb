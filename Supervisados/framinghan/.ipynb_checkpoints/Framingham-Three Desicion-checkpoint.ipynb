{
 "cells": [
  {
   "cell_type": "code",
   "execution_count": 26,
   "id": "fe078738",
   "metadata": {},
   "outputs": [],
   "source": [
    "#Librerias \n",
    "import pandas as pd\n",
    "import numpy as np\n",
    "import matplotlib.pyplot as plt\n",
    "\n",
    "#Arbol de decision\n",
    "from sklearn.tree import DecisionTreeClassifier#-\n",
    "\n",
    "\n",
    "#Visualizacion del arbol\n",
    "from sklearn.tree import plot_tree#x\n",
    "\n",
    "#Para el bosque aleatorio.\n",
    "from sklearn.ensemble import RandomForestClassifier\n",
    "\n",
    "#Para el reporte\n",
    "from sklearn.metrics import classification_report, accuracy_score,make_scorer#-\n",
    "from sklearn.model_selection import ParameterGrid, GridSearchCV"
   ]
  },
  {
   "cell_type": "code",
   "execution_count": 2,
   "id": "b57779db",
   "metadata": {},
   "outputs": [
    {
     "data": {
      "text/html": [
       "<div>\n",
       "<style scoped>\n",
       "    .dataframe tbody tr th:only-of-type {\n",
       "        vertical-align: middle;\n",
       "    }\n",
       "\n",
       "    .dataframe tbody tr th {\n",
       "        vertical-align: top;\n",
       "    }\n",
       "\n",
       "    .dataframe thead th {\n",
       "        text-align: right;\n",
       "    }\n",
       "</style>\n",
       "<table border=\"1\" class=\"dataframe\">\n",
       "  <thead>\n",
       "    <tr style=\"text-align: right;\">\n",
       "      <th></th>\n",
       "      <th>male</th>\n",
       "      <th>age</th>\n",
       "      <th>education</th>\n",
       "      <th>currentSmoker</th>\n",
       "      <th>cigsPerDay</th>\n",
       "      <th>BPMeds</th>\n",
       "      <th>prevalentStroke</th>\n",
       "      <th>prevalentHyp</th>\n",
       "      <th>diabetes</th>\n",
       "      <th>totChol</th>\n",
       "      <th>sysBP</th>\n",
       "      <th>diaBP</th>\n",
       "      <th>BMI</th>\n",
       "      <th>heartRate</th>\n",
       "      <th>glucose</th>\n",
       "      <th>TenYearCHD</th>\n",
       "    </tr>\n",
       "  </thead>\n",
       "  <tbody>\n",
       "    <tr>\n",
       "      <th>0</th>\n",
       "      <td>1</td>\n",
       "      <td>39</td>\n",
       "      <td>4.0</td>\n",
       "      <td>0</td>\n",
       "      <td>0.0</td>\n",
       "      <td>0.0</td>\n",
       "      <td>0</td>\n",
       "      <td>0</td>\n",
       "      <td>0</td>\n",
       "      <td>195.0</td>\n",
       "      <td>106.0</td>\n",
       "      <td>70.0</td>\n",
       "      <td>26.97</td>\n",
       "      <td>80.0</td>\n",
       "      <td>77.0</td>\n",
       "      <td>0</td>\n",
       "    </tr>\n",
       "    <tr>\n",
       "      <th>1</th>\n",
       "      <td>0</td>\n",
       "      <td>46</td>\n",
       "      <td>2.0</td>\n",
       "      <td>0</td>\n",
       "      <td>0.0</td>\n",
       "      <td>0.0</td>\n",
       "      <td>0</td>\n",
       "      <td>0</td>\n",
       "      <td>0</td>\n",
       "      <td>250.0</td>\n",
       "      <td>121.0</td>\n",
       "      <td>81.0</td>\n",
       "      <td>28.73</td>\n",
       "      <td>95.0</td>\n",
       "      <td>76.0</td>\n",
       "      <td>0</td>\n",
       "    </tr>\n",
       "    <tr>\n",
       "      <th>2</th>\n",
       "      <td>1</td>\n",
       "      <td>48</td>\n",
       "      <td>1.0</td>\n",
       "      <td>1</td>\n",
       "      <td>20.0</td>\n",
       "      <td>0.0</td>\n",
       "      <td>0</td>\n",
       "      <td>0</td>\n",
       "      <td>0</td>\n",
       "      <td>245.0</td>\n",
       "      <td>127.5</td>\n",
       "      <td>80.0</td>\n",
       "      <td>25.34</td>\n",
       "      <td>75.0</td>\n",
       "      <td>70.0</td>\n",
       "      <td>0</td>\n",
       "    </tr>\n",
       "    <tr>\n",
       "      <th>3</th>\n",
       "      <td>0</td>\n",
       "      <td>61</td>\n",
       "      <td>3.0</td>\n",
       "      <td>1</td>\n",
       "      <td>30.0</td>\n",
       "      <td>0.0</td>\n",
       "      <td>0</td>\n",
       "      <td>1</td>\n",
       "      <td>0</td>\n",
       "      <td>225.0</td>\n",
       "      <td>150.0</td>\n",
       "      <td>95.0</td>\n",
       "      <td>28.58</td>\n",
       "      <td>65.0</td>\n",
       "      <td>103.0</td>\n",
       "      <td>1</td>\n",
       "    </tr>\n",
       "    <tr>\n",
       "      <th>4</th>\n",
       "      <td>0</td>\n",
       "      <td>46</td>\n",
       "      <td>3.0</td>\n",
       "      <td>1</td>\n",
       "      <td>23.0</td>\n",
       "      <td>0.0</td>\n",
       "      <td>0</td>\n",
       "      <td>0</td>\n",
       "      <td>0</td>\n",
       "      <td>285.0</td>\n",
       "      <td>130.0</td>\n",
       "      <td>84.0</td>\n",
       "      <td>23.10</td>\n",
       "      <td>85.0</td>\n",
       "      <td>85.0</td>\n",
       "      <td>0</td>\n",
       "    </tr>\n",
       "  </tbody>\n",
       "</table>\n",
       "</div>"
      ],
      "text/plain": [
       "   male  age  education  currentSmoker  cigsPerDay  BPMeds  prevalentStroke  \\\n",
       "0     1   39        4.0              0         0.0     0.0                0   \n",
       "1     0   46        2.0              0         0.0     0.0                0   \n",
       "2     1   48        1.0              1        20.0     0.0                0   \n",
       "3     0   61        3.0              1        30.0     0.0                0   \n",
       "4     0   46        3.0              1        23.0     0.0                0   \n",
       "\n",
       "   prevalentHyp  diabetes  totChol  sysBP  diaBP    BMI  heartRate  glucose  \\\n",
       "0             0         0    195.0  106.0   70.0  26.97       80.0     77.0   \n",
       "1             0         0    250.0  121.0   81.0  28.73       95.0     76.0   \n",
       "2             0         0    245.0  127.5   80.0  25.34       75.0     70.0   \n",
       "3             1         0    225.0  150.0   95.0  28.58       65.0    103.0   \n",
       "4             0         0    285.0  130.0   84.0  23.10       85.0     85.0   \n",
       "\n",
       "   TenYearCHD  \n",
       "0           0  \n",
       "1           0  \n",
       "2           0  \n",
       "3           1  \n",
       "4           0  "
      ]
     },
     "execution_count": 2,
     "metadata": {},
     "output_type": "execute_result"
    }
   ],
   "source": [
    "#Importacion del dataset\n",
    "dataset = pd.read_csv(\"framinghamClean.csv\")\n",
    "dataset.drop([\"Unnamed: 0\"], axis=1, inplace=True)\n",
    "dataset.head()\n",
    "#dataset.shape"
   ]
  },
  {
   "cell_type": "markdown",
   "id": "35f549d8",
   "metadata": {},
   "source": [
    "## Preparacion del modelo."
   ]
  },
  {
   "cell_type": "code",
   "execution_count": 3,
   "id": "b1433c6c",
   "metadata": {},
   "outputs": [],
   "source": [
    "#Eleccion de variables\n",
    "columnas = dataset.columns.values.tolist()\n",
    "predictors = columnas[:15]\n",
    "target = columnas[-1]"
   ]
  },
  {
   "cell_type": "code",
   "execution_count": 4,
   "id": "4095f1d1",
   "metadata": {},
   "outputs": [],
   "source": [
    "#Se hara una columna is_train\n",
    "dataset[\"is_train\"] = (np.random.uniform(0,1,len(dataset))<=0.75).astype(int)"
   ]
  },
  {
   "cell_type": "code",
   "execution_count": 5,
   "id": "091353a8",
   "metadata": {},
   "outputs": [
    {
     "data": {
      "text/plain": [
       "(array([1011.,    0.,    0.,    0.,    0.,    0.,    0.,    0.,    0.,\n",
       "        3229.]),\n",
       " array([0. , 0.1, 0.2, 0.3, 0.4, 0.5, 0.6, 0.7, 0.8, 0.9, 1. ]),\n",
       " <BarContainer object of 10 artists>)"
      ]
     },
     "execution_count": 5,
     "metadata": {},
     "output_type": "execute_result"
    },
    {
     "data": {
      "image/png": "[encoded data removed]",
      "text/plain": [
       "<Figure size 432x288 with 1 Axes>"
      ]
     },
     "metadata": {
      "needs_background": "light"
     },
     "output_type": "display_data"
    }
   ],
   "source": [
    "#Distribucion de los conjuntos, train, test.\n",
    "plt.hist(dataset.is_train)"
   ]
  },
  {
   "cell_type": "code",
   "execution_count": 6,
   "id": "703d1274",
   "metadata": {},
   "outputs": [
    {
     "data": {
      "text/plain": [
       "(3229, 1011)"
      ]
     },
     "execution_count": 6,
     "metadata": {},
     "output_type": "execute_result"
    }
   ],
   "source": [
    "train, test = dataset[dataset[\"is_train\"]==True], dataset[dataset[\"is_train\"]==False]\n",
    "len(train),len(test)"
   ]
  },
  {
   "cell_type": "code",
   "execution_count": 7,
   "id": "efb41ea3",
   "metadata": {},
   "outputs": [],
   "source": [
    "X = dataset[predictors]\n",
    "Y = dataset[target]\n",
    "x_train = train[predictors]\n",
    "y_train = train[target]\n",
    "x_test =  test[predictors]\n",
    "y_test =  test[target]"
   ]
  },
  {
   "cell_type": "code",
   "execution_count": 27,
   "id": "a7420396",
   "metadata": {},
   "outputs": [
    {
     "data": {
      "text/plain": [
       "DecisionTreeClassifier(criterion='entropy', max_depth=4, min_samples_split=20,\n",
       "                       random_state=99)"
      ]
     },
     "execution_count": 27,
     "metadata": {},
     "output_type": "execute_result"
    }
   ],
   "source": [
    "tree = DecisionTreeClassifier(criterion=\"entropy\",max_depth=4 , min_samples_split=20, random_state=99)#Numero minimo para hacer division por defult es 2 pero genera overfitign, random_state=99 puede ser cualquiera\n",
    "tree.fit(x_train, y_train)"
   ]
  },
  {
   "cell_type": "code",
   "execution_count": 9,
   "id": "608b94bd",
   "metadata": {},
   "outputs": [
    {
     "data": {
      "text/plain": [
       "1011"
      ]
     },
     "execution_count": 9,
     "metadata": {},
     "output_type": "execute_result"
    }
   ],
   "source": [
    "preds = tree.predict(test[predictors])\n",
    "#list(preds)\n",
    "len(preds)"
   ]
  },
  {
   "cell_type": "code",
   "execution_count": 10,
   "id": "a7b00387",
   "metadata": {},
   "outputs": [
    {
     "data": {
      "text/html": [
       "<div>\n",
       "<style scoped>\n",
       "    .dataframe tbody tr th:only-of-type {\n",
       "        vertical-align: middle;\n",
       "    }\n",
       "\n",
       "    .dataframe tbody tr th {\n",
       "        vertical-align: top;\n",
       "    }\n",
       "\n",
       "    .dataframe thead th {\n",
       "        text-align: right;\n",
       "    }\n",
       "</style>\n",
       "<table border=\"1\" class=\"dataframe\">\n",
       "  <thead>\n",
       "    <tr style=\"text-align: right;\">\n",
       "      <th>Predictions</th>\n",
       "      <th>0</th>\n",
       "      <th>1</th>\n",
       "    </tr>\n",
       "    <tr>\n",
       "      <th>Actual</th>\n",
       "      <th></th>\n",
       "      <th></th>\n",
       "    </tr>\n",
       "  </thead>\n",
       "  <tbody>\n",
       "    <tr>\n",
       "      <th>0</th>\n",
       "      <td>844</td>\n",
       "      <td>14</td>\n",
       "    </tr>\n",
       "    <tr>\n",
       "      <th>1</th>\n",
       "      <td>142</td>\n",
       "      <td>11</td>\n",
       "    </tr>\n",
       "  </tbody>\n",
       "</table>\n",
       "</div>"
      ],
      "text/plain": [
       "Predictions    0   1\n",
       "Actual              \n",
       "0            844  14\n",
       "1            142  11"
      ]
     },
     "execution_count": 10,
     "metadata": {},
     "output_type": "execute_result"
    }
   ],
   "source": [
    "pd.crosstab(y_test,preds,rownames=[\"Actual\"],colnames=[\"Predictions\"])"
   ]
  },
  {
   "cell_type": "markdown",
   "id": "9084431d",
   "metadata": {},
   "source": [
    "## Visualizacion del arbol de decision"
   ]
  },
  {
   "cell_type": "code",
   "execution_count": 11,
   "id": "30fc563b",
   "metadata": {},
   "outputs": [
    {
     "data": {
      "text/plain": [
       "'plt.figure(figsize=(6,6),dpi=1000)\\nplot_tree(tree,feature_names=columnas,filled=True)\\nplt.show()'"
      ]
     },
     "execution_count": 11,
     "metadata": {},
     "output_type": "execute_result"
    }
   ],
   "source": [
    "'''plt.figure(figsize=(6,6),dpi=1000)\n",
    "plot_tree(tree,feature_names=columnas,filled=True)\n",
    "plt.show()'''"
   ]
  },
  {
   "cell_type": "code",
   "execution_count": 12,
   "id": "2d424263",
   "metadata": {},
   "outputs": [],
   "source": [
    "from sklearn.tree import export_graphviz"
   ]
  },
  {
   "cell_type": "code",
   "execution_count": 13,
   "id": "4814f426",
   "metadata": {},
   "outputs": [],
   "source": [
    "with open(\"/Users/antonioreyesguerrero/Desktop/DataS/ProyectosDataScience/Supervisados/framinghan/framinghan_three.dot\", \"w\") as dotfile:\n",
    "    export_graphviz(tree,out_file=dotfile, feature_names=predictors)\n",
    "    dotfile.close()"
   ]
  },
  {
   "cell_type": "code",
   "execution_count": 14,
   "id": "4bf7525e",
   "metadata": {},
   "outputs": [],
   "source": [
    "import os\n",
    "from graphviz import Source"
   ]
  },
  {
   "cell_type": "code",
   "execution_count": 15,
   "id": "72502e3f",
   "metadata": {},
   "outputs": [],
   "source": [
    "file = open(\"/Users/antonioreyesguerrero/Desktop/DataS/ProyectosDataScience/Supervisados/framinghan/framinghan_three.dot\",\"r\")\n",
    "text = file.read()"
   ]
  },
  {
   "cell_type": "code",
   "execution_count": 16,
   "id": "bb49b5ca",
   "metadata": {},
   "outputs": [
    {
     "data": {
      "image/svg+xml": [
       "<?xml version=\"1.0\" encoding=\"UTF-8\" standalone=\"no\"?>\n",
       "<!DOCTYPE svg PUBLIC \"-//W3C//DTD SVG 1.1//EN\"\n",
       " \"http://www.w3.org/Graphics/SVG/1.1/DTD/svg11.dtd\">\n",
       "<!-- Generated by graphviz version 2.44.0 (20200408.0750)\n",
       " -->\n",
       "<!-- Title: Tree Pages: 1 -->\n",
       "<svg width=\"2086pt\" height=\"477pt\"\n",
       " viewBox=\"0.00 0.00 2086.00 477.00\" xmlns=\"http://www.w3.org/2000/svg\" xmlns:xlink=\"http://www.w3.org/1999/xlink\">\n",
       "<g id=\"graph0\" class=\"graph\" transform=\"scale(1 1) rotate(0) translate(4 473)\">\n",
       "<title>Tree</title>\n",
       "<polygon fill=\"white\" stroke=\"transparent\" points=\"-4,4 -4,-473 2082,-473 2082,4 -4,4\"/>\n",
       "<!-- 0 -->\n",
       "<g id=\"node1\" class=\"node\">\n",
       "<title>0</title>\n",
       "<polygon fill=\"none\" stroke=\"black\" points=\"1100.5,-469 968.5,-469 968.5,-401 1100.5,-401 1100.5,-469\"/>\n",
       "<text text-anchor=\"middle\" x=\"1034.5\" y=\"-453.8\" font-family=\"Helvetica,sans-Serif\" font-size=\"14.00\">age &lt;= 48.5</text>\n",
       "<text text-anchor=\"middle\" x=\"1034.5\" y=\"-438.8\" font-family=\"Helvetica,sans-Serif\" font-size=\"14.00\">entropy = 0.615</text>\n",
       "<text text-anchor=\"middle\" x=\"1034.5\" y=\"-423.8\" font-family=\"Helvetica,sans-Serif\" font-size=\"14.00\">samples = 3229</text>\n",
       "<text text-anchor=\"middle\" x=\"1034.5\" y=\"-408.8\" font-family=\"Helvetica,sans-Serif\" font-size=\"14.00\">value = [2738, 491]</text>\n",
       "</g>\n",
       "<!-- 1 -->\n",
       "<g id=\"node2\" class=\"node\">\n",
       "<title>1</title>\n",
       "<polygon fill=\"none\" stroke=\"black\" points=\"847.5,-365 711.5,-365 711.5,-297 847.5,-297 847.5,-365\"/>\n",
       "<text text-anchor=\"middle\" x=\"779.5\" y=\"-349.8\" font-family=\"Helvetica,sans-Serif\" font-size=\"14.00\">cigsPerDay &lt;= 16.5</text>\n",
       "<text text-anchor=\"middle\" x=\"779.5\" y=\"-334.8\" font-family=\"Helvetica,sans-Serif\" font-size=\"14.00\">entropy = 0.385</text>\n",
       "<text text-anchor=\"middle\" x=\"779.5\" y=\"-319.8\" font-family=\"Helvetica,sans-Serif\" font-size=\"14.00\">samples = 1597</text>\n",
       "<text text-anchor=\"middle\" x=\"779.5\" y=\"-304.8\" font-family=\"Helvetica,sans-Serif\" font-size=\"14.00\">value = [1477, 120]</text>\n",
       "</g>\n",
       "<!-- 0&#45;&gt;1 -->\n",
       "<g id=\"edge1\" class=\"edge\">\n",
       "<title>0&#45;&gt;1</title>\n",
       "<path fill=\"none\" stroke=\"black\" d=\"M968.5,-407.6C934.5,-394 892.82,-377.33 857.27,-363.11\"/>\n",
       "<polygon fill=\"black\" stroke=\"black\" points=\"858.48,-359.82 847.89,-359.36 855.88,-366.32 858.48,-359.82\"/>\n",
       "<text text-anchor=\"middle\" x=\"857.74\" y=\"-378.64\" font-family=\"Helvetica,sans-Serif\" font-size=\"14.00\">True</text>\n",
       "</g>\n",
       "<!-- 16 -->\n",
       "<g id=\"node17\" class=\"node\">\n",
       "<title>16</title>\n",
       "<polygon fill=\"none\" stroke=\"black\" points=\"1375.5,-365 1243.5,-365 1243.5,-297 1375.5,-297 1375.5,-365\"/>\n",
       "<text text-anchor=\"middle\" x=\"1309.5\" y=\"-349.8\" font-family=\"Helvetica,sans-Serif\" font-size=\"14.00\">sysBP &lt;= 155.25</text>\n",
       "<text text-anchor=\"middle\" x=\"1309.5\" y=\"-334.8\" font-family=\"Helvetica,sans-Serif\" font-size=\"14.00\">entropy = 0.773</text>\n",
       "<text text-anchor=\"middle\" x=\"1309.5\" y=\"-319.8\" font-family=\"Helvetica,sans-Serif\" font-size=\"14.00\">samples = 1632</text>\n",
       "<text text-anchor=\"middle\" x=\"1309.5\" y=\"-304.8\" font-family=\"Helvetica,sans-Serif\" font-size=\"14.00\">value = [1261, 371]</text>\n",
       "</g>\n",
       "<!-- 0&#45;&gt;16 -->\n",
       "<g id=\"edge16\" class=\"edge\">\n",
       "<title>0&#45;&gt;16</title>\n",
       "<path fill=\"none\" stroke=\"black\" d=\"M1100.72,-409.44C1140.82,-394.56 1192.11,-375.54 1233.82,-360.07\"/>\n",
       "<polygon fill=\"black\" stroke=\"black\" points=\"1235.22,-363.28 1243.38,-356.52 1232.79,-356.72 1235.22,-363.28\"/>\n",
       "<text text-anchor=\"middle\" x=\"1232.95\" y=\"-375.55\" font-family=\"Helvetica,sans-Serif\" font-size=\"14.00\">False</text>\n",
       "</g>\n",
       "<!-- 2 -->\n",
       "<g id=\"node3\" class=\"node\">\n",
       "<title>2</title>\n",
       "<polygon fill=\"none\" stroke=\"black\" points=\"450,-261 333,-261 333,-193 450,-193 450,-261\"/>\n",
       "<text text-anchor=\"middle\" x=\"391.5\" y=\"-245.8\" font-family=\"Helvetica,sans-Serif\" font-size=\"14.00\">age &lt;= 43.5</text>\n",
       "<text text-anchor=\"middle\" x=\"391.5\" y=\"-230.8\" font-family=\"Helvetica,sans-Serif\" font-size=\"14.00\">entropy = 0.302</text>\n",
       "<text text-anchor=\"middle\" x=\"391.5\" y=\"-215.8\" font-family=\"Helvetica,sans-Serif\" font-size=\"14.00\">samples = 1022</text>\n",
       "<text text-anchor=\"middle\" x=\"391.5\" y=\"-200.8\" font-family=\"Helvetica,sans-Serif\" font-size=\"14.00\">value = [967, 55]</text>\n",
       "</g>\n",
       "<!-- 1&#45;&gt;2 -->\n",
       "<g id=\"edge2\" class=\"edge\">\n",
       "<title>1&#45;&gt;2</title>\n",
       "<path fill=\"none\" stroke=\"black\" d=\"M711.47,-312.12C640.79,-293.54 530.81,-264.62 459.97,-246\"/>\n",
       "<polygon fill=\"black\" stroke=\"black\" points=\"460.8,-242.6 450.24,-243.44 459.02,-249.37 460.8,-242.6\"/>\n",
       "</g>\n",
       "<!-- 9 -->\n",
       "<g id=\"node10\" class=\"node\">\n",
       "<title>9</title>\n",
       "<polygon fill=\"none\" stroke=\"black\" points=\"839.5,-261 719.5,-261 719.5,-193 839.5,-193 839.5,-261\"/>\n",
       "<text text-anchor=\"middle\" x=\"779.5\" y=\"-245.8\" font-family=\"Helvetica,sans-Serif\" font-size=\"14.00\">sysBP &lt;= 132.75</text>\n",
       "<text text-anchor=\"middle\" x=\"779.5\" y=\"-230.8\" font-family=\"Helvetica,sans-Serif\" font-size=\"14.00\">entropy = 0.509</text>\n",
       "<text text-anchor=\"middle\" x=\"779.5\" y=\"-215.8\" font-family=\"Helvetica,sans-Serif\" font-size=\"14.00\">samples = 575</text>\n",
       "<text text-anchor=\"middle\" x=\"779.5\" y=\"-200.8\" font-family=\"Helvetica,sans-Serif\" font-size=\"14.00\">value = [510, 65]</text>\n",
       "</g>\n",
       "<!-- 1&#45;&gt;9 -->\n",
       "<g id=\"edge9\" class=\"edge\">\n",
       "<title>1&#45;&gt;9</title>\n",
       "<path fill=\"none\" stroke=\"black\" d=\"M779.5,-296.88C779.5,-288.78 779.5,-279.98 779.5,-271.47\"/>\n",
       "<polygon fill=\"black\" stroke=\"black\" points=\"783,-271.3 779.5,-261.3 776,-271.3 783,-271.3\"/>\n",
       "</g>\n",
       "<!-- 3 -->\n",
       "<g id=\"node4\" class=\"node\">\n",
       "<title>3</title>\n",
       "<polygon fill=\"none\" stroke=\"black\" points=\"249,-157 132,-157 132,-89 249,-89 249,-157\"/>\n",
       "<text text-anchor=\"middle\" x=\"190.5\" y=\"-141.8\" font-family=\"Helvetica,sans-Serif\" font-size=\"14.00\">totChol &lt;= 304.5</text>\n",
       "<text text-anchor=\"middle\" x=\"190.5\" y=\"-126.8\" font-family=\"Helvetica,sans-Serif\" font-size=\"14.00\">entropy = 0.225</text>\n",
       "<text text-anchor=\"middle\" x=\"190.5\" y=\"-111.8\" font-family=\"Helvetica,sans-Serif\" font-size=\"14.00\">samples = 605</text>\n",
       "<text text-anchor=\"middle\" x=\"190.5\" y=\"-96.8\" font-family=\"Helvetica,sans-Serif\" font-size=\"14.00\">value = [583, 22]</text>\n",
       "</g>\n",
       "<!-- 2&#45;&gt;3 -->\n",
       "<g id=\"edge3\" class=\"edge\">\n",
       "<title>2&#45;&gt;3</title>\n",
       "<path fill=\"none\" stroke=\"black\" d=\"M332.82,-196.22C309.5,-184.39 282.52,-170.7 258.36,-158.44\"/>\n",
       "<polygon fill=\"black\" stroke=\"black\" points=\"259.75,-155.22 249.25,-153.81 256.58,-161.46 259.75,-155.22\"/>\n",
       "</g>\n",
       "<!-- 6 -->\n",
       "<g id=\"node7\" class=\"node\">\n",
       "<title>6</title>\n",
       "<polygon fill=\"none\" stroke=\"black\" points=\"451.5,-157 331.5,-157 331.5,-89 451.5,-89 451.5,-157\"/>\n",
       "<text text-anchor=\"middle\" x=\"391.5\" y=\"-141.8\" font-family=\"Helvetica,sans-Serif\" font-size=\"14.00\">sysBP &lt;= 194.25</text>\n",
       "<text text-anchor=\"middle\" x=\"391.5\" y=\"-126.8\" font-family=\"Helvetica,sans-Serif\" font-size=\"14.00\">entropy = 0.399</text>\n",
       "<text text-anchor=\"middle\" x=\"391.5\" y=\"-111.8\" font-family=\"Helvetica,sans-Serif\" font-size=\"14.00\">samples = 417</text>\n",
       "<text text-anchor=\"middle\" x=\"391.5\" y=\"-96.8\" font-family=\"Helvetica,sans-Serif\" font-size=\"14.00\">value = [384, 33]</text>\n",
       "</g>\n",
       "<!-- 2&#45;&gt;6 -->\n",
       "<g id=\"edge6\" class=\"edge\">\n",
       "<title>2&#45;&gt;6</title>\n",
       "<path fill=\"none\" stroke=\"black\" d=\"M391.5,-192.88C391.5,-184.78 391.5,-175.98 391.5,-167.47\"/>\n",
       "<polygon fill=\"black\" stroke=\"black\" points=\"395,-167.3 391.5,-157.3 388,-167.3 395,-167.3\"/>\n",
       "</g>\n",
       "<!-- 4 -->\n",
       "<g id=\"node5\" class=\"node\">\n",
       "<title>4</title>\n",
       "<polygon fill=\"none\" stroke=\"black\" points=\"117,-53 0,-53 0,0 117,0 117,-53\"/>\n",
       "<text text-anchor=\"middle\" x=\"58.5\" y=\"-37.8\" font-family=\"Helvetica,sans-Serif\" font-size=\"14.00\">entropy = 0.197</text>\n",
       "<text text-anchor=\"middle\" x=\"58.5\" y=\"-22.8\" font-family=\"Helvetica,sans-Serif\" font-size=\"14.00\">samples = 588</text>\n",
       "<text text-anchor=\"middle\" x=\"58.5\" y=\"-7.8\" font-family=\"Helvetica,sans-Serif\" font-size=\"14.00\">value = [570, 18]</text>\n",
       "</g>\n",
       "<!-- 3&#45;&gt;4 -->\n",
       "<g id=\"edge4\" class=\"edge\">\n",
       "<title>3&#45;&gt;4</title>\n",
       "<path fill=\"none\" stroke=\"black\" d=\"M144.33,-88.95C130.79,-79.25 116.01,-68.68 102.6,-59.07\"/>\n",
       "<polygon fill=\"black\" stroke=\"black\" points=\"104.62,-56.21 94.45,-53.24 100.54,-61.9 104.62,-56.21\"/>\n",
       "</g>\n",
       "<!-- 5 -->\n",
       "<g id=\"node6\" class=\"node\">\n",
       "<title>5</title>\n",
       "<polygon fill=\"none\" stroke=\"black\" points=\"246,-53 135,-53 135,0 246,0 246,-53\"/>\n",
       "<text text-anchor=\"middle\" x=\"190.5\" y=\"-37.8\" font-family=\"Helvetica,sans-Serif\" font-size=\"14.00\">entropy = 0.787</text>\n",
       "<text text-anchor=\"middle\" x=\"190.5\" y=\"-22.8\" font-family=\"Helvetica,sans-Serif\" font-size=\"14.00\">samples = 17</text>\n",
       "<text text-anchor=\"middle\" x=\"190.5\" y=\"-7.8\" font-family=\"Helvetica,sans-Serif\" font-size=\"14.00\">value = [13, 4]</text>\n",
       "</g>\n",
       "<!-- 3&#45;&gt;5 -->\n",
       "<g id=\"edge5\" class=\"edge\">\n",
       "<title>3&#45;&gt;5</title>\n",
       "<path fill=\"none\" stroke=\"black\" d=\"M190.5,-88.95C190.5,-80.72 190.5,-71.85 190.5,-63.48\"/>\n",
       "<polygon fill=\"black\" stroke=\"black\" points=\"194,-63.24 190.5,-53.24 187,-63.24 194,-63.24\"/>\n",
       "</g>\n",
       "<!-- 7 -->\n",
       "<g id=\"node8\" class=\"node\">\n",
       "<title>7</title>\n",
       "<polygon fill=\"none\" stroke=\"black\" points=\"381,-53 264,-53 264,0 381,0 381,-53\"/>\n",
       "<text text-anchor=\"middle\" x=\"322.5\" y=\"-37.8\" font-family=\"Helvetica,sans-Serif\" font-size=\"14.00\">entropy = 0.384</text>\n",
       "<text text-anchor=\"middle\" x=\"322.5\" y=\"-22.8\" font-family=\"Helvetica,sans-Serif\" font-size=\"14.00\">samples = 414</text>\n",
       "<text text-anchor=\"middle\" x=\"322.5\" y=\"-7.8\" font-family=\"Helvetica,sans-Serif\" font-size=\"14.00\">value = [383, 31]</text>\n",
       "</g>\n",
       "<!-- 6&#45;&gt;7 -->\n",
       "<g id=\"edge7\" class=\"edge\">\n",
       "<title>6&#45;&gt;7</title>\n",
       "<path fill=\"none\" stroke=\"black\" d=\"M367.37,-88.95C360.89,-80.07 353.87,-70.46 347.35,-61.54\"/>\n",
       "<polygon fill=\"black\" stroke=\"black\" points=\"350.02,-59.25 341.29,-53.24 344.36,-63.38 350.02,-59.25\"/>\n",
       "</g>\n",
       "<!-- 8 -->\n",
       "<g id=\"node9\" class=\"node\">\n",
       "<title>8</title>\n",
       "<polygon fill=\"none\" stroke=\"black\" points=\"510,-53 399,-53 399,0 510,0 510,-53\"/>\n",
       "<text text-anchor=\"middle\" x=\"454.5\" y=\"-37.8\" font-family=\"Helvetica,sans-Serif\" font-size=\"14.00\">entropy = 0.918</text>\n",
       "<text text-anchor=\"middle\" x=\"454.5\" y=\"-22.8\" font-family=\"Helvetica,sans-Serif\" font-size=\"14.00\">samples = 3</text>\n",
       "<text text-anchor=\"middle\" x=\"454.5\" y=\"-7.8\" font-family=\"Helvetica,sans-Serif\" font-size=\"14.00\">value = [1, 2]</text>\n",
       "</g>\n",
       "<!-- 6&#45;&gt;8 -->\n",
       "<g id=\"edge8\" class=\"edge\">\n",
       "<title>6&#45;&gt;8</title>\n",
       "<path fill=\"none\" stroke=\"black\" d=\"M413.53,-88.95C419.39,-80.17 425.72,-70.66 431.62,-61.82\"/>\n",
       "<polygon fill=\"black\" stroke=\"black\" points=\"434.71,-63.5 437.34,-53.24 428.88,-59.62 434.71,-63.5\"/>\n",
       "</g>\n",
       "<!-- 10 -->\n",
       "<g id=\"node11\" class=\"node\">\n",
       "<title>10</title>\n",
       "<polygon fill=\"none\" stroke=\"black\" points=\"771,-157 654,-157 654,-89 771,-89 771,-157\"/>\n",
       "<text text-anchor=\"middle\" x=\"712.5\" y=\"-141.8\" font-family=\"Helvetica,sans-Serif\" font-size=\"14.00\">diabetes &lt;= 0.5</text>\n",
       "<text text-anchor=\"middle\" x=\"712.5\" y=\"-126.8\" font-family=\"Helvetica,sans-Serif\" font-size=\"14.00\">entropy = 0.425</text>\n",
       "<text text-anchor=\"middle\" x=\"712.5\" y=\"-111.8\" font-family=\"Helvetica,sans-Serif\" font-size=\"14.00\">samples = 416</text>\n",
       "<text text-anchor=\"middle\" x=\"712.5\" y=\"-96.8\" font-family=\"Helvetica,sans-Serif\" font-size=\"14.00\">value = [380, 36]</text>\n",
       "</g>\n",
       "<!-- 9&#45;&gt;10 -->\n",
       "<g id=\"edge10\" class=\"edge\">\n",
       "<title>9&#45;&gt;10</title>\n",
       "<path fill=\"none\" stroke=\"black\" d=\"M757.75,-192.88C752.07,-184.24 745.88,-174.82 739.95,-165.79\"/>\n",
       "<polygon fill=\"black\" stroke=\"black\" points=\"742.79,-163.74 734.37,-157.3 736.94,-167.58 742.79,-163.74\"/>\n",
       "</g>\n",
       "<!-- 13 -->\n",
       "<g id=\"node14\" class=\"node\">\n",
       "<title>13</title>\n",
       "<polygon fill=\"none\" stroke=\"black\" points=\"906,-157 789,-157 789,-89 906,-89 906,-157\"/>\n",
       "<text text-anchor=\"middle\" x=\"847.5\" y=\"-141.8\" font-family=\"Helvetica,sans-Serif\" font-size=\"14.00\">BMI &lt;= 21.46</text>\n",
       "<text text-anchor=\"middle\" x=\"847.5\" y=\"-126.8\" font-family=\"Helvetica,sans-Serif\" font-size=\"14.00\">entropy = 0.685</text>\n",
       "<text text-anchor=\"middle\" x=\"847.5\" y=\"-111.8\" font-family=\"Helvetica,sans-Serif\" font-size=\"14.00\">samples = 159</text>\n",
       "<text text-anchor=\"middle\" x=\"847.5\" y=\"-96.8\" font-family=\"Helvetica,sans-Serif\" font-size=\"14.00\">value = [130, 29]</text>\n",
       "</g>\n",
       "<!-- 9&#45;&gt;13 -->\n",
       "<g id=\"edge13\" class=\"edge\">\n",
       "<title>9&#45;&gt;13</title>\n",
       "<path fill=\"none\" stroke=\"black\" d=\"M801.58,-192.88C807.34,-184.24 813.62,-174.82 819.64,-165.79\"/>\n",
       "<polygon fill=\"black\" stroke=\"black\" points=\"822.67,-167.56 825.3,-157.3 816.84,-163.68 822.67,-167.56\"/>\n",
       "</g>\n",
       "<!-- 11 -->\n",
       "<g id=\"node12\" class=\"node\">\n",
       "<title>11</title>\n",
       "<polygon fill=\"none\" stroke=\"black\" points=\"645,-53 528,-53 528,0 645,0 645,-53\"/>\n",
       "<text text-anchor=\"middle\" x=\"586.5\" y=\"-37.8\" font-family=\"Helvetica,sans-Serif\" font-size=\"14.00\">entropy = 0.41</text>\n",
       "<text text-anchor=\"middle\" x=\"586.5\" y=\"-22.8\" font-family=\"Helvetica,sans-Serif\" font-size=\"14.00\">samples = 413</text>\n",
       "<text text-anchor=\"middle\" x=\"586.5\" y=\"-7.8\" font-family=\"Helvetica,sans-Serif\" font-size=\"14.00\">value = [379, 34]</text>\n",
       "</g>\n",
       "<!-- 10&#45;&gt;11 -->\n",
       "<g id=\"edge11\" class=\"edge\">\n",
       "<title>10&#45;&gt;11</title>\n",
       "<path fill=\"none\" stroke=\"black\" d=\"M668.43,-88.95C655.62,-79.34 641.67,-68.87 628.96,-59.34\"/>\n",
       "<polygon fill=\"black\" stroke=\"black\" points=\"630.92,-56.44 620.82,-53.24 626.72,-62.04 630.92,-56.44\"/>\n",
       "</g>\n",
       "<!-- 12 -->\n",
       "<g id=\"node13\" class=\"node\">\n",
       "<title>12</title>\n",
       "<polygon fill=\"none\" stroke=\"black\" points=\"774,-53 663,-53 663,0 774,0 774,-53\"/>\n",
       "<text text-anchor=\"middle\" x=\"718.5\" y=\"-37.8\" font-family=\"Helvetica,sans-Serif\" font-size=\"14.00\">entropy = 0.918</text>\n",
       "<text text-anchor=\"middle\" x=\"718.5\" y=\"-22.8\" font-family=\"Helvetica,sans-Serif\" font-size=\"14.00\">samples = 3</text>\n",
       "<text text-anchor=\"middle\" x=\"718.5\" y=\"-7.8\" font-family=\"Helvetica,sans-Serif\" font-size=\"14.00\">value = [1, 2]</text>\n",
       "</g>\n",
       "<!-- 10&#45;&gt;12 -->\n",
       "<g id=\"edge12\" class=\"edge\">\n",
       "<title>10&#45;&gt;12</title>\n",
       "<path fill=\"none\" stroke=\"black\" d=\"M714.6,-88.95C715.12,-80.72 715.68,-71.85 716.22,-63.48\"/>\n",
       "<polygon fill=\"black\" stroke=\"black\" points=\"719.73,-63.44 716.87,-53.24 712.74,-62.99 719.73,-63.44\"/>\n",
       "</g>\n",
       "<!-- 14 -->\n",
       "<g id=\"node15\" class=\"node\">\n",
       "<title>14</title>\n",
       "<polygon fill=\"none\" stroke=\"black\" points=\"890.5,-53 792.5,-53 792.5,0 890.5,0 890.5,-53\"/>\n",
       "<text text-anchor=\"middle\" x=\"841.5\" y=\"-37.8\" font-family=\"Helvetica,sans-Serif\" font-size=\"14.00\">entropy = 1.0</text>\n",
       "<text text-anchor=\"middle\" x=\"841.5\" y=\"-22.8\" font-family=\"Helvetica,sans-Serif\" font-size=\"14.00\">samples = 18</text>\n",
       "<text text-anchor=\"middle\" x=\"841.5\" y=\"-7.8\" font-family=\"Helvetica,sans-Serif\" font-size=\"14.00\">value = [9, 9]</text>\n",
       "</g>\n",
       "<!-- 13&#45;&gt;14 -->\n",
       "<g id=\"edge14\" class=\"edge\">\n",
       "<title>13&#45;&gt;14</title>\n",
       "<path fill=\"none\" stroke=\"black\" d=\"M845.4,-88.95C844.88,-80.72 844.32,-71.85 843.78,-63.48\"/>\n",
       "<polygon fill=\"black\" stroke=\"black\" points=\"847.26,-62.99 843.13,-53.24 840.27,-63.44 847.26,-62.99\"/>\n",
       "</g>\n",
       "<!-- 15 -->\n",
       "<g id=\"node16\" class=\"node\">\n",
       "<title>15</title>\n",
       "<polygon fill=\"none\" stroke=\"black\" points=\"1026,-53 909,-53 909,0 1026,0 1026,-53\"/>\n",
       "<text text-anchor=\"middle\" x=\"967.5\" y=\"-37.8\" font-family=\"Helvetica,sans-Serif\" font-size=\"14.00\">entropy = 0.589</text>\n",
       "<text text-anchor=\"middle\" x=\"967.5\" y=\"-22.8\" font-family=\"Helvetica,sans-Serif\" font-size=\"14.00\">samples = 141</text>\n",
       "<text text-anchor=\"middle\" x=\"967.5\" y=\"-7.8\" font-family=\"Helvetica,sans-Serif\" font-size=\"14.00\">value = [121, 20]</text>\n",
       "</g>\n",
       "<!-- 13&#45;&gt;15 -->\n",
       "<g id=\"edge15\" class=\"edge\">\n",
       "<title>13&#45;&gt;15</title>\n",
       "<path fill=\"none\" stroke=\"black\" d=\"M889.47,-88.95C901.55,-79.43 914.71,-69.07 926.72,-59.62\"/>\n",
       "<polygon fill=\"black\" stroke=\"black\" points=\"929.13,-62.17 934.82,-53.24 924.8,-56.67 929.13,-62.17\"/>\n",
       "</g>\n",
       "<!-- 17 -->\n",
       "<g id=\"node18\" class=\"node\">\n",
       "<title>17</title>\n",
       "<polygon fill=\"none\" stroke=\"black\" points=\"1375.5,-261 1243.5,-261 1243.5,-193 1375.5,-193 1375.5,-261\"/>\n",
       "<text text-anchor=\"middle\" x=\"1309.5\" y=\"-245.8\" font-family=\"Helvetica,sans-Serif\" font-size=\"14.00\">age &lt;= 57.5</text>\n",
       "<text text-anchor=\"middle\" x=\"1309.5\" y=\"-230.8\" font-family=\"Helvetica,sans-Serif\" font-size=\"14.00\">entropy = 0.706</text>\n",
       "<text text-anchor=\"middle\" x=\"1309.5\" y=\"-215.8\" font-family=\"Helvetica,sans-Serif\" font-size=\"14.00\">samples = 1280</text>\n",
       "<text text-anchor=\"middle\" x=\"1309.5\" y=\"-200.8\" font-family=\"Helvetica,sans-Serif\" font-size=\"14.00\">value = [1034, 246]</text>\n",
       "</g>\n",
       "<!-- 16&#45;&gt;17 -->\n",
       "<g id=\"edge17\" class=\"edge\">\n",
       "<title>16&#45;&gt;17</title>\n",
       "<path fill=\"none\" stroke=\"black\" d=\"M1309.5,-296.88C1309.5,-288.78 1309.5,-279.98 1309.5,-271.47\"/>\n",
       "<polygon fill=\"black\" stroke=\"black\" points=\"1313,-271.3 1309.5,-261.3 1306,-271.3 1313,-271.3\"/>\n",
       "</g>\n",
       "<!-- 24 -->\n",
       "<g id=\"node25\" class=\"node\">\n",
       "<title>24</title>\n",
       "<polygon fill=\"none\" stroke=\"black\" points=\"1761,-261 1636,-261 1636,-193 1761,-193 1761,-261\"/>\n",
       "<text text-anchor=\"middle\" x=\"1698.5\" y=\"-245.8\" font-family=\"Helvetica,sans-Serif\" font-size=\"14.00\">male &lt;= 0.5</text>\n",
       "<text text-anchor=\"middle\" x=\"1698.5\" y=\"-230.8\" font-family=\"Helvetica,sans-Serif\" font-size=\"14.00\">entropy = 0.939</text>\n",
       "<text text-anchor=\"middle\" x=\"1698.5\" y=\"-215.8\" font-family=\"Helvetica,sans-Serif\" font-size=\"14.00\">samples = 352</text>\n",
       "<text text-anchor=\"middle\" x=\"1698.5\" y=\"-200.8\" font-family=\"Helvetica,sans-Serif\" font-size=\"14.00\">value = [227, 125]</text>\n",
       "</g>\n",
       "<!-- 16&#45;&gt;24 -->\n",
       "<g id=\"edge24\" class=\"edge\">\n",
       "<title>16&#45;&gt;24</title>\n",
       "<path fill=\"none\" stroke=\"black\" d=\"M1375.93,-312.58C1445.46,-294.35 1554.3,-265.81 1626.02,-247.01\"/>\n",
       "<polygon fill=\"black\" stroke=\"black\" points=\"1627.1,-250.34 1635.88,-244.42 1625.32,-243.57 1627.1,-250.34\"/>\n",
       "</g>\n",
       "<!-- 18 -->\n",
       "<g id=\"node19\" class=\"node\">\n",
       "<title>18</title>\n",
       "<polygon fill=\"none\" stroke=\"black\" points=\"1298,-157 1173,-157 1173,-89 1298,-89 1298,-157\"/>\n",
       "<text text-anchor=\"middle\" x=\"1235.5\" y=\"-141.8\" font-family=\"Helvetica,sans-Serif\" font-size=\"14.00\">glucose &lt;= 125.0</text>\n",
       "<text text-anchor=\"middle\" x=\"1235.5\" y=\"-126.8\" font-family=\"Helvetica,sans-Serif\" font-size=\"14.00\">entropy = 0.63</text>\n",
       "<text text-anchor=\"middle\" x=\"1235.5\" y=\"-111.8\" font-family=\"Helvetica,sans-Serif\" font-size=\"14.00\">samples = 784</text>\n",
       "<text text-anchor=\"middle\" x=\"1235.5\" y=\"-96.8\" font-family=\"Helvetica,sans-Serif\" font-size=\"14.00\">value = [660, 124]</text>\n",
       "</g>\n",
       "<!-- 17&#45;&gt;18 -->\n",
       "<g id=\"edge18\" class=\"edge\">\n",
       "<title>17&#45;&gt;18</title>\n",
       "<path fill=\"none\" stroke=\"black\" d=\"M1285.47,-192.88C1279.14,-184.15 1272.23,-174.62 1265.62,-165.51\"/>\n",
       "<polygon fill=\"black\" stroke=\"black\" points=\"1268.36,-163.34 1259.66,-157.3 1262.7,-167.45 1268.36,-163.34\"/>\n",
       "</g>\n",
       "<!-- 21 -->\n",
       "<g id=\"node22\" class=\"node\">\n",
       "<title>21</title>\n",
       "<polygon fill=\"none\" stroke=\"black\" points=\"1452.5,-157 1316.5,-157 1316.5,-89 1452.5,-89 1452.5,-157\"/>\n",
       "<text text-anchor=\"middle\" x=\"1384.5\" y=\"-141.8\" font-family=\"Helvetica,sans-Serif\" font-size=\"14.00\">cigsPerDay &lt;= 35.0</text>\n",
       "<text text-anchor=\"middle\" x=\"1384.5\" y=\"-126.8\" font-family=\"Helvetica,sans-Serif\" font-size=\"14.00\">entropy = 0.805</text>\n",
       "<text text-anchor=\"middle\" x=\"1384.5\" y=\"-111.8\" font-family=\"Helvetica,sans-Serif\" font-size=\"14.00\">samples = 496</text>\n",
       "<text text-anchor=\"middle\" x=\"1384.5\" y=\"-96.8\" font-family=\"Helvetica,sans-Serif\" font-size=\"14.00\">value = [374, 122]</text>\n",
       "</g>\n",
       "<!-- 17&#45;&gt;21 -->\n",
       "<g id=\"edge21\" class=\"edge\">\n",
       "<title>17&#45;&gt;21</title>\n",
       "<path fill=\"none\" stroke=\"black\" d=\"M1333.85,-192.88C1340.27,-184.15 1347.28,-174.62 1353.98,-165.51\"/>\n",
       "<polygon fill=\"black\" stroke=\"black\" points=\"1356.91,-167.43 1360.02,-157.3 1351.27,-163.28 1356.91,-167.43\"/>\n",
       "</g>\n",
       "<!-- 19 -->\n",
       "<g id=\"node20\" class=\"node\">\n",
       "<title>19</title>\n",
       "<polygon fill=\"none\" stroke=\"black\" points=\"1169,-53 1044,-53 1044,0 1169,0 1169,-53\"/>\n",
       "<text text-anchor=\"middle\" x=\"1106.5\" y=\"-37.8\" font-family=\"Helvetica,sans-Serif\" font-size=\"14.00\">entropy = 0.609</text>\n",
       "<text text-anchor=\"middle\" x=\"1106.5\" y=\"-22.8\" font-family=\"Helvetica,sans-Serif\" font-size=\"14.00\">samples = 769</text>\n",
       "<text text-anchor=\"middle\" x=\"1106.5\" y=\"-7.8\" font-family=\"Helvetica,sans-Serif\" font-size=\"14.00\">value = [654, 115]</text>\n",
       "</g>\n",
       "<!-- 18&#45;&gt;19 -->\n",
       "<g id=\"edge19\" class=\"edge\">\n",
       "<title>18&#45;&gt;19</title>\n",
       "<path fill=\"none\" stroke=\"black\" d=\"M1190.38,-88.95C1177.27,-79.34 1162.98,-68.87 1149.97,-59.34\"/>\n",
       "<polygon fill=\"black\" stroke=\"black\" points=\"1151.77,-56.32 1141.63,-53.24 1147.63,-61.97 1151.77,-56.32\"/>\n",
       "</g>\n",
       "<!-- 20 -->\n",
       "<g id=\"node21\" class=\"node\">\n",
       "<title>20</title>\n",
       "<polygon fill=\"none\" stroke=\"black\" points=\"1298,-53 1187,-53 1187,0 1298,0 1298,-53\"/>\n",
       "<text text-anchor=\"middle\" x=\"1242.5\" y=\"-37.8\" font-family=\"Helvetica,sans-Serif\" font-size=\"14.00\">entropy = 0.971</text>\n",
       "<text text-anchor=\"middle\" x=\"1242.5\" y=\"-22.8\" font-family=\"Helvetica,sans-Serif\" font-size=\"14.00\">samples = 15</text>\n",
       "<text text-anchor=\"middle\" x=\"1242.5\" y=\"-7.8\" font-family=\"Helvetica,sans-Serif\" font-size=\"14.00\">value = [6, 9]</text>\n",
       "</g>\n",
       "<!-- 18&#45;&gt;20 -->\n",
       "<g id=\"edge20\" class=\"edge\">\n",
       "<title>18&#45;&gt;20</title>\n",
       "<path fill=\"none\" stroke=\"black\" d=\"M1237.95,-88.95C1238.56,-80.72 1239.21,-71.85 1239.83,-63.48\"/>\n",
       "<polygon fill=\"black\" stroke=\"black\" points=\"1243.35,-63.47 1240.59,-53.24 1236.36,-62.95 1243.35,-63.47\"/>\n",
       "</g>\n",
       "<!-- 22 -->\n",
       "<g id=\"node23\" class=\"node\">\n",
       "<title>22</title>\n",
       "<polygon fill=\"none\" stroke=\"black\" points=\"1441,-53 1316,-53 1316,0 1441,0 1441,-53\"/>\n",
       "<text text-anchor=\"middle\" x=\"1378.5\" y=\"-37.8\" font-family=\"Helvetica,sans-Serif\" font-size=\"14.00\">entropy = 0.792</text>\n",
       "<text text-anchor=\"middle\" x=\"1378.5\" y=\"-22.8\" font-family=\"Helvetica,sans-Serif\" font-size=\"14.00\">samples = 487</text>\n",
       "<text text-anchor=\"middle\" x=\"1378.5\" y=\"-7.8\" font-family=\"Helvetica,sans-Serif\" font-size=\"14.00\">value = [371, 116]</text>\n",
       "</g>\n",
       "<!-- 21&#45;&gt;22 -->\n",
       "<g id=\"edge22\" class=\"edge\">\n",
       "<title>21&#45;&gt;22</title>\n",
       "<path fill=\"none\" stroke=\"black\" d=\"M1382.4,-88.95C1381.88,-80.72 1381.32,-71.85 1380.78,-63.48\"/>\n",
       "<polygon fill=\"black\" stroke=\"black\" points=\"1384.26,-62.99 1380.13,-53.24 1377.27,-63.44 1384.26,-62.99\"/>\n",
       "</g>\n",
       "<!-- 23 -->\n",
       "<g id=\"node24\" class=\"node\">\n",
       "<title>23</title>\n",
       "<polygon fill=\"none\" stroke=\"black\" points=\"1570,-53 1459,-53 1459,0 1570,0 1570,-53\"/>\n",
       "<text text-anchor=\"middle\" x=\"1514.5\" y=\"-37.8\" font-family=\"Helvetica,sans-Serif\" font-size=\"14.00\">entropy = 0.918</text>\n",
       "<text text-anchor=\"middle\" x=\"1514.5\" y=\"-22.8\" font-family=\"Helvetica,sans-Serif\" font-size=\"14.00\">samples = 9</text>\n",
       "<text text-anchor=\"middle\" x=\"1514.5\" y=\"-7.8\" font-family=\"Helvetica,sans-Serif\" font-size=\"14.00\">value = [3, 6]</text>\n",
       "</g>\n",
       "<!-- 21&#45;&gt;23 -->\n",
       "<g id=\"edge23\" class=\"edge\">\n",
       "<title>21&#45;&gt;23</title>\n",
       "<path fill=\"none\" stroke=\"black\" d=\"M1429.97,-88.95C1443.18,-79.34 1457.58,-68.87 1470.69,-59.34\"/>\n",
       "<polygon fill=\"black\" stroke=\"black\" points=\"1473.06,-61.95 1479.1,-53.24 1468.95,-56.29 1473.06,-61.95\"/>\n",
       "</g>\n",
       "<!-- 25 -->\n",
       "<g id=\"node26\" class=\"node\">\n",
       "<title>25</title>\n",
       "<polygon fill=\"none\" stroke=\"black\" points=\"1757,-157 1640,-157 1640,-89 1757,-89 1757,-157\"/>\n",
       "<text text-anchor=\"middle\" x=\"1698.5\" y=\"-141.8\" font-family=\"Helvetica,sans-Serif\" font-size=\"14.00\">diaBP &lt;= 73.0</text>\n",
       "<text text-anchor=\"middle\" x=\"1698.5\" y=\"-126.8\" font-family=\"Helvetica,sans-Serif\" font-size=\"14.00\">entropy = 0.839</text>\n",
       "<text text-anchor=\"middle\" x=\"1698.5\" y=\"-111.8\" font-family=\"Helvetica,sans-Serif\" font-size=\"14.00\">samples = 231</text>\n",
       "<text text-anchor=\"middle\" x=\"1698.5\" y=\"-96.8\" font-family=\"Helvetica,sans-Serif\" font-size=\"14.00\">value = [169, 62]</text>\n",
       "</g>\n",
       "<!-- 24&#45;&gt;25 -->\n",
       "<g id=\"edge25\" class=\"edge\">\n",
       "<title>24&#45;&gt;25</title>\n",
       "<path fill=\"none\" stroke=\"black\" d=\"M1698.5,-192.88C1698.5,-184.78 1698.5,-175.98 1698.5,-167.47\"/>\n",
       "<polygon fill=\"black\" stroke=\"black\" points=\"1702,-167.3 1698.5,-157.3 1695,-167.3 1702,-167.3\"/>\n",
       "</g>\n",
       "<!-- 28 -->\n",
       "<g id=\"node29\" class=\"node\">\n",
       "<title>28</title>\n",
       "<polygon fill=\"none\" stroke=\"black\" points=\"1950,-157 1837,-157 1837,-89 1950,-89 1950,-157\"/>\n",
       "<text text-anchor=\"middle\" x=\"1893.5\" y=\"-141.8\" font-family=\"Helvetica,sans-Serif\" font-size=\"14.00\">glucose &lt;= 89.0</text>\n",
       "<text text-anchor=\"middle\" x=\"1893.5\" y=\"-126.8\" font-family=\"Helvetica,sans-Serif\" font-size=\"14.00\">entropy = 0.999</text>\n",
       "<text text-anchor=\"middle\" x=\"1893.5\" y=\"-111.8\" font-family=\"Helvetica,sans-Serif\" font-size=\"14.00\">samples = 121</text>\n",
       "<text text-anchor=\"middle\" x=\"1893.5\" y=\"-96.8\" font-family=\"Helvetica,sans-Serif\" font-size=\"14.00\">value = [58, 63]</text>\n",
       "</g>\n",
       "<!-- 24&#45;&gt;28 -->\n",
       "<g id=\"edge28\" class=\"edge\">\n",
       "<title>24&#45;&gt;28</title>\n",
       "<path fill=\"none\" stroke=\"black\" d=\"M1761,-193.31C1782.35,-182.14 1806.28,-169.62 1827.86,-158.33\"/>\n",
       "<polygon fill=\"black\" stroke=\"black\" points=\"1829.72,-161.31 1836.96,-153.58 1826.48,-155.11 1829.72,-161.31\"/>\n",
       "</g>\n",
       "<!-- 26 -->\n",
       "<g id=\"node27\" class=\"node\">\n",
       "<title>26</title>\n",
       "<polygon fill=\"none\" stroke=\"black\" points=\"1684.5,-53 1588.5,-53 1588.5,0 1684.5,0 1684.5,-53\"/>\n",
       "<text text-anchor=\"middle\" x=\"1636.5\" y=\"-37.8\" font-family=\"Helvetica,sans-Serif\" font-size=\"14.00\">entropy = 0.0</text>\n",
       "<text text-anchor=\"middle\" x=\"1636.5\" y=\"-22.8\" font-family=\"Helvetica,sans-Serif\" font-size=\"14.00\">samples = 3</text>\n",
       "<text text-anchor=\"middle\" x=\"1636.5\" y=\"-7.8\" font-family=\"Helvetica,sans-Serif\" font-size=\"14.00\">value = [0, 3]</text>\n",
       "</g>\n",
       "<!-- 25&#45;&gt;26 -->\n",
       "<g id=\"edge26\" class=\"edge\">\n",
       "<title>25&#45;&gt;26</title>\n",
       "<path fill=\"none\" stroke=\"black\" d=\"M1676.82,-88.95C1671.05,-80.17 1664.82,-70.66 1659.01,-61.82\"/>\n",
       "<polygon fill=\"black\" stroke=\"black\" points=\"1661.8,-59.68 1653.39,-53.24 1655.94,-63.52 1661.8,-59.68\"/>\n",
       "</g>\n",
       "<!-- 27 -->\n",
       "<g id=\"node28\" class=\"node\">\n",
       "<title>27</title>\n",
       "<polygon fill=\"none\" stroke=\"black\" points=\"1820,-53 1703,-53 1703,0 1820,0 1820,-53\"/>\n",
       "<text text-anchor=\"middle\" x=\"1761.5\" y=\"-37.8\" font-family=\"Helvetica,sans-Serif\" font-size=\"14.00\">entropy = 0.825</text>\n",
       "<text text-anchor=\"middle\" x=\"1761.5\" y=\"-22.8\" font-family=\"Helvetica,sans-Serif\" font-size=\"14.00\">samples = 228</text>\n",
       "<text text-anchor=\"middle\" x=\"1761.5\" y=\"-7.8\" font-family=\"Helvetica,sans-Serif\" font-size=\"14.00\">value = [169, 59]</text>\n",
       "</g>\n",
       "<!-- 25&#45;&gt;27 -->\n",
       "<g id=\"edge27\" class=\"edge\">\n",
       "<title>25&#45;&gt;27</title>\n",
       "<path fill=\"none\" stroke=\"black\" d=\"M1720.53,-88.95C1726.39,-80.17 1732.72,-70.66 1738.62,-61.82\"/>\n",
       "<polygon fill=\"black\" stroke=\"black\" points=\"1741.71,-63.5 1744.34,-53.24 1735.88,-59.62 1741.71,-63.5\"/>\n",
       "</g>\n",
       "<!-- 29 -->\n",
       "<g id=\"node30\" class=\"node\">\n",
       "<title>29</title>\n",
       "<polygon fill=\"none\" stroke=\"black\" points=\"1949,-53 1838,-53 1838,0 1949,0 1949,-53\"/>\n",
       "<text text-anchor=\"middle\" x=\"1893.5\" y=\"-37.8\" font-family=\"Helvetica,sans-Serif\" font-size=\"14.00\">entropy = 0.984</text>\n",
       "<text text-anchor=\"middle\" x=\"1893.5\" y=\"-22.8\" font-family=\"Helvetica,sans-Serif\" font-size=\"14.00\">samples = 87</text>\n",
       "<text text-anchor=\"middle\" x=\"1893.5\" y=\"-7.8\" font-family=\"Helvetica,sans-Serif\" font-size=\"14.00\">value = [50, 37]</text>\n",
       "</g>\n",
       "<!-- 28&#45;&gt;29 -->\n",
       "<g id=\"edge29\" class=\"edge\">\n",
       "<title>28&#45;&gt;29</title>\n",
       "<path fill=\"none\" stroke=\"black\" d=\"M1893.5,-88.95C1893.5,-80.72 1893.5,-71.85 1893.5,-63.48\"/>\n",
       "<polygon fill=\"black\" stroke=\"black\" points=\"1897,-63.24 1893.5,-53.24 1890,-63.24 1897,-63.24\"/>\n",
       "</g>\n",
       "<!-- 30 -->\n",
       "<g id=\"node31\" class=\"node\">\n",
       "<title>30</title>\n",
       "<polygon fill=\"none\" stroke=\"black\" points=\"2078,-53 1967,-53 1967,0 2078,0 2078,-53\"/>\n",
       "<text text-anchor=\"middle\" x=\"2022.5\" y=\"-37.8\" font-family=\"Helvetica,sans-Serif\" font-size=\"14.00\">entropy = 0.787</text>\n",
       "<text text-anchor=\"middle\" x=\"2022.5\" y=\"-22.8\" font-family=\"Helvetica,sans-Serif\" font-size=\"14.00\">samples = 34</text>\n",
       "<text text-anchor=\"middle\" x=\"2022.5\" y=\"-7.8\" font-family=\"Helvetica,sans-Serif\" font-size=\"14.00\">value = [8, 26]</text>\n",
       "</g>\n",
       "<!-- 28&#45;&gt;30 -->\n",
       "<g id=\"edge30\" class=\"edge\">\n",
       "<title>28&#45;&gt;30</title>\n",
       "<path fill=\"none\" stroke=\"black\" d=\"M1938.62,-88.95C1951.73,-79.34 1966.02,-68.87 1979.03,-59.34\"/>\n",
       "<polygon fill=\"black\" stroke=\"black\" points=\"1981.37,-61.97 1987.37,-53.24 1977.23,-56.32 1981.37,-61.97\"/>\n",
       "</g>\n",
       "</g>\n",
       "</svg>\n"
      ],
      "text/plain": [
       "<graphviz.sources.Source at 0x1234b6350>"
      ]
     },
     "execution_count": 16,
     "metadata": {},
     "output_type": "execute_result"
    }
   ],
   "source": [
    "Source(text)"
   ]
  },
  {
   "cell_type": "code",
   "execution_count": 17,
   "id": "88440b49",
   "metadata": {},
   "outputs": [],
   "source": [
    "from sklearn.model_selection import KFold"
   ]
  },
  {
   "cell_type": "code",
   "execution_count": 18,
   "id": "7beff644",
   "metadata": {},
   "outputs": [],
   "source": [
    "cv = KFold(n_splits=10, shuffle=True, random_state=1)"
   ]
  },
  {
   "cell_type": "code",
   "execution_count": 19,
   "id": "919dcff8",
   "metadata": {},
   "outputs": [],
   "source": [
    "from sklearn.model_selection import cross_val_score\n",
    "import sklearn.metrics"
   ]
  },
  {
   "cell_type": "code",
   "execution_count": 20,
   "id": "eebb3767",
   "metadata": {},
   "outputs": [],
   "source": [
    "score = np.mean(cross_val_score(tree,X,Y,scoring=\"accuracy\",cv=cv,n_jobs=1))"
   ]
  },
  {
   "cell_type": "code",
   "execution_count": 21,
   "id": "f31656cb",
   "metadata": {},
   "outputs": [
    {
     "data": {
      "text/plain": [
       "0.8455188679245284"
      ]
     },
     "execution_count": 21,
     "metadata": {},
     "output_type": "execute_result"
    }
   ],
   "source": [
    "score"
   ]
  },
  {
   "cell_type": "code",
   "execution_count": 22,
   "id": "c9f0b62d",
   "metadata": {},
   "outputs": [
    {
     "name": "stdout",
     "output_type": "stream",
     "text": [
      "              precision    recall  f1-score   support\n",
      "\n",
      "           0       0.86      0.98      0.92       858\n",
      "           1       0.44      0.07      0.12       153\n",
      "\n",
      "    accuracy                           0.85      1011\n",
      "   macro avg       0.65      0.53      0.52      1011\n",
      "weighted avg       0.79      0.85      0.80      1011\n",
      "\n"
     ]
    }
   ],
   "source": [
    "print(classification_report(y_test,tree.predict(x_test)))"
   ]
  },
  {
   "cell_type": "markdown",
   "id": "6e399ea5",
   "metadata": {},
   "source": [
    "# Optimizacion\n",
    "Hasta este punto el arbol en una profundidad de 4 mantiene una precision de un .85 por ciento, sin embargo en el aspecto de predecir si el paciente puede desarrollar una enfermedad tiene un pobre desempeño.\n",
    "Se intentaras varias cosas extraidas de diversos articulos que he leido.\n",
    "* Maxima profundidad.\n",
    "* Numero de samples.\n",
    "* Post-pruning: se usara el cost-complexity parameter."
   ]
  },
  {
   "cell_type": "code",
   "execution_count": 24,
   "id": "4d6ff9fc",
   "metadata": {},
   "outputs": [
    {
     "name": "stdout",
     "output_type": "stream",
     "text": [
      "Score para i 1 es de:   0.8481132075471697\n",
      "Score para i 2 es de:   0.8481132075471697\n",
      "Score para i 3 es de:   0.8450471698113207\n",
      "Score para i 4 es de:   0.8462264150943397\n",
      "Score para i 5 es de:   0.8429245283018867\n",
      "Score para i 6 es de:   0.8410377358490566\n",
      "Score para i 7 es de:   0.8358490566037735\n",
      "Score para i 8 es de:   0.8334905660377359\n",
      "Score para i 9 es de:   0.8294811320754718\n",
      "Score para i 10 es de:   0.8240566037735849\n"
     ]
    }
   ],
   "source": [
    "#Una forma de hacerlo\n",
    "for i in range(1,11):\n",
    "    tree = DecisionTreeClassifier(criterion=\"entropy\", max_depth=i, min_samples_split=30, random_state=99)\n",
    "    tree.fit(X,Y)\n",
    "    cv = KFold(n_splits=10, shuffle=True, random_state=1)\n",
    "    score = np.mean(cross_val_score(tree,X,Y,scoring=\"accuracy\",cv=cv,n_jobs=1))\n",
    "    print(\"Score para i\",i ,\"es de:  \",score)\n",
    "    #print(\" \",tree.feature_importances_)"
   ]
  },
  {
   "cell_type": "code",
   "execution_count": 28,
   "id": "81e39fc2",
   "metadata": {},
   "outputs": [
    {
     "data": {
      "text/plain": [
       "4"
      ]
     },
     "execution_count": 28,
     "metadata": {},
     "output_type": "execute_result"
    }
   ],
   "source": [
    "max_depth = tree.get_depth()\n",
    "max_depth"
   ]
  },
  {
   "cell_type": "code",
   "execution_count": 29,
   "id": "6ce2143d",
   "metadata": {},
   "outputs": [],
   "source": [
    "max_depth_grid_search = GridSearchCV(\n",
    "    estimator=DecisionTreeClassifier(random_state=99),\n",
    "    scoring=make_scorer(accuracy_score),\n",
    "    param_grid = ParameterGrid(\n",
    "        {\"max_depth\": [[max_depth] for max_depth in range(1,max_depth +1)]}\n",
    "        \n",
    "    ),\n",
    ")"
   ]
  },
  {
   "cell_type": "code",
   "execution_count": 30,
   "id": "19d5f1e3",
   "metadata": {},
   "outputs": [
    {
     "data": {
      "text/plain": [
       "GridSearchCV(estimator=DecisionTreeClassifier(random_state=99),\n",
       "             param_grid=<sklearn.model_selection._search.ParameterGrid object at 0x1247736d0>,\n",
       "             scoring=make_scorer(accuracy_score))"
      ]
     },
     "execution_count": 30,
     "metadata": {},
     "output_type": "execute_result"
    }
   ],
   "source": [
    "max_depth_grid_search.fit(x_train,y_train)"
   ]
  },
  {
   "cell_type": "code",
   "execution_count": 32,
   "id": "385911af",
   "metadata": {},
   "outputs": [],
   "source": [
    "best_max_depth_tree = max_depth_grid_search.best_estimator_"
   ]
  },
  {
   "cell_type": "code",
   "execution_count": 33,
   "id": "a6fd317f",
   "metadata": {},
   "outputs": [],
   "source": [
    "best_max_depth = best_max_depth_tree.get_depth()"
   ]
  },
  {
   "cell_type": "code",
   "execution_count": 34,
   "id": "b18f3b2b",
   "metadata": {},
   "outputs": [
    {
     "data": {
      "text/plain": [
       "1"
      ]
     },
     "execution_count": 34,
     "metadata": {},
     "output_type": "execute_result"
    }
   ],
   "source": [
    "best_max_depth"
   ]
  },
  {
   "cell_type": "code",
   "execution_count": 35,
   "id": "c7ddc0c9",
   "metadata": {},
   "outputs": [
    {
     "name": "stdout",
     "output_type": "stream",
     "text": [
      "              precision    recall  f1-score   support\n",
      "\n",
      "           0       0.86      0.98      0.92       858\n",
      "           1       0.44      0.07      0.12       153\n",
      "\n",
      "    accuracy                           0.85      1011\n",
      "   macro avg       0.65      0.53      0.52      1011\n",
      "weighted avg       0.79      0.85      0.80      1011\n",
      "\n"
     ]
    }
   ],
   "source": [
    "print(classification_report(y_test,tree.predict(x_test)))"
   ]
  },
  {
   "cell_type": "markdown",
   "id": "c84e76a3",
   "metadata": {},
   "source": [
    "## Post-poda"
   ]
  },
  {
   "cell_type": "code",
   "execution_count": 36,
   "id": "274bc898",
   "metadata": {},
   "outputs": [],
   "source": [
    "ccp_alphas = tree.cost_complexity_pruning_path(x_train,y_train)[\"ccp_alphas\"]"
   ]
  },
  {
   "cell_type": "code",
   "execution_count": 37,
   "id": "59575d52",
   "metadata": {},
   "outputs": [
    {
     "data": {
      "text/plain": [
       "array([0.        , 0.00139506, 0.00147371, 0.00161453, 0.0017872 ,\n",
       "       0.00203208, 0.00230955, 0.00263088, 0.00338567, 0.003972  ,\n",
       "       0.00485421, 0.0086664 , 0.03379116])"
      ]
     },
     "execution_count": 37,
     "metadata": {},
     "output_type": "execute_result"
    }
   ],
   "source": [
    "ccp_alphas"
   ]
  },
  {
   "cell_type": "code",
   "execution_count": 38,
   "id": "044a85bf",
   "metadata": {},
   "outputs": [],
   "source": [
    "ccp_alpha_grid_search = GridSearchCV(\n",
    "    estimator=DecisionTreeClassifier(random_state=99),\n",
    "    scoring=make_scorer(accuracy_score),\n",
    "    param_grid=ParameterGrid({\"ccp_alpha\": [[alpha] for alpha in ccp_alphas]}),\n",
    ")"
   ]
  },
  {
   "cell_type": "code",
   "execution_count": 39,
   "id": "4685d676",
   "metadata": {},
   "outputs": [
    {
     "data": {
      "text/plain": [
       "GridSearchCV(estimator=DecisionTreeClassifier(random_state=99),\n",
       "             param_grid=<sklearn.model_selection._search.ParameterGrid object at 0x1254ce790>,\n",
       "             scoring=make_scorer(accuracy_score))"
      ]
     },
     "execution_count": 39,
     "metadata": {},
     "output_type": "execute_result"
    }
   ],
   "source": [
    "ccp_alpha_grid_search.fit(x_train,y_train)"
   ]
  },
  {
   "cell_type": "code",
   "execution_count": 40,
   "id": "da4edb78",
   "metadata": {},
   "outputs": [
    {
     "data": {
      "text/plain": [
       "{'ccp_alpha': 0.004854207543748587}"
      ]
     },
     "execution_count": 40,
     "metadata": {},
     "output_type": "execute_result"
    }
   ],
   "source": [
    "ccp_alpha_grid_search.best_params_"
   ]
  },
  {
   "cell_type": "code",
   "execution_count": 42,
   "id": "1ef43bba",
   "metadata": {},
   "outputs": [
    {
     "data": {
      "text/plain": [
       "DecisionTreeClassifier(ccp_alpha=0.004854207543748587, random_state=99)"
      ]
     },
     "execution_count": 42,
     "metadata": {},
     "output_type": "execute_result"
    }
   ],
   "source": [
    "best_ccp_alpha_tree = ccp_alpha_grid_search.best_estimator_\n",
    "best_ccp_alpha_tree"
   ]
  },
  {
   "cell_type": "code",
   "execution_count": 43,
   "id": "38565684",
   "metadata": {},
   "outputs": [
    {
     "data": {
      "image/png": "[encoded data removed]",
      "text/plain": [
       "<Figure size 360x360 with 1 Axes>"
      ]
     },
     "metadata": {
      "needs_background": "light"
     },
     "output_type": "display_data"
    }
   ],
   "source": [
    "plt.figure(figsize=(5,5))\n",
    "plot_tree(\n",
    "    best_ccp_alpha_tree,\n",
    "    feature_names=columnas,\n",
    "    filled=True)\n",
    "plt.show()"
   ]
  },
  {
   "cell_type": "code",
   "execution_count": 44,
   "id": "64d35f2f",
   "metadata": {},
   "outputs": [
    {
     "name": "stdout",
     "output_type": "stream",
     "text": [
      "              precision    recall  f1-score   support\n",
      "\n",
      "           0       0.85      1.00      0.92       858\n",
      "           1       0.00      0.00      0.00       153\n",
      "\n",
      "    accuracy                           0.85      1011\n",
      "   macro avg       0.42      0.50      0.46      1011\n",
      "weighted avg       0.72      0.85      0.78      1011\n",
      "\n"
     ]
    },
    {
     "name": "stderr",
     "output_type": "stream",
     "text": [
      "/Users/antonioreyesguerrero/Desktop/PythonCurso/Datos/lib/python3.7/site-packages/sklearn/metrics/_classification.py:1308: UndefinedMetricWarning: Precision and F-score are ill-defined and being set to 0.0 in labels with no predicted samples. Use `zero_division` parameter to control this behavior.\n",
      "  _warn_prf(average, modifier, msg_start, len(result))\n",
      "/Users/antonioreyesguerrero/Desktop/PythonCurso/Datos/lib/python3.7/site-packages/sklearn/metrics/_classification.py:1308: UndefinedMetricWarning: Precision and F-score are ill-defined and being set to 0.0 in labels with no predicted samples. Use `zero_division` parameter to control this behavior.\n",
      "  _warn_prf(average, modifier, msg_start, len(result))\n",
      "/Users/antonioreyesguerrero/Desktop/PythonCurso/Datos/lib/python3.7/site-packages/sklearn/metrics/_classification.py:1308: UndefinedMetricWarning: Precision and F-score are ill-defined and being set to 0.0 in labels with no predicted samples. Use `zero_division` parameter to control this behavior.\n",
      "  _warn_prf(average, modifier, msg_start, len(result))\n"
     ]
    }
   ],
   "source": [
    "print(classification_report(y_test,best_ccp_alpha_tree.predict(x_test)))"
   ]
  },
  {
   "cell_type": "markdown",
   "id": "e3bf8b13",
   "metadata": {},
   "source": []
  },
  {
   "cell_type": "code",
   "execution_count": null,
   "id": "ebb7eeb5",
   "metadata": {},
   "outputs": [],
   "source": []
  }
 ],
 "metadata": {
  "kernelspec": {
   "display_name": "Python 3 (ipykernel)",
   "language": "python",
   "name": "python3"
  },
  "language_info": {
   "codemirror_mode": {
    "name": "ipython",
    "version": 3
   },
   "file_extension": ".py",
   "mimetype": "text/x-python",
   "name": "python",
   "nbconvert_exporter": "python",
   "pygments_lexer": "ipython3",
   "version": "3.7.7"
  }
 },
 "nbformat": 4,
 "nbformat_minor": 5
}
