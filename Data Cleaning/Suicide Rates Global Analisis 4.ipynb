{
 "cells": [
  {
   "cell_type": "markdown",
   "id": "49b2358b",
   "metadata": {},
   "source": [
    "# Relacion riqueza suicidios.\n",
    "## Entre mas rico el pais disminuyen los suicidios?\n",
    "* **lmorgan95** señala que si bien es cierto hay una clara tendencia entre el paso de los años con la riqueza (GDP) depende del pais, me atreveria a señalar que depende de mas bien el enfoque de politicas publicas de cada pais\n",
    "\n",
    "* Todo el analisis anterior ha señalado que depende el pais, algunos tienen tendencia a la alza y seria incorrecto señalar que sea una relacion directa, ej EUA esta aumentando su tendencia y es el pais mas rico del mundo sin embargo los paises del norte de europa igual ricos y con un nivel de vida superior a estados unidos tienen una disminucion notoria."
   ]
  },
  {
   "cell_type": "code",
   "execution_count": 1,
   "id": "b971e0ac",
   "metadata": {},
   "outputs": [],
   "source": [
    "import pandas as pd\n",
    "import numpy as np\n",
    "import matplotlib.pyplot as plt\n",
    "import seaborn as sns"
   ]
  },
  {
   "cell_type": "code",
   "execution_count": 2,
   "id": "32824694",
   "metadata": {},
   "outputs": [
    {
     "data": {
      "text/html": [
       "<div>\n",
       "<style scoped>\n",
       "    .dataframe tbody tr th:only-of-type {\n",
       "        vertical-align: middle;\n",
       "    }\n",
       "\n",
       "    .dataframe tbody tr th {\n",
       "        vertical-align: top;\n",
       "    }\n",
       "\n",
       "    .dataframe thead th {\n",
       "        text-align: right;\n",
       "    }\n",
       "</style>\n",
       "<table border=\"1\" class=\"dataframe\">\n",
       "  <thead>\n",
       "    <tr style=\"text-align: right;\">\n",
       "      <th></th>\n",
       "      <th>Unnamed: 0</th>\n",
       "      <th>country</th>\n",
       "      <th>year</th>\n",
       "      <th>sex</th>\n",
       "      <th>age</th>\n",
       "      <th>suicides_no</th>\n",
       "      <th>population</th>\n",
       "      <th>suicides/100k pop</th>\n",
       "      <th>country-year</th>\n",
       "      <th>gdp_for_year ($)</th>\n",
       "      <th>gdp_per_capita ($)</th>\n",
       "      <th>generation</th>\n",
       "      <th>continent</th>\n",
       "    </tr>\n",
       "  </thead>\n",
       "  <tbody>\n",
       "    <tr>\n",
       "      <th>0</th>\n",
       "      <td>0</td>\n",
       "      <td>Albania</td>\n",
       "      <td>1987</td>\n",
       "      <td>male</td>\n",
       "      <td>15-24 years</td>\n",
       "      <td>21</td>\n",
       "      <td>312900</td>\n",
       "      <td>6.71</td>\n",
       "      <td>Albania1987</td>\n",
       "      <td>2,156,624,900</td>\n",
       "      <td>796</td>\n",
       "      <td>Generation X</td>\n",
       "      <td>EU</td>\n",
       "    </tr>\n",
       "  </tbody>\n",
       "</table>\n",
       "</div>"
      ],
      "text/plain": [
       "   Unnamed: 0  country  year   sex          age  suicides_no  population  \\\n",
       "0           0  Albania  1987  male  15-24 years           21      312900   \n",
       "\n",
       "   suicides/100k pop country-year  gdp_for_year ($)   gdp_per_capita ($)  \\\n",
       "0               6.71  Albania1987      2,156,624,900                 796   \n",
       "\n",
       "     generation continent  \n",
       "0  Generation X        EU  "
      ]
     },
     "execution_count": 2,
     "metadata": {},
     "output_type": "execute_result"
    }
   ],
   "source": [
    "df = pd.read_csv(\"masterClean.csv\")\n",
    "df.head(1)"
   ]
  },
  {
   "cell_type": "code",
   "execution_count": 3,
   "id": "eb680bec",
   "metadata": {},
   "outputs": [
    {
     "data": {
      "text/html": [
       "<div>\n",
       "<style scoped>\n",
       "    .dataframe tbody tr th:only-of-type {\n",
       "        vertical-align: middle;\n",
       "    }\n",
       "\n",
       "    .dataframe tbody tr th {\n",
       "        vertical-align: top;\n",
       "    }\n",
       "\n",
       "    .dataframe thead th {\n",
       "        text-align: right;\n",
       "    }\n",
       "</style>\n",
       "<table border=\"1\" class=\"dataframe\">\n",
       "  <thead>\n",
       "    <tr style=\"text-align: right;\">\n",
       "      <th></th>\n",
       "      <th>country</th>\n",
       "      <th>year</th>\n",
       "      <th>sex</th>\n",
       "      <th>age</th>\n",
       "      <th>suicides_no</th>\n",
       "      <th>population</th>\n",
       "      <th>suicides/100k pop</th>\n",
       "      <th>country-year</th>\n",
       "      <th>gdp_for_year ($)</th>\n",
       "      <th>gdp_per_capita ($)</th>\n",
       "      <th>generation</th>\n",
       "      <th>continent</th>\n",
       "    </tr>\n",
       "  </thead>\n",
       "  <tbody>\n",
       "    <tr>\n",
       "      <th>0</th>\n",
       "      <td>Albania</td>\n",
       "      <td>1987</td>\n",
       "      <td>male</td>\n",
       "      <td>15-24 years</td>\n",
       "      <td>21</td>\n",
       "      <td>312900</td>\n",
       "      <td>6.71</td>\n",
       "      <td>Albania1987</td>\n",
       "      <td>2,156,624,900</td>\n",
       "      <td>796</td>\n",
       "      <td>Generation X</td>\n",
       "      <td>EU</td>\n",
       "    </tr>\n",
       "  </tbody>\n",
       "</table>\n",
       "</div>"
      ],
      "text/plain": [
       "   country  year   sex          age  suicides_no  population  \\\n",
       "0  Albania  1987  male  15-24 years           21      312900   \n",
       "\n",
       "   suicides/100k pop country-year  gdp_for_year ($)   gdp_per_capita ($)  \\\n",
       "0               6.71  Albania1987      2,156,624,900                 796   \n",
       "\n",
       "     generation continent  \n",
       "0  Generation X        EU  "
      ]
     },
     "execution_count": 3,
     "metadata": {},
     "output_type": "execute_result"
    }
   ],
   "source": [
    "df.drop(columns=[\"Unnamed: 0\"], inplace=True)\n",
    "df[\"continent\"] = df[\"continent\"].fillna(\"NA\")\n",
    "df.head(1)"
   ]
  },
  {
   "cell_type": "code",
   "execution_count": 4,
   "id": "38ae4561",
   "metadata": {},
   "outputs": [],
   "source": [
    "df.drop(df[df[\"country\"] == \"Macau\"].index, inplace=True)"
   ]
  },
  {
   "cell_type": "code",
   "execution_count": 40,
   "id": "97e1d244",
   "metadata": {},
   "outputs": [],
   "source": [
    "df_GDP = df[[\"country\",\"year\",\"gdp_per_capita ($)\"]]"
   ]
  },
  {
   "cell_type": "code",
   "execution_count": 42,
   "id": "29d00340",
   "metadata": {},
   "outputs": [
    {
     "name": "stderr",
     "output_type": "stream",
     "text": [
      "/Users/antonioreyesguerrero/Desktop/PythonCurso/Datos/lib/python3.7/site-packages/ipykernel_launcher.py:1: FutureWarning: Indexing with multiple keys (implicitly converted to a tuple of keys) will be deprecated, use a list instead.\n",
      "  \"\"\"Entry point for launching an IPython kernel.\n"
     ]
    },
    {
     "data": {
      "text/plain": [
       "year                  0.938162\n",
       "gdp_per_capita ($)    0.938162\n",
       "dtype: float64"
      ]
     },
     "execution_count": 42,
     "metadata": {},
     "output_type": "execute_result"
    }
   ],
   "source": [
    "df_GDP.groupby([\"country\"])[\"year\",\"gdp_per_capita ($)\"].corr().mean()"
   ]
  },
  {
   "cell_type": "markdown",
   "id": "14b22851",
   "metadata": {},
   "source": [
    "- Calculando la correlacion entre las dos variables año y gdp per capita por pais. Sale que existe un correlacion muy fuerte entre avance de año y crecimiento economico. Y existe una correlacion muy alta entre esas dos variables.\n",
    "- Esto hace que preguntarse si la riqueza tiene un impacto directo sobre la tasa de suicidios sea igual a decir que la tasa de suicidio aumenta con el tiempo. Dado que no todos los paises son iguales no es correcto eso.\n",
    "\n",
    "Desde mi perspectiva esto hace inutil que cualquier intento de hacer estimaciones basados en indices tan tecnicos no tengan tanto sentido. Es curioso como estados unidos no representaba una tasa tan alta como paises de Europa a pesar de ser un pais mucho mas rico, y que los paises con altas tasas de suicidios en Europa coincidan con un envejecimiento general del continente, lugares con zonas en conflicto o diversas medidas sociales que no resultaron."
   ]
  },
  {
   "cell_type": "markdown",
   "id": "9288d034",
   "metadata": {},
   "source": [
    "## Sobre el uso de la variable generaciones:\n",
    "La informacion no es tan consistente entre si, hay grupos con picos extraños e incluso que no son continuos\n",
    "el autor del reporte evito usar estas variables debido a que no son muy buenas para sacar conclusiones tan concretas."
   ]
  },
  {
   "cell_type": "code",
   "execution_count": null,
   "id": "f7749730",
   "metadata": {},
   "outputs": [],
   "source": []
  }
 ],
 "metadata": {
  "kernelspec": {
   "display_name": "Python 3 (ipykernel)",
   "language": "python",
   "name": "python3"
  },
  "language_info": {
   "codemirror_mode": {
    "name": "ipython",
    "version": 3
   },
   "file_extension": ".py",
   "mimetype": "text/x-python",
   "name": "python",
   "nbconvert_exporter": "python",
   "pygments_lexer": "ipython3",
   "version": "3.7.7"
  }
 },
 "nbformat": 4,
 "nbformat_minor": 5
}
