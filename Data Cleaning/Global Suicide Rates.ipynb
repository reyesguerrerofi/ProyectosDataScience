{
 "cells": [
  {
   "cell_type": "markdown",
   "id": "5eb7d3b1",
   "metadata": {},
   "source": [
    "## Global Suicide Rates\n",
    "Hola!, este es un analisis de estadisticas de suicidio desde 1987-2015\n",
    "Como no tengo imaginacion por el momento, tomare inspiracion del analisis que hace **Liam Morgan** en Kaggle.\n",
    "El lo hizo todo en R asi que yo solo tomare los puntos que trató en su reporte y los trasladare a este Notebook en Python. Con el proposito de tener un analisis en Español y totalmente libre par acceder a el (en especial quien quiera aprender Ciencias de Datos xD).\n",
    "\n",
    "Saludos!  **Antonio RG.**\n",
    "\n",
    "Source:  https://www.kaggle.com/russellyates88/suicide-rates-overview-1985-to-2016\n"
   ]
  },
  {
   "cell_type": "markdown",
   "id": "e8a14a4a",
   "metadata": {},
   "source": [
    "#### Se hara paso por paso lo que yo considero que debe ser un Pipeline a seguir."
   ]
  },
  {
   "cell_type": "code",
   "execution_count": 1,
   "id": "4f1f0dd9",
   "metadata": {},
   "outputs": [],
   "source": [
    "import pandas as pd\n",
    "import pycountry"
   ]
  },
  {
   "cell_type": "code",
   "execution_count": 2,
   "id": "afb0a634",
   "metadata": {},
   "outputs": [
    {
     "data": {
      "text/html": [
       "<div>\n",
       "<style scoped>\n",
       "    .dataframe tbody tr th:only-of-type {\n",
       "        vertical-align: middle;\n",
       "    }\n",
       "\n",
       "    .dataframe tbody tr th {\n",
       "        vertical-align: top;\n",
       "    }\n",
       "\n",
       "    .dataframe thead th {\n",
       "        text-align: right;\n",
       "    }\n",
       "</style>\n",
       "<table border=\"1\" class=\"dataframe\">\n",
       "  <thead>\n",
       "    <tr style=\"text-align: right;\">\n",
       "      <th></th>\n",
       "      <th>country</th>\n",
       "      <th>year</th>\n",
       "      <th>sex</th>\n",
       "      <th>age</th>\n",
       "      <th>suicides_no</th>\n",
       "      <th>population</th>\n",
       "      <th>suicides/100k pop</th>\n",
       "      <th>country-year</th>\n",
       "      <th>HDI for year</th>\n",
       "      <th>gdp_for_year ($)</th>\n",
       "      <th>gdp_per_capita ($)</th>\n",
       "      <th>generation</th>\n",
       "    </tr>\n",
       "  </thead>\n",
       "  <tbody>\n",
       "    <tr>\n",
       "      <th>0</th>\n",
       "      <td>Albania</td>\n",
       "      <td>1987</td>\n",
       "      <td>male</td>\n",
       "      <td>15-24 years</td>\n",
       "      <td>21</td>\n",
       "      <td>312900</td>\n",
       "      <td>6.71</td>\n",
       "      <td>Albania1987</td>\n",
       "      <td>NaN</td>\n",
       "      <td>2,156,624,900</td>\n",
       "      <td>796</td>\n",
       "      <td>Generation X</td>\n",
       "    </tr>\n",
       "    <tr>\n",
       "      <th>1</th>\n",
       "      <td>Albania</td>\n",
       "      <td>1987</td>\n",
       "      <td>male</td>\n",
       "      <td>35-54 years</td>\n",
       "      <td>16</td>\n",
       "      <td>308000</td>\n",
       "      <td>5.19</td>\n",
       "      <td>Albania1987</td>\n",
       "      <td>NaN</td>\n",
       "      <td>2,156,624,900</td>\n",
       "      <td>796</td>\n",
       "      <td>Silent</td>\n",
       "    </tr>\n",
       "    <tr>\n",
       "      <th>2</th>\n",
       "      <td>Albania</td>\n",
       "      <td>1987</td>\n",
       "      <td>female</td>\n",
       "      <td>15-24 years</td>\n",
       "      <td>14</td>\n",
       "      <td>289700</td>\n",
       "      <td>4.83</td>\n",
       "      <td>Albania1987</td>\n",
       "      <td>NaN</td>\n",
       "      <td>2,156,624,900</td>\n",
       "      <td>796</td>\n",
       "      <td>Generation X</td>\n",
       "    </tr>\n",
       "    <tr>\n",
       "      <th>3</th>\n",
       "      <td>Albania</td>\n",
       "      <td>1987</td>\n",
       "      <td>male</td>\n",
       "      <td>75+ years</td>\n",
       "      <td>1</td>\n",
       "      <td>21800</td>\n",
       "      <td>4.59</td>\n",
       "      <td>Albania1987</td>\n",
       "      <td>NaN</td>\n",
       "      <td>2,156,624,900</td>\n",
       "      <td>796</td>\n",
       "      <td>G.I. Generation</td>\n",
       "    </tr>\n",
       "    <tr>\n",
       "      <th>4</th>\n",
       "      <td>Albania</td>\n",
       "      <td>1987</td>\n",
       "      <td>male</td>\n",
       "      <td>25-34 years</td>\n",
       "      <td>9</td>\n",
       "      <td>274300</td>\n",
       "      <td>3.28</td>\n",
       "      <td>Albania1987</td>\n",
       "      <td>NaN</td>\n",
       "      <td>2,156,624,900</td>\n",
       "      <td>796</td>\n",
       "      <td>Boomers</td>\n",
       "    </tr>\n",
       "  </tbody>\n",
       "</table>\n",
       "</div>"
      ],
      "text/plain": [
       "   country  year     sex          age  suicides_no  population  \\\n",
       "0  Albania  1987    male  15-24 years           21      312900   \n",
       "1  Albania  1987    male  35-54 years           16      308000   \n",
       "2  Albania  1987  female  15-24 years           14      289700   \n",
       "3  Albania  1987    male    75+ years            1       21800   \n",
       "4  Albania  1987    male  25-34 years            9      274300   \n",
       "\n",
       "   suicides/100k pop country-year  HDI for year  gdp_for_year ($)   \\\n",
       "0               6.71  Albania1987           NaN      2,156,624,900   \n",
       "1               5.19  Albania1987           NaN      2,156,624,900   \n",
       "2               4.83  Albania1987           NaN      2,156,624,900   \n",
       "3               4.59  Albania1987           NaN      2,156,624,900   \n",
       "4               3.28  Albania1987           NaN      2,156,624,900   \n",
       "\n",
       "   gdp_per_capita ($)       generation  \n",
       "0                 796     Generation X  \n",
       "1                 796           Silent  \n",
       "2                 796     Generation X  \n",
       "3                 796  G.I. Generation  \n",
       "4                 796          Boomers  "
      ]
     },
     "execution_count": 2,
     "metadata": {},
     "output_type": "execute_result"
    }
   ],
   "source": [
    "df = pd.read_csv(\"master.csv\")\n",
    "df.head() "
   ]
  },
  {
   "cell_type": "markdown",
   "id": "9261ba89",
   "metadata": {},
   "source": [
    "### Funciones para tratar la informacion y ahorrar trabajo.\n",
    "Nota: Se intentara hacer un ejemplo manual para demostrar el fundamento de las funciones."
   ]
  },
  {
   "cell_type": "code",
   "execution_count": 3,
   "id": "9c368811",
   "metadata": {},
   "outputs": [],
   "source": [
    "def busca_na(column):\n",
    "    return pd.notnull(df[column]).values.ravel().sum()"
   ]
  },
  {
   "cell_type": "markdown",
   "id": "1392aba2",
   "metadata": {},
   "source": [
    "### Descripcion basica del DF."
   ]
  },
  {
   "cell_type": "code",
   "execution_count": 4,
   "id": "44695b50",
   "metadata": {},
   "outputs": [
    {
     "data": {
      "text/plain": [
       "(27820, 12)"
      ]
     },
     "execution_count": 4,
     "metadata": {},
     "output_type": "execute_result"
    }
   ],
   "source": [
    "df.shape #12 columnas ~28k registros."
   ]
  },
  {
   "cell_type": "code",
   "execution_count": 5,
   "id": "25ebf168",
   "metadata": {},
   "outputs": [
    {
     "data": {
      "text/plain": [
       "array(['country', 'year', 'sex', 'age', 'suicides_no', 'population',\n",
       "       'suicides/100k pop', 'country-year', 'HDI for year',\n",
       "       ' gdp_for_year ($) ', 'gdp_per_capita ($)', 'generation'],\n",
       "      dtype=object)"
      ]
     },
     "execution_count": 5,
     "metadata": {},
     "output_type": "execute_result"
    }
   ],
   "source": [
    "df.columns.values #Columnas"
   ]
  },
  {
   "cell_type": "code",
   "execution_count": 6,
   "id": "01dc1557",
   "metadata": {},
   "outputs": [
    {
     "data": {
      "text/plain": [
       "country                object\n",
       "year                    int64\n",
       "sex                    object\n",
       "age                    object\n",
       "suicides_no             int64\n",
       "population              int64\n",
       "suicides/100k pop     float64\n",
       "country-year           object\n",
       "HDI for year          float64\n",
       " gdp_for_year ($)      object\n",
       "gdp_per_capita ($)      int64\n",
       "generation             object\n",
       "dtype: object"
      ]
     },
     "execution_count": 6,
     "metadata": {},
     "output_type": "execute_result"
    }
   ],
   "source": [
    "df.dtypes  #Tipo de cada columna: Se debe revisar para saber si hay que formatear de alguna forma"
   ]
  },
  {
   "cell_type": "code",
   "execution_count": 7,
   "id": "b5231e2c",
   "metadata": {},
   "outputs": [
    {
     "data": {
      "text/html": [
       "<div>\n",
       "<style scoped>\n",
       "    .dataframe tbody tr th:only-of-type {\n",
       "        vertical-align: middle;\n",
       "    }\n",
       "\n",
       "    .dataframe tbody tr th {\n",
       "        vertical-align: top;\n",
       "    }\n",
       "\n",
       "    .dataframe thead th {\n",
       "        text-align: right;\n",
       "    }\n",
       "</style>\n",
       "<table border=\"1\" class=\"dataframe\">\n",
       "  <thead>\n",
       "    <tr style=\"text-align: right;\">\n",
       "      <th></th>\n",
       "      <th>year</th>\n",
       "      <th>suicides_no</th>\n",
       "      <th>population</th>\n",
       "      <th>suicides/100k pop</th>\n",
       "      <th>HDI for year</th>\n",
       "      <th>gdp_per_capita ($)</th>\n",
       "    </tr>\n",
       "  </thead>\n",
       "  <tbody>\n",
       "    <tr>\n",
       "      <th>count</th>\n",
       "      <td>27820.000000</td>\n",
       "      <td>27820.000000</td>\n",
       "      <td>2.782000e+04</td>\n",
       "      <td>27820.000000</td>\n",
       "      <td>8364.000000</td>\n",
       "      <td>27820.000000</td>\n",
       "    </tr>\n",
       "    <tr>\n",
       "      <th>mean</th>\n",
       "      <td>2001.258375</td>\n",
       "      <td>242.574407</td>\n",
       "      <td>1.844794e+06</td>\n",
       "      <td>12.816097</td>\n",
       "      <td>0.776601</td>\n",
       "      <td>16866.464414</td>\n",
       "    </tr>\n",
       "    <tr>\n",
       "      <th>std</th>\n",
       "      <td>8.469055</td>\n",
       "      <td>902.047917</td>\n",
       "      <td>3.911779e+06</td>\n",
       "      <td>18.961511</td>\n",
       "      <td>0.093367</td>\n",
       "      <td>18887.576472</td>\n",
       "    </tr>\n",
       "    <tr>\n",
       "      <th>min</th>\n",
       "      <td>1985.000000</td>\n",
       "      <td>0.000000</td>\n",
       "      <td>2.780000e+02</td>\n",
       "      <td>0.000000</td>\n",
       "      <td>0.483000</td>\n",
       "      <td>251.000000</td>\n",
       "    </tr>\n",
       "    <tr>\n",
       "      <th>25%</th>\n",
       "      <td>1995.000000</td>\n",
       "      <td>3.000000</td>\n",
       "      <td>9.749850e+04</td>\n",
       "      <td>0.920000</td>\n",
       "      <td>0.713000</td>\n",
       "      <td>3447.000000</td>\n",
       "    </tr>\n",
       "    <tr>\n",
       "      <th>50%</th>\n",
       "      <td>2002.000000</td>\n",
       "      <td>25.000000</td>\n",
       "      <td>4.301500e+05</td>\n",
       "      <td>5.990000</td>\n",
       "      <td>0.779000</td>\n",
       "      <td>9372.000000</td>\n",
       "    </tr>\n",
       "    <tr>\n",
       "      <th>75%</th>\n",
       "      <td>2008.000000</td>\n",
       "      <td>131.000000</td>\n",
       "      <td>1.486143e+06</td>\n",
       "      <td>16.620000</td>\n",
       "      <td>0.855000</td>\n",
       "      <td>24874.000000</td>\n",
       "    </tr>\n",
       "    <tr>\n",
       "      <th>max</th>\n",
       "      <td>2016.000000</td>\n",
       "      <td>22338.000000</td>\n",
       "      <td>4.380521e+07</td>\n",
       "      <td>224.970000</td>\n",
       "      <td>0.944000</td>\n",
       "      <td>126352.000000</td>\n",
       "    </tr>\n",
       "  </tbody>\n",
       "</table>\n",
       "</div>"
      ],
      "text/plain": [
       "               year   suicides_no    population  suicides/100k pop  \\\n",
       "count  27820.000000  27820.000000  2.782000e+04       27820.000000   \n",
       "mean    2001.258375    242.574407  1.844794e+06          12.816097   \n",
       "std        8.469055    902.047917  3.911779e+06          18.961511   \n",
       "min     1985.000000      0.000000  2.780000e+02           0.000000   \n",
       "25%     1995.000000      3.000000  9.749850e+04           0.920000   \n",
       "50%     2002.000000     25.000000  4.301500e+05           5.990000   \n",
       "75%     2008.000000    131.000000  1.486143e+06          16.620000   \n",
       "max     2016.000000  22338.000000  4.380521e+07         224.970000   \n",
       "\n",
       "       HDI for year  gdp_per_capita ($)  \n",
       "count   8364.000000        27820.000000  \n",
       "mean       0.776601        16866.464414  \n",
       "std        0.093367        18887.576472  \n",
       "min        0.483000          251.000000  \n",
       "25%        0.713000         3447.000000  \n",
       "50%        0.779000         9372.000000  \n",
       "75%        0.855000        24874.000000  \n",
       "max        0.944000       126352.000000  "
      ]
     },
     "execution_count": 7,
     "metadata": {},
     "output_type": "execute_result"
    }
   ],
   "source": [
    "#Una descripcion basica inicial.\n",
    "df.describe() #No siempre da una buena idea inicial pero vale la pena revisarla. "
   ]
  },
  {
   "cell_type": "code",
   "execution_count": 8,
   "id": "762bdc84",
   "metadata": {},
   "outputs": [
    {
     "data": {
      "text/plain": [
       "0        False\n",
       "1        False\n",
       "2        False\n",
       "3        False\n",
       "4        False\n",
       "         ...  \n",
       "27815    False\n",
       "27816    False\n",
       "27817    False\n",
       "27818    False\n",
       "27819    False\n",
       "Name: year, Length: 27820, dtype: bool"
      ]
     },
     "execution_count": 8,
     "metadata": {},
     "output_type": "execute_result"
    }
   ],
   "source": [
    "#Revisaremos valores faltantes.\n",
    "pd.isnull(df[\"year\"])"
   ]
  },
  {
   "cell_type": "code",
   "execution_count": 9,
   "id": "21c6fd85",
   "metadata": {},
   "outputs": [
    {
     "data": {
      "text/plain": [
       "0        True\n",
       "1        True\n",
       "2        True\n",
       "3        True\n",
       "4        True\n",
       "         ... \n",
       "27815    True\n",
       "27816    True\n",
       "27817    True\n",
       "27818    True\n",
       "27819    True\n",
       "Name: year, Length: 27820, dtype: bool"
      ]
     },
     "execution_count": 9,
     "metadata": {},
     "output_type": "execute_result"
    }
   ],
   "source": [
    "pd.notnull(df[\"year\"])"
   ]
  },
  {
   "cell_type": "code",
   "execution_count": 10,
   "id": "194fd8f8",
   "metadata": {},
   "outputs": [
    {
     "data": {
      "text/plain": [
       "27820"
      ]
     },
     "execution_count": 10,
     "metadata": {},
     "output_type": "execute_result"
    }
   ],
   "source": [
    "busca_na(\"year\")"
   ]
  },
  {
   "cell_type": "code",
   "execution_count": 11,
   "id": "f7493b87",
   "metadata": {},
   "outputs": [
    {
     "data": {
      "text/plain": [
       "['country',\n",
       " 'year',\n",
       " 'sex',\n",
       " 'age',\n",
       " 'suicides_no',\n",
       " 'population',\n",
       " 'suicides/100k pop',\n",
       " 'country-year',\n",
       " 'HDI for year',\n",
       " ' gdp_for_year ($) ',\n",
       " 'gdp_per_capita ($)',\n",
       " 'generation']"
      ]
     },
     "execution_count": 11,
     "metadata": {},
     "output_type": "execute_result"
    }
   ],
   "source": [
    "columnas = df.columns.values.tolist()\n",
    "columnas  "
   ]
  },
  {
   "cell_type": "code",
   "execution_count": 12,
   "id": "20ab0d1b",
   "metadata": {},
   "outputs": [
    {
     "name": "stdout",
     "output_type": "stream",
     "text": [
      "27820\n",
      "27820\n",
      "27820\n",
      "27820\n",
      "27820\n",
      "27820\n",
      "27820\n",
      "27820\n",
      "8364\n",
      "27820\n",
      "27820\n",
      "27820\n"
     ]
    }
   ],
   "source": [
    "for c in columnas:\n",
    "    print(busca_na(c))\n",
    "# 'HDI for year',  es la columna con mas perdida de informacion"
   ]
  },
  {
   "cell_type": "code",
   "execution_count": 13,
   "id": "8e7d450d",
   "metadata": {},
   "outputs": [
    {
     "data": {
      "text/plain": [
       "0.30064701653486703"
      ]
     },
     "execution_count": 13,
     "metadata": {},
     "output_type": "execute_result"
    }
   ],
   "source": [
    "8364/27820 #Representa el 30% de la informacion. Es demasiada asi que se no se usara la columna completa. Indice de desarrollo humano"
   ]
  },
  {
   "cell_type": "code",
   "execution_count": 14,
   "id": "ee91b771",
   "metadata": {},
   "outputs": [],
   "source": [
    "df2 = df"
   ]
  },
  {
   "cell_type": "code",
   "execution_count": 15,
   "id": "a2b234c1",
   "metadata": {},
   "outputs": [
    {
     "data": {
      "text/html": [
       "<div>\n",
       "<style scoped>\n",
       "    .dataframe tbody tr th:only-of-type {\n",
       "        vertical-align: middle;\n",
       "    }\n",
       "\n",
       "    .dataframe tbody tr th {\n",
       "        vertical-align: top;\n",
       "    }\n",
       "\n",
       "    .dataframe thead th {\n",
       "        text-align: right;\n",
       "    }\n",
       "</style>\n",
       "<table border=\"1\" class=\"dataframe\">\n",
       "  <thead>\n",
       "    <tr style=\"text-align: right;\">\n",
       "      <th></th>\n",
       "      <th>country</th>\n",
       "      <th>year</th>\n",
       "      <th>sex</th>\n",
       "      <th>age</th>\n",
       "      <th>suicides_no</th>\n",
       "      <th>population</th>\n",
       "      <th>suicides/100k pop</th>\n",
       "      <th>country-year</th>\n",
       "      <th>gdp_for_year ($)</th>\n",
       "      <th>gdp_per_capita ($)</th>\n",
       "      <th>generation</th>\n",
       "    </tr>\n",
       "  </thead>\n",
       "  <tbody>\n",
       "    <tr>\n",
       "      <th>0</th>\n",
       "      <td>Albania</td>\n",
       "      <td>1987</td>\n",
       "      <td>male</td>\n",
       "      <td>15-24 years</td>\n",
       "      <td>21</td>\n",
       "      <td>312900</td>\n",
       "      <td>6.71</td>\n",
       "      <td>Albania1987</td>\n",
       "      <td>2,156,624,900</td>\n",
       "      <td>796</td>\n",
       "      <td>Generation X</td>\n",
       "    </tr>\n",
       "    <tr>\n",
       "      <th>1</th>\n",
       "      <td>Albania</td>\n",
       "      <td>1987</td>\n",
       "      <td>male</td>\n",
       "      <td>35-54 years</td>\n",
       "      <td>16</td>\n",
       "      <td>308000</td>\n",
       "      <td>5.19</td>\n",
       "      <td>Albania1987</td>\n",
       "      <td>2,156,624,900</td>\n",
       "      <td>796</td>\n",
       "      <td>Silent</td>\n",
       "    </tr>\n",
       "    <tr>\n",
       "      <th>2</th>\n",
       "      <td>Albania</td>\n",
       "      <td>1987</td>\n",
       "      <td>female</td>\n",
       "      <td>15-24 years</td>\n",
       "      <td>14</td>\n",
       "      <td>289700</td>\n",
       "      <td>4.83</td>\n",
       "      <td>Albania1987</td>\n",
       "      <td>2,156,624,900</td>\n",
       "      <td>796</td>\n",
       "      <td>Generation X</td>\n",
       "    </tr>\n",
       "    <tr>\n",
       "      <th>3</th>\n",
       "      <td>Albania</td>\n",
       "      <td>1987</td>\n",
       "      <td>male</td>\n",
       "      <td>75+ years</td>\n",
       "      <td>1</td>\n",
       "      <td>21800</td>\n",
       "      <td>4.59</td>\n",
       "      <td>Albania1987</td>\n",
       "      <td>2,156,624,900</td>\n",
       "      <td>796</td>\n",
       "      <td>G.I. Generation</td>\n",
       "    </tr>\n",
       "    <tr>\n",
       "      <th>4</th>\n",
       "      <td>Albania</td>\n",
       "      <td>1987</td>\n",
       "      <td>male</td>\n",
       "      <td>25-34 years</td>\n",
       "      <td>9</td>\n",
       "      <td>274300</td>\n",
       "      <td>3.28</td>\n",
       "      <td>Albania1987</td>\n",
       "      <td>2,156,624,900</td>\n",
       "      <td>796</td>\n",
       "      <td>Boomers</td>\n",
       "    </tr>\n",
       "  </tbody>\n",
       "</table>\n",
       "</div>"
      ],
      "text/plain": [
       "   country  year     sex          age  suicides_no  population  \\\n",
       "0  Albania  1987    male  15-24 years           21      312900   \n",
       "1  Albania  1987    male  35-54 years           16      308000   \n",
       "2  Albania  1987  female  15-24 years           14      289700   \n",
       "3  Albania  1987    male    75+ years            1       21800   \n",
       "4  Albania  1987    male  25-34 years            9      274300   \n",
       "\n",
       "   suicides/100k pop country-year  gdp_for_year ($)   gdp_per_capita ($)  \\\n",
       "0               6.71  Albania1987      2,156,624,900                 796   \n",
       "1               5.19  Albania1987      2,156,624,900                 796   \n",
       "2               4.83  Albania1987      2,156,624,900                 796   \n",
       "3               4.59  Albania1987      2,156,624,900                 796   \n",
       "4               3.28  Albania1987      2,156,624,900                 796   \n",
       "\n",
       "        generation  \n",
       "0     Generation X  \n",
       "1           Silent  \n",
       "2     Generation X  \n",
       "3  G.I. Generation  \n",
       "4          Boomers  "
      ]
     },
     "execution_count": 15,
     "metadata": {},
     "output_type": "execute_result"
    }
   ],
   "source": [
    "df2.drop(columns=['HDI for year'], inplace=True)\n",
    "df2.head()"
   ]
  },
  {
   "cell_type": "code",
   "execution_count": 16,
   "id": "d833b2ce",
   "metadata": {},
   "outputs": [
    {
     "data": {
      "text/plain": [
       "(27820, 11)"
      ]
     },
     "execution_count": 16,
     "metadata": {},
     "output_type": "execute_result"
    }
   ],
   "source": [
    "df2.shape"
   ]
  },
  {
   "cell_type": "code",
   "execution_count": 17,
   "id": "88001d51",
   "metadata": {},
   "outputs": [],
   "source": [
    "country = df2[\"country\"].unique().tolist()"
   ]
  },
  {
   "cell_type": "code",
   "execution_count": 18,
   "id": "0b6db5f5",
   "metadata": {},
   "outputs": [
    {
     "data": {
      "text/plain": [
       "101"
      ]
     },
     "execution_count": 18,
     "metadata": {},
     "output_type": "execute_result"
    }
   ],
   "source": [
    "len(country) #101 paises"
   ]
  },
  {
   "cell_type": "markdown",
   "id": "74700d98",
   "metadata": {},
   "source": [
    "### Agregando continentes para futuro analisis."
   ]
  },
  {
   "cell_type": "code",
   "execution_count": 19,
   "id": "91b48dc7",
   "metadata": {},
   "outputs": [
    {
     "data": {
      "text/plain": [
       "27820"
      ]
     },
     "execution_count": 19,
     "metadata": {},
     "output_type": "execute_result"
    }
   ],
   "source": [
    "countries = df2[\"country\"].values.tolist() #Guardo lista de paises completos\n",
    "len(countries)"
   ]
  },
  {
   "cell_type": "code",
   "execution_count": 44,
   "id": "4a8a24fe",
   "metadata": {},
   "outputs": [],
   "source": [
    "for i in range(len(countries)):\n",
    "    if countries[i] == \"Saint Vincent and Grenadines\":\n",
    "        countries[i] = \"Saint Vincent and the Grenadines\""
   ]
  },
  {
   "cell_type": "code",
   "execution_count": 45,
   "id": "7a27d409",
   "metadata": {},
   "outputs": [
    {
     "data": {
      "text/plain": [
       "{'Aruba': 'AW',\n",
       " 'Afghanistan': 'AF',\n",
       " 'Angola': 'AO',\n",
       " 'Anguilla': 'AI',\n",
       " 'Åland Islands': 'AX',\n",
       " 'Albania': 'AL',\n",
       " 'Andorra': 'AD',\n",
       " 'United Arab Emirates': 'AE',\n",
       " 'Argentina': 'AR',\n",
       " 'Armenia': 'AM',\n",
       " 'American Samoa': 'AS',\n",
       " 'Antarctica': 'AQ',\n",
       " 'French Southern Territories': 'TF',\n",
       " 'Antigua and Barbuda': 'AG',\n",
       " 'Australia': 'AU',\n",
       " 'Austria': 'AT',\n",
       " 'Azerbaijan': 'AZ',\n",
       " 'Burundi': 'BI',\n",
       " 'Belgium': 'BE',\n",
       " 'Benin': 'BJ',\n",
       " 'Bonaire, Sint Eustatius and Saba': 'BQ',\n",
       " 'Burkina Faso': 'BF',\n",
       " 'Bangladesh': 'BD',\n",
       " 'Bulgaria': 'BG',\n",
       " 'Bahrain': 'BH',\n",
       " 'Bahamas': 'BS',\n",
       " 'Bosnia and Herzegovina': 'BA',\n",
       " 'Saint Barthélemy': 'BL',\n",
       " 'Belarus': 'BY',\n",
       " 'Belize': 'BZ',\n",
       " 'Bermuda': 'BM',\n",
       " 'Bolivia, Plurinational State of': 'BO',\n",
       " 'Brazil': 'BR',\n",
       " 'Barbados': 'BB',\n",
       " 'Brunei Darussalam': 'BN',\n",
       " 'Bhutan': 'BT',\n",
       " 'Bouvet Island': 'BV',\n",
       " 'Botswana': 'BW',\n",
       " 'Central African Republic': 'CF',\n",
       " 'Canada': 'CA',\n",
       " 'Cocos (Keeling) Islands': 'CC',\n",
       " 'Switzerland': 'CH',\n",
       " 'Chile': 'CL',\n",
       " 'China': 'CN',\n",
       " \"Côte d'Ivoire\": 'CI',\n",
       " 'Cameroon': 'CM',\n",
       " 'Congo, The Democratic Republic of the': 'CD',\n",
       " 'Congo': 'CG',\n",
       " 'Cook Islands': 'CK',\n",
       " 'Colombia': 'CO',\n",
       " 'Comoros': 'KM',\n",
       " 'Cabo Verde': 'CV',\n",
       " 'Costa Rica': 'CR',\n",
       " 'Cuba': 'CU',\n",
       " 'Curaçao': 'CW',\n",
       " 'Christmas Island': 'CX',\n",
       " 'Cayman Islands': 'KY',\n",
       " 'Cyprus': 'CY',\n",
       " 'Czechia': 'CZ',\n",
       " 'Germany': 'DE',\n",
       " 'Djibouti': 'DJ',\n",
       " 'Dominica': 'DM',\n",
       " 'Denmark': 'DK',\n",
       " 'Dominican Republic': 'DO',\n",
       " 'Algeria': 'DZ',\n",
       " 'Ecuador': 'EC',\n",
       " 'Egypt': 'EG',\n",
       " 'Eritrea': 'ER',\n",
       " 'Western Sahara': 'EH',\n",
       " 'Spain': 'ES',\n",
       " 'Estonia': 'EE',\n",
       " 'Ethiopia': 'ET',\n",
       " 'Finland': 'FI',\n",
       " 'Fiji': 'FJ',\n",
       " 'Falkland Islands (Malvinas)': 'FK',\n",
       " 'France': 'FR',\n",
       " 'Faroe Islands': 'FO',\n",
       " 'Micronesia, Federated States of': 'FM',\n",
       " 'Gabon': 'GA',\n",
       " 'United Kingdom': 'GB',\n",
       " 'Georgia': 'GE',\n",
       " 'Guernsey': 'GG',\n",
       " 'Ghana': 'GH',\n",
       " 'Gibraltar': 'GI',\n",
       " 'Guinea': 'GN',\n",
       " 'Guadeloupe': 'GP',\n",
       " 'Gambia': 'GM',\n",
       " 'Guinea-Bissau': 'GW',\n",
       " 'Equatorial Guinea': 'GQ',\n",
       " 'Greece': 'GR',\n",
       " 'Grenada': 'GD',\n",
       " 'Greenland': 'GL',\n",
       " 'Guatemala': 'GT',\n",
       " 'French Guiana': 'GF',\n",
       " 'Guam': 'GU',\n",
       " 'Guyana': 'GY',\n",
       " 'Hong Kong': 'HK',\n",
       " 'Heard Island and McDonald Islands': 'HM',\n",
       " 'Honduras': 'HN',\n",
       " 'Croatia': 'HR',\n",
       " 'Haiti': 'HT',\n",
       " 'Hungary': 'HU',\n",
       " 'Indonesia': 'ID',\n",
       " 'Isle of Man': 'IM',\n",
       " 'India': 'IN',\n",
       " 'British Indian Ocean Territory': 'IO',\n",
       " 'Ireland': 'IE',\n",
       " 'Iran, Islamic Republic of': 'IR',\n",
       " 'Iraq': 'IQ',\n",
       " 'Iceland': 'IS',\n",
       " 'Israel': 'IL',\n",
       " 'Italy': 'IT',\n",
       " 'Jamaica': 'JM',\n",
       " 'Jersey': 'JE',\n",
       " 'Jordan': 'JO',\n",
       " 'Japan': 'JP',\n",
       " 'Kazakhstan': 'KZ',\n",
       " 'Kenya': 'KE',\n",
       " 'Kyrgyzstan': 'KG',\n",
       " 'Cambodia': 'KH',\n",
       " 'Kiribati': 'KI',\n",
       " 'Saint Kitts and Nevis': 'KN',\n",
       " 'Korea, Republic of': 'KR',\n",
       " 'Kuwait': 'KW',\n",
       " \"Lao People's Democratic Republic\": 'LA',\n",
       " 'Lebanon': 'LB',\n",
       " 'Liberia': 'LR',\n",
       " 'Libya': 'LY',\n",
       " 'Saint Lucia': 'LC',\n",
       " 'Liechtenstein': 'LI',\n",
       " 'Sri Lanka': 'LK',\n",
       " 'Lesotho': 'LS',\n",
       " 'Lithuania': 'LT',\n",
       " 'Luxembourg': 'LU',\n",
       " 'Latvia': 'LV',\n",
       " 'Macao': 'MO',\n",
       " 'Saint Martin (French part)': 'MF',\n",
       " 'Morocco': 'MA',\n",
       " 'Monaco': 'MC',\n",
       " 'Moldova, Republic of': 'MD',\n",
       " 'Madagascar': 'MG',\n",
       " 'Maldives': 'MV',\n",
       " 'Mexico': 'MX',\n",
       " 'Marshall Islands': 'MH',\n",
       " 'North Macedonia': 'MK',\n",
       " 'Mali': 'ML',\n",
       " 'Malta': 'MT',\n",
       " 'Myanmar': 'MM',\n",
       " 'Montenegro': 'ME',\n",
       " 'Mongolia': 'MN',\n",
       " 'Northern Mariana Islands': 'MP',\n",
       " 'Mozambique': 'MZ',\n",
       " 'Mauritania': 'MR',\n",
       " 'Montserrat': 'MS',\n",
       " 'Martinique': 'MQ',\n",
       " 'Mauritius': 'MU',\n",
       " 'Malawi': 'MW',\n",
       " 'Malaysia': 'MY',\n",
       " 'Mayotte': 'YT',\n",
       " 'Namibia': 'NA',\n",
       " 'New Caledonia': 'NC',\n",
       " 'Niger': 'NE',\n",
       " 'Norfolk Island': 'NF',\n",
       " 'Nigeria': 'NG',\n",
       " 'Nicaragua': 'NI',\n",
       " 'Niue': 'NU',\n",
       " 'Netherlands': 'NL',\n",
       " 'Norway': 'NO',\n",
       " 'Nepal': 'NP',\n",
       " 'Nauru': 'NR',\n",
       " 'New Zealand': 'NZ',\n",
       " 'Oman': 'OM',\n",
       " 'Pakistan': 'PK',\n",
       " 'Panama': 'PA',\n",
       " 'Pitcairn': 'PN',\n",
       " 'Peru': 'PE',\n",
       " 'Philippines': 'PH',\n",
       " 'Palau': 'PW',\n",
       " 'Papua New Guinea': 'PG',\n",
       " 'Poland': 'PL',\n",
       " 'Puerto Rico': 'PR',\n",
       " \"Korea, Democratic People's Republic of\": 'KP',\n",
       " 'Portugal': 'PT',\n",
       " 'Paraguay': 'PY',\n",
       " 'Palestine, State of': 'PS',\n",
       " 'French Polynesia': 'PF',\n",
       " 'Qatar': 'QA',\n",
       " 'Réunion': 'RE',\n",
       " 'Romania': 'RO',\n",
       " 'Russian Federation': 'RU',\n",
       " 'Rwanda': 'RW',\n",
       " 'Saudi Arabia': 'SA',\n",
       " 'Sudan': 'SD',\n",
       " 'Senegal': 'SN',\n",
       " 'Singapore': 'SG',\n",
       " 'South Georgia and the South Sandwich Islands': 'GS',\n",
       " 'Saint Helena, Ascension and Tristan da Cunha': 'SH',\n",
       " 'Svalbard and Jan Mayen': 'SJ',\n",
       " 'Solomon Islands': 'SB',\n",
       " 'Sierra Leone': 'SL',\n",
       " 'El Salvador': 'SV',\n",
       " 'San Marino': 'SM',\n",
       " 'Somalia': 'SO',\n",
       " 'Saint Pierre and Miquelon': 'PM',\n",
       " 'Serbia': 'RS',\n",
       " 'South Sudan': 'SS',\n",
       " 'Sao Tome and Principe': 'ST',\n",
       " 'Suriname': 'SR',\n",
       " 'Slovakia': 'SK',\n",
       " 'Slovenia': 'SI',\n",
       " 'Sweden': 'SE',\n",
       " 'Eswatini': 'SZ',\n",
       " 'Sint Maarten (Dutch part)': 'SX',\n",
       " 'Seychelles': 'SC',\n",
       " 'Syrian Arab Republic': 'SY',\n",
       " 'Turks and Caicos Islands': 'TC',\n",
       " 'Chad': 'TD',\n",
       " 'Togo': 'TG',\n",
       " 'Thailand': 'TH',\n",
       " 'Tajikistan': 'TJ',\n",
       " 'Tokelau': 'TK',\n",
       " 'Turkmenistan': 'TM',\n",
       " 'Timor-Leste': 'TL',\n",
       " 'Tonga': 'TO',\n",
       " 'Trinidad and Tobago': 'TT',\n",
       " 'Tunisia': 'TN',\n",
       " 'Turkey': 'TR',\n",
       " 'Tuvalu': 'TV',\n",
       " 'Taiwan, Province of China': 'TW',\n",
       " 'Tanzania, United Republic of': 'TZ',\n",
       " 'Uganda': 'UG',\n",
       " 'Ukraine': 'UA',\n",
       " 'United States Minor Outlying Islands': 'UM',\n",
       " 'Uruguay': 'UY',\n",
       " 'United States': 'US',\n",
       " 'Uzbekistan': 'UZ',\n",
       " 'Holy See (Vatican City State)': 'VA',\n",
       " 'Saint Vincent and the Grenadines': 'VC',\n",
       " 'Venezuela, Bolivarian Republic of': 'VE',\n",
       " 'Virgin Islands, British': 'VG',\n",
       " 'Virgin Islands, U.S.': 'VI',\n",
       " 'Viet Nam': 'VN',\n",
       " 'Vanuatu': 'VU',\n",
       " 'Wallis and Futuna': 'WF',\n",
       " 'Samoa': 'WS',\n",
       " 'Yemen': 'YE',\n",
       " 'South Africa': 'ZA',\n",
       " 'Zambia': 'ZM',\n",
       " 'Zimbabwe': 'ZW'}"
      ]
     },
     "execution_count": 45,
     "metadata": {},
     "output_type": "execute_result"
    }
   ],
   "source": [
    "countries1 = {}\n",
    "for country in pycountry.countries:\n",
    "    countries1[country.name] = country.alpha_2\n",
    "countries1\n",
    "#Nota: Republica Checa en alpha2 es Czechia entonces se debe cambiar, Macau es macao. Se debe cambiar de countries\n",
    "# Republic of Korea es Korea, Republic of, Saint Vincent and Grenadines es Saint Vincent and the Grenadines"
   ]
  },
  {
   "cell_type": "code",
   "execution_count": 46,
   "id": "5f7af43c",
   "metadata": {},
   "outputs": [],
   "source": [
    "codes = [countries1.get(country, 'Unknown code') for country in countries]"
   ]
  },
  {
   "cell_type": "code",
   "execution_count": 47,
   "id": "17861385",
   "metadata": {},
   "outputs": [
    {
     "data": {
      "text/plain": [
       "'Saint Vincent and the Grenadines'"
      ]
     },
     "execution_count": 47,
     "metadata": {},
     "output_type": "execute_result"
    }
   ],
   "source": [
    "countries[21632]"
   ]
  },
  {
   "cell_type": "code",
   "execution_count": 49,
   "id": "a70ae2a7",
   "metadata": {},
   "outputs": [],
   "source": [
    "import pycountry_convert as pc\n",
    "continent = [pc.country_alpha2_to_continent_code(code) for code in codes]\n",
    "\n",
    "#AF - Africa; AS - Asia; EU - Europe; NA - North America; SA - South America; OC - Oceania; AN - Antarctica."
   ]
  },
  {
   "cell_type": "code",
   "execution_count": 52,
   "id": "c9d930ba",
   "metadata": {},
   "outputs": [],
   "source": [
    "#Agregar lista de continentes al DF\n",
    "df2[\"continent\"] = continent"
   ]
  },
  {
   "cell_type": "code",
   "execution_count": 53,
   "id": "cad728d3",
   "metadata": {},
   "outputs": [
    {
     "data": {
      "text/html": [
       "<div>\n",
       "<style scoped>\n",
       "    .dataframe tbody tr th:only-of-type {\n",
       "        vertical-align: middle;\n",
       "    }\n",
       "\n",
       "    .dataframe tbody tr th {\n",
       "        vertical-align: top;\n",
       "    }\n",
       "\n",
       "    .dataframe thead th {\n",
       "        text-align: right;\n",
       "    }\n",
       "</style>\n",
       "<table border=\"1\" class=\"dataframe\">\n",
       "  <thead>\n",
       "    <tr style=\"text-align: right;\">\n",
       "      <th></th>\n",
       "      <th>country</th>\n",
       "      <th>year</th>\n",
       "      <th>sex</th>\n",
       "      <th>age</th>\n",
       "      <th>suicides_no</th>\n",
       "      <th>population</th>\n",
       "      <th>suicides/100k pop</th>\n",
       "      <th>country-year</th>\n",
       "      <th>gdp_for_year ($)</th>\n",
       "      <th>gdp_per_capita ($)</th>\n",
       "      <th>generation</th>\n",
       "      <th>continent</th>\n",
       "    </tr>\n",
       "  </thead>\n",
       "  <tbody>\n",
       "    <tr>\n",
       "      <th>0</th>\n",
       "      <td>Albania</td>\n",
       "      <td>1987</td>\n",
       "      <td>male</td>\n",
       "      <td>15-24 years</td>\n",
       "      <td>21</td>\n",
       "      <td>312900</td>\n",
       "      <td>6.71</td>\n",
       "      <td>Albania1987</td>\n",
       "      <td>2,156,624,900</td>\n",
       "      <td>796</td>\n",
       "      <td>Generation X</td>\n",
       "      <td>EU</td>\n",
       "    </tr>\n",
       "    <tr>\n",
       "      <th>1</th>\n",
       "      <td>Albania</td>\n",
       "      <td>1987</td>\n",
       "      <td>male</td>\n",
       "      <td>35-54 years</td>\n",
       "      <td>16</td>\n",
       "      <td>308000</td>\n",
       "      <td>5.19</td>\n",
       "      <td>Albania1987</td>\n",
       "      <td>2,156,624,900</td>\n",
       "      <td>796</td>\n",
       "      <td>Silent</td>\n",
       "      <td>EU</td>\n",
       "    </tr>\n",
       "    <tr>\n",
       "      <th>2</th>\n",
       "      <td>Albania</td>\n",
       "      <td>1987</td>\n",
       "      <td>female</td>\n",
       "      <td>15-24 years</td>\n",
       "      <td>14</td>\n",
       "      <td>289700</td>\n",
       "      <td>4.83</td>\n",
       "      <td>Albania1987</td>\n",
       "      <td>2,156,624,900</td>\n",
       "      <td>796</td>\n",
       "      <td>Generation X</td>\n",
       "      <td>EU</td>\n",
       "    </tr>\n",
       "    <tr>\n",
       "      <th>3</th>\n",
       "      <td>Albania</td>\n",
       "      <td>1987</td>\n",
       "      <td>male</td>\n",
       "      <td>75+ years</td>\n",
       "      <td>1</td>\n",
       "      <td>21800</td>\n",
       "      <td>4.59</td>\n",
       "      <td>Albania1987</td>\n",
       "      <td>2,156,624,900</td>\n",
       "      <td>796</td>\n",
       "      <td>G.I. Generation</td>\n",
       "      <td>EU</td>\n",
       "    </tr>\n",
       "    <tr>\n",
       "      <th>4</th>\n",
       "      <td>Albania</td>\n",
       "      <td>1987</td>\n",
       "      <td>male</td>\n",
       "      <td>25-34 years</td>\n",
       "      <td>9</td>\n",
       "      <td>274300</td>\n",
       "      <td>3.28</td>\n",
       "      <td>Albania1987</td>\n",
       "      <td>2,156,624,900</td>\n",
       "      <td>796</td>\n",
       "      <td>Boomers</td>\n",
       "      <td>EU</td>\n",
       "    </tr>\n",
       "    <tr>\n",
       "      <th>...</th>\n",
       "      <td>...</td>\n",
       "      <td>...</td>\n",
       "      <td>...</td>\n",
       "      <td>...</td>\n",
       "      <td>...</td>\n",
       "      <td>...</td>\n",
       "      <td>...</td>\n",
       "      <td>...</td>\n",
       "      <td>...</td>\n",
       "      <td>...</td>\n",
       "      <td>...</td>\n",
       "      <td>...</td>\n",
       "    </tr>\n",
       "    <tr>\n",
       "      <th>27815</th>\n",
       "      <td>Uzbekistan</td>\n",
       "      <td>2014</td>\n",
       "      <td>female</td>\n",
       "      <td>35-54 years</td>\n",
       "      <td>107</td>\n",
       "      <td>3620833</td>\n",
       "      <td>2.96</td>\n",
       "      <td>Uzbekistan2014</td>\n",
       "      <td>63,067,077,179</td>\n",
       "      <td>2309</td>\n",
       "      <td>Generation X</td>\n",
       "      <td>AS</td>\n",
       "    </tr>\n",
       "    <tr>\n",
       "      <th>27816</th>\n",
       "      <td>Uzbekistan</td>\n",
       "      <td>2014</td>\n",
       "      <td>female</td>\n",
       "      <td>75+ years</td>\n",
       "      <td>9</td>\n",
       "      <td>348465</td>\n",
       "      <td>2.58</td>\n",
       "      <td>Uzbekistan2014</td>\n",
       "      <td>63,067,077,179</td>\n",
       "      <td>2309</td>\n",
       "      <td>Silent</td>\n",
       "      <td>AS</td>\n",
       "    </tr>\n",
       "    <tr>\n",
       "      <th>27817</th>\n",
       "      <td>Uzbekistan</td>\n",
       "      <td>2014</td>\n",
       "      <td>male</td>\n",
       "      <td>5-14 years</td>\n",
       "      <td>60</td>\n",
       "      <td>2762158</td>\n",
       "      <td>2.17</td>\n",
       "      <td>Uzbekistan2014</td>\n",
       "      <td>63,067,077,179</td>\n",
       "      <td>2309</td>\n",
       "      <td>Generation Z</td>\n",
       "      <td>AS</td>\n",
       "    </tr>\n",
       "    <tr>\n",
       "      <th>27818</th>\n",
       "      <td>Uzbekistan</td>\n",
       "      <td>2014</td>\n",
       "      <td>female</td>\n",
       "      <td>5-14 years</td>\n",
       "      <td>44</td>\n",
       "      <td>2631600</td>\n",
       "      <td>1.67</td>\n",
       "      <td>Uzbekistan2014</td>\n",
       "      <td>63,067,077,179</td>\n",
       "      <td>2309</td>\n",
       "      <td>Generation Z</td>\n",
       "      <td>AS</td>\n",
       "    </tr>\n",
       "    <tr>\n",
       "      <th>27819</th>\n",
       "      <td>Uzbekistan</td>\n",
       "      <td>2014</td>\n",
       "      <td>female</td>\n",
       "      <td>55-74 years</td>\n",
       "      <td>21</td>\n",
       "      <td>1438935</td>\n",
       "      <td>1.46</td>\n",
       "      <td>Uzbekistan2014</td>\n",
       "      <td>63,067,077,179</td>\n",
       "      <td>2309</td>\n",
       "      <td>Boomers</td>\n",
       "      <td>AS</td>\n",
       "    </tr>\n",
       "  </tbody>\n",
       "</table>\n",
       "<p>27820 rows × 12 columns</p>\n",
       "</div>"
      ],
      "text/plain": [
       "          country  year     sex          age  suicides_no  population  \\\n",
       "0         Albania  1987    male  15-24 years           21      312900   \n",
       "1         Albania  1987    male  35-54 years           16      308000   \n",
       "2         Albania  1987  female  15-24 years           14      289700   \n",
       "3         Albania  1987    male    75+ years            1       21800   \n",
       "4         Albania  1987    male  25-34 years            9      274300   \n",
       "...           ...   ...     ...          ...          ...         ...   \n",
       "27815  Uzbekistan  2014  female  35-54 years          107     3620833   \n",
       "27816  Uzbekistan  2014  female    75+ years            9      348465   \n",
       "27817  Uzbekistan  2014    male   5-14 years           60     2762158   \n",
       "27818  Uzbekistan  2014  female   5-14 years           44     2631600   \n",
       "27819  Uzbekistan  2014  female  55-74 years           21     1438935   \n",
       "\n",
       "       suicides/100k pop    country-year  gdp_for_year ($)   \\\n",
       "0                   6.71     Albania1987      2,156,624,900   \n",
       "1                   5.19     Albania1987      2,156,624,900   \n",
       "2                   4.83     Albania1987      2,156,624,900   \n",
       "3                   4.59     Albania1987      2,156,624,900   \n",
       "4                   3.28     Albania1987      2,156,624,900   \n",
       "...                  ...             ...                ...   \n",
       "27815               2.96  Uzbekistan2014     63,067,077,179   \n",
       "27816               2.58  Uzbekistan2014     63,067,077,179   \n",
       "27817               2.17  Uzbekistan2014     63,067,077,179   \n",
       "27818               1.67  Uzbekistan2014     63,067,077,179   \n",
       "27819               1.46  Uzbekistan2014     63,067,077,179   \n",
       "\n",
       "       gdp_per_capita ($)       generation continent  \n",
       "0                     796     Generation X        EU  \n",
       "1                     796           Silent        EU  \n",
       "2                     796     Generation X        EU  \n",
       "3                     796  G.I. Generation        EU  \n",
       "4                     796          Boomers        EU  \n",
       "...                   ...              ...       ...  \n",
       "27815                2309     Generation X        AS  \n",
       "27816                2309           Silent        AS  \n",
       "27817                2309     Generation Z        AS  \n",
       "27818                2309     Generation Z        AS  \n",
       "27819                2309          Boomers        AS  \n",
       "\n",
       "[27820 rows x 12 columns]"
      ]
     },
     "execution_count": 53,
     "metadata": {},
     "output_type": "execute_result"
    }
   ],
   "source": [
    "df2 #Ya hay una columna de continente "
   ]
  },
  {
   "cell_type": "markdown",
   "id": "94da335e",
   "metadata": {},
   "source": [
    "### Continuando con el analisis"
   ]
  },
  {
   "cell_type": "code",
   "execution_count": 74,
   "id": "d672f651",
   "metadata": {},
   "outputs": [
    {
     "data": {
      "text/plain": [
       "array([1987, 1988, 1989, 1992, 1993, 1994, 1995, 1996, 1997, 1998, 1999,\n",
       "       2000, 2001, 2002, 2003, 2004, 2005, 2006, 2007, 2008, 2009, 2010,\n",
       "       1985, 1986, 1990, 1991, 2012, 2013, 2014, 2015, 2011, 2016])"
      ]
     },
     "execution_count": 74,
     "metadata": {},
     "output_type": "execute_result"
    }
   ],
   "source": [
    "#Ya se trato la informacion con NaN faltante, pero ahora hay que revisar como impacta la info al analisis.\n",
    "#En caso de no tener relevancia se puede eliminar.\n",
    "#Una manera es revisar cuanta informacion por año aporta cada pais.\n",
    "df2[\"year\"].unique()"
   ]
  },
  {
   "cell_type": "code",
   "execution_count": null,
   "id": "269ea45b",
   "metadata": {},
   "outputs": [],
   "source": []
  }
 ],
 "metadata": {
  "kernelspec": {
   "display_name": "Python 3 (ipykernel)",
   "language": "python",
   "name": "python3"
  },
  "language_info": {
   "codemirror_mode": {
    "name": "ipython",
    "version": 3
   },
   "file_extension": ".py",
   "mimetype": "text/x-python",
   "name": "python",
   "nbconvert_exporter": "python",
   "pygments_lexer": "ipython3",
   "version": "3.7.7"
  }
 },
 "nbformat": 4,
 "nbformat_minor": 5
}
