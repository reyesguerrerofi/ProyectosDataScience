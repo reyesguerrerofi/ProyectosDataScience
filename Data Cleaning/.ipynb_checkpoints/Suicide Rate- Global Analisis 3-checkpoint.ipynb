{
 "cells": [
  {
   "cell_type": "code",
   "execution_count": 1,
   "id": "da2d4333",
   "metadata": {},
   "outputs": [],
   "source": [
    "import pandas as pd\n",
    "import numpy as np\n",
    "import matplotlib.pyplot as plt\n",
    "import matplotlib.patches as mpatches\n",
    "import seaborn as sns"
   ]
  },
  {
   "cell_type": "code",
   "execution_count": 2,
   "id": "beef5954",
   "metadata": {},
   "outputs": [
    {
     "data": {
      "text/html": [
       "<div>\n",
       "<style scoped>\n",
       "    .dataframe tbody tr th:only-of-type {\n",
       "        vertical-align: middle;\n",
       "    }\n",
       "\n",
       "    .dataframe tbody tr th {\n",
       "        vertical-align: top;\n",
       "    }\n",
       "\n",
       "    .dataframe thead th {\n",
       "        text-align: right;\n",
       "    }\n",
       "</style>\n",
       "<table border=\"1\" class=\"dataframe\">\n",
       "  <thead>\n",
       "    <tr style=\"text-align: right;\">\n",
       "      <th></th>\n",
       "      <th>Unnamed: 0</th>\n",
       "      <th>country</th>\n",
       "      <th>year</th>\n",
       "      <th>sex</th>\n",
       "      <th>age</th>\n",
       "      <th>suicides_no</th>\n",
       "      <th>population</th>\n",
       "      <th>suicides/100k pop</th>\n",
       "      <th>country-year</th>\n",
       "      <th>gdp_for_year ($)</th>\n",
       "      <th>gdp_per_capita ($)</th>\n",
       "      <th>generation</th>\n",
       "      <th>continent</th>\n",
       "    </tr>\n",
       "  </thead>\n",
       "  <tbody>\n",
       "    <tr>\n",
       "      <th>0</th>\n",
       "      <td>0</td>\n",
       "      <td>Albania</td>\n",
       "      <td>1987</td>\n",
       "      <td>male</td>\n",
       "      <td>15-24 years</td>\n",
       "      <td>21</td>\n",
       "      <td>312900</td>\n",
       "      <td>6.71</td>\n",
       "      <td>Albania1987</td>\n",
       "      <td>2,156,624,900</td>\n",
       "      <td>796</td>\n",
       "      <td>Generation X</td>\n",
       "      <td>EU</td>\n",
       "    </tr>\n",
       "  </tbody>\n",
       "</table>\n",
       "</div>"
      ],
      "text/plain": [
       "   Unnamed: 0  country  year   sex          age  suicides_no  population  \\\n",
       "0           0  Albania  1987  male  15-24 years           21      312900   \n",
       "\n",
       "   suicides/100k pop country-year  gdp_for_year ($)   gdp_per_capita ($)  \\\n",
       "0               6.71  Albania1987      2,156,624,900                 796   \n",
       "\n",
       "     generation continent  \n",
       "0  Generation X        EU  "
      ]
     },
     "execution_count": 2,
     "metadata": {},
     "output_type": "execute_result"
    }
   ],
   "source": [
    "df = pd.read_csv(\"masterClean.csv\")\n",
    "df.head(1)"
   ]
  },
  {
   "cell_type": "code",
   "execution_count": 3,
   "id": "334ed6c0",
   "metadata": {},
   "outputs": [
    {
     "data": {
      "text/html": [
       "<div>\n",
       "<style scoped>\n",
       "    .dataframe tbody tr th:only-of-type {\n",
       "        vertical-align: middle;\n",
       "    }\n",
       "\n",
       "    .dataframe tbody tr th {\n",
       "        vertical-align: top;\n",
       "    }\n",
       "\n",
       "    .dataframe thead th {\n",
       "        text-align: right;\n",
       "    }\n",
       "</style>\n",
       "<table border=\"1\" class=\"dataframe\">\n",
       "  <thead>\n",
       "    <tr style=\"text-align: right;\">\n",
       "      <th></th>\n",
       "      <th>country</th>\n",
       "      <th>year</th>\n",
       "      <th>sex</th>\n",
       "      <th>age</th>\n",
       "      <th>suicides_no</th>\n",
       "      <th>population</th>\n",
       "      <th>suicides/100k pop</th>\n",
       "      <th>country-year</th>\n",
       "      <th>gdp_for_year ($)</th>\n",
       "      <th>gdp_per_capita ($)</th>\n",
       "      <th>generation</th>\n",
       "      <th>continent</th>\n",
       "    </tr>\n",
       "  </thead>\n",
       "  <tbody>\n",
       "    <tr>\n",
       "      <th>0</th>\n",
       "      <td>Albania</td>\n",
       "      <td>1987</td>\n",
       "      <td>male</td>\n",
       "      <td>15-24 years</td>\n",
       "      <td>21</td>\n",
       "      <td>312900</td>\n",
       "      <td>6.71</td>\n",
       "      <td>Albania1987</td>\n",
       "      <td>2,156,624,900</td>\n",
       "      <td>796</td>\n",
       "      <td>Generation X</td>\n",
       "      <td>EU</td>\n",
       "    </tr>\n",
       "  </tbody>\n",
       "</table>\n",
       "</div>"
      ],
      "text/plain": [
       "   country  year   sex          age  suicides_no  population  \\\n",
       "0  Albania  1987  male  15-24 years           21      312900   \n",
       "\n",
       "   suicides/100k pop country-year  gdp_for_year ($)   gdp_per_capita ($)  \\\n",
       "0               6.71  Albania1987      2,156,624,900                 796   \n",
       "\n",
       "     generation continent  \n",
       "0  Generation X        EU  "
      ]
     },
     "execution_count": 3,
     "metadata": {},
     "output_type": "execute_result"
    }
   ],
   "source": [
    "df.drop(columns=[\"Unnamed: 0\"], inplace=True)\n",
    "df[\"continent\"] = df[\"continent\"].fillna(\"NA\")\n",
    "df.head(1) #Necesito revisar como evitar la creacion de esas columnas y que Norte America se cambie a Nan"
   ]
  },
  {
   "cell_type": "code",
   "execution_count": 4,
   "id": "5669b2a4",
   "metadata": {},
   "outputs": [],
   "source": [
    "df.drop(df[df[\"country\"] == \"Macau\"].index, inplace=True)"
   ]
  },
  {
   "cell_type": "markdown",
   "id": "f1232df7",
   "metadata": {},
   "source": [
    "## Diferencias de genero por continente"
   ]
  },
  {
   "cell_type": "code",
   "execution_count": 5,
   "id": "30aa9983",
   "metadata": {},
   "outputs": [],
   "source": [
    "df_genero = df.groupby([\"continent\",\"sex\"])"
   ]
  },
  {
   "cell_type": "code",
   "execution_count": 6,
   "id": "26ff35cf",
   "metadata": {},
   "outputs": [
    {
     "data": {
      "text/plain": [
       "'for names,groups in df_genero:\\n    print(names)\\n    print(groups)'"
      ]
     },
     "execution_count": 6,
     "metadata": {},
     "output_type": "execute_result"
    }
   ],
   "source": [
    "'''for names,groups in df_genero:\n",
    "    print(names)\n",
    "    print(groups)'''"
   ]
  },
  {
   "cell_type": "code",
   "execution_count": 7,
   "id": "7754e7d6",
   "metadata": {},
   "outputs": [],
   "source": [
    "population_gen = df_genero[\"population\"].sum()\n",
    "#population_gen"
   ]
  },
  {
   "cell_type": "code",
   "execution_count": 8,
   "id": "9e8047eb",
   "metadata": {},
   "outputs": [],
   "source": [
    "suicides_gen = df_genero[\"suicides_no\"].sum()\n",
    "#suicides_gen"
   ]
  },
  {
   "cell_type": "code",
   "execution_count": 9,
   "id": "a1e6e74b",
   "metadata": {},
   "outputs": [],
   "source": [
    "suicides_per_100k_gen = (suicides_gen/population_gen)*100000\n",
    "suicide_prom = suicides_per_100k_gen.mean()\n",
    "suicide_prom = [suicide_prom]*6\n",
    "#suicide_prom"
   ]
  },
  {
   "cell_type": "code",
   "execution_count": 10,
   "id": "0507df83",
   "metadata": {},
   "outputs": [],
   "source": [
    "AF_F = suicides_per_100k_gen[\"AF\"][\"female\"]\n",
    "AS_F = suicides_per_100k_gen[\"AS\"][\"female\"]\n",
    "EU_F = suicides_per_100k_gen[\"EU\"][\"female\"]\n",
    "NA_F = suicides_per_100k_gen[\"NA\"][\"female\"]\n",
    "OC_F = suicides_per_100k_gen[\"OC\"][\"female\"]\n",
    "SA_F = suicides_per_100k_gen[\"SA\"][\"female\"]\n",
    "suicides_female = [AF_F,AS_F,EU_F,NA_F,OC_F,SA_F]\n",
    "#suicides_female"
   ]
  },
  {
   "cell_type": "code",
   "execution_count": 11,
   "id": "b92f8e93",
   "metadata": {},
   "outputs": [],
   "source": [
    "AF_M = suicides_per_100k_gen[\"AF\"][\"male\"]\n",
    "AS_M = suicides_per_100k_gen[\"AS\"][\"male\"]\n",
    "EU_M = suicides_per_100k_gen[\"EU\"][\"male\"]\n",
    "NA_M = suicides_per_100k_gen[\"NA\"][\"male\"]\n",
    "OC_M = suicides_per_100k_gen[\"OC\"][\"male\"]\n",
    "SA_M = suicides_per_100k_gen[\"SA\"][\"male\"]\n",
    "suicides_male = [AF_M,AS_M,EU_M,NA_M,OC_M,SA_M]\n",
    "#suicides_male"
   ]
  },
  {
   "cell_type": "code",
   "execution_count": 12,
   "id": "49c54c20",
   "metadata": {},
   "outputs": [],
   "source": [
    "continentes = list(df[\"continent\"].unique())\n",
    "continentes.sort()\n",
    "#continentes"
   ]
  },
  {
   "cell_type": "code",
   "execution_count": 13,
   "id": "8b75f696",
   "metadata": {},
   "outputs": [],
   "source": [
    "genero = df[\"sex\"].unique()\n",
    "#genero"
   ]
  },
  {
   "cell_type": "code",
   "execution_count": 14,
   "id": "3b5fdbb9",
   "metadata": {},
   "outputs": [
    {
     "data": {
      "image/png": "[encoded data removed]",
      "text/plain": [
       "<Figure size 864x720 with 1 Axes>"
      ]
     },
     "metadata": {
      "needs_background": "light"
     },
     "output_type": "display_data"
    }
   ],
   "source": [
    "x = np.arange(len(continentes))\n",
    "width = 0.40\n",
    "\n",
    "\n",
    "\n",
    "fig, ax = plt.subplots(figsize=(12,10))\n",
    "rects1 = ax.bar(x - width/2, suicides_male, width, label='Hombres', color=\"#803BFA\")\n",
    "rects2 = ax.bar(x + width/2, suicides_female, width, label='Mujeres',color=\"#F56750\")\n",
    "\n",
    "ax.set_ylabel('Suicidios per 100k')\n",
    "ax.set_title('Suicidios por continente, por generos')\n",
    "ax.set_xticks(x, continentes)\n",
    "ax.legend()\n",
    "\n",
    "mean_line = ax.plot(x,suicide_prom, label='Mean', linestyle='--')\n",
    "\n",
    "ax.bar_label(rects1)\n",
    "ax.bar_label(rects2)\n",
    "\n",
    "#fig.tight_layout()\n",
    "\n",
    "plt.show()"
   ]
  },
  {
   "cell_type": "markdown",
   "id": "70892462",
   "metadata": {},
   "source": [
    "## Insigths\n",
    "* La proporcion de Norte America vs Sur America tanto en hombres como mujeres es el doble aprox (NA>SA).\n",
    "* La informacion de Africa no es completa sin embargo la propiorcion de hombres vs mujeres es el doble.\n",
    "* Hombres vs mujeres por contiennte:\n",
    "    * Africa: 3.5x mayor en hombres\n",
    "    * Asia: 2.4x mayor en hombres, siendo el de menor diferencia. Mas mujeres se suicidan en comparacion que otras areas con el mismo valor en hombres.\n",
    "    * Europa: 3.9x mayor en hombres\n",
    "    * Norte America: 3.9x mayor en hombres\n",
    "    * Sur America: 3.7x mayor en hombres\n",
    "    * Oceania: 3.5x mayor en hombres"
   ]
  },
  {
   "cell_type": "markdown",
   "id": "ced5cd83",
   "metadata": {},
   "source": [
    "## Diferencias por paises\n",
    "* Disparidad por pais. Esta parte la voy a saltar porque no se me ocurre por el momento una forma de realizarla en \n",
    "    Python.\n",
    "* **Hare proporcion de suicidios por pais**"
   ]
  },
  {
   "cell_type": "code",
   "execution_count": 15,
   "id": "d7aa4830",
   "metadata": {},
   "outputs": [],
   "source": [
    "df_genero_P = df.groupby([\"country\",\"sex\"])"
   ]
  },
  {
   "cell_type": "code",
   "execution_count": 16,
   "id": "29ee85a0",
   "metadata": {},
   "outputs": [
    {
     "data": {
      "text/plain": [
       "'for names,groups in df_genero_P:\\n    print(names)\\n    print(groups)'"
      ]
     },
     "execution_count": 16,
     "metadata": {},
     "output_type": "execute_result"
    }
   ],
   "source": [
    "'''for names,groups in df_genero_P:\n",
    "    print(names)\n",
    "    print(groups)'''"
   ]
  },
  {
   "cell_type": "code",
   "execution_count": 17,
   "id": "fddf7af3",
   "metadata": {},
   "outputs": [],
   "source": [
    "population_gen_P = df_genero_P[\"population\"].sum()\n",
    "#population_gen_P"
   ]
  },
  {
   "cell_type": "code",
   "execution_count": 18,
   "id": "a1bc74ae",
   "metadata": {},
   "outputs": [],
   "source": [
    "suicides_gen_P= df_genero_P[\"suicides_no\"].sum()\n",
    "#suicides_gen_P"
   ]
  },
  {
   "cell_type": "code",
   "execution_count": 19,
   "id": "a0b39160",
   "metadata": {},
   "outputs": [],
   "source": [
    "suicides_per_100k_gen_P = (suicides_gen_P/population_gen_P)*100000\n",
    "#suicides_per_100k_gen_P"
   ]
  },
  {
   "cell_type": "code",
   "execution_count": 20,
   "id": "6e0cc36d",
   "metadata": {},
   "outputs": [
    {
     "data": {
      "text/plain": [
       "pandas.core.series.Series"
      ]
     },
     "execution_count": 20,
     "metadata": {},
     "output_type": "execute_result"
    }
   ],
   "source": [
    "suicides_per_100k_gen_P[\"Albania\"][\"female\"]\n",
    "type(suicides_gen_P)"
   ]
  },
  {
   "cell_type": "code",
   "execution_count": 21,
   "id": "c1f1a176",
   "metadata": {},
   "outputs": [],
   "source": [
    "paises = list(df[\"country\"].unique())"
   ]
  },
  {
   "cell_type": "code",
   "execution_count": 22,
   "id": "817efe2f",
   "metadata": {},
   "outputs": [],
   "source": [
    "male = []\n",
    "female = []\n",
    "for pais in paises:\n",
    "    male.append(suicides_per_100k_gen_P[pais][\"male\"])\n",
    "    female.append(suicides_per_100k_gen_P[pais][\"female\"])"
   ]
  },
  {
   "cell_type": "code",
   "execution_count": 23,
   "id": "3d598b53",
   "metadata": {},
   "outputs": [],
   "source": [
    "male_proportion = []\n",
    "for i in range(0,len(male)):\n",
    "    male_proportion.append((male[i]/(female[i]+male[i]))*100)\n",
    "male_proportion1 = [100]*len(male_proportion)"
   ]
  },
  {
   "cell_type": "code",
   "execution_count": 24,
   "id": "dbb6ecdb",
   "metadata": {},
   "outputs": [],
   "source": [
    "male_proportion\n",
    "size= len(male_proportion)\n",
    "indice = [i for i in range(0,size)]\n",
    "zipped = list(zip(indice,male_proportion))\n",
    "sorted_list = sorted(zipped,key=lambda x: x[1] )\n",
    "#sorted_list"
   ]
  },
  {
   "cell_type": "code",
   "execution_count": 25,
   "id": "4d60fa8e",
   "metadata": {},
   "outputs": [],
   "source": [
    "unziped = list(zip(*sorted_list))\n",
    "index = str(unziped[0])\n",
    "#index"
   ]
  },
  {
   "cell_type": "code",
   "execution_count": 26,
   "id": "2afb3e95",
   "metadata": {},
   "outputs": [
    {
     "data": {
      "text/plain": [
       "93"
      ]
     },
     "execution_count": 26,
     "metadata": {},
     "output_type": "execute_result"
    }
   ],
   "source": [
    "index1 = index.replace(\"(\",\" \")\n",
    "index1 = index1.replace(\")\",\" \")\n",
    "index1 = index1.split(\",\")\n",
    "index1 = [int(i) for i in index1]\n",
    "len(index1)"
   ]
  },
  {
   "cell_type": "code",
   "execution_count": 27,
   "id": "9f0c9dbd",
   "metadata": {},
   "outputs": [
    {
     "data": {
      "text/plain": [
       "93"
      ]
     },
     "execution_count": 27,
     "metadata": {},
     "output_type": "execute_result"
    }
   ],
   "source": [
    "countries=[]\n",
    "for i in index1:\n",
    "    countries.append(paises[i])\n",
    "\n",
    "len(countries)"
   ]
  },
  {
   "cell_type": "code",
   "execution_count": 28,
   "id": "e1574914",
   "metadata": {},
   "outputs": [
    {
     "data": {
      "text/plain": [
       "93"
      ]
     },
     "execution_count": 28,
     "metadata": {},
     "output_type": "execute_result"
    }
   ],
   "source": [
    "male_proportion_F = []\n",
    "for i in index1:\n",
    "    male_proportion_F.append(male_proportion[i])\n",
    "len(male_proportion_F)\n",
    "#male_proportion_F"
   ]
  },
  {
   "cell_type": "code",
   "execution_count": 30,
   "id": "359c8691",
   "metadata": {},
   "outputs": [],
   "source": [
    "female_proportion = [(100 - male_proportion_F[i]) for i in range(len(male_proportion_F)) ]\n",
    "#female_proportion\n",
    "#female_proportion = [100]*len(male_proportion)"
   ]
  },
  {
   "cell_type": "code",
   "execution_count": 31,
   "id": "7be2c037",
   "metadata": {},
   "outputs": [
    {
     "data": {
      "image/png": "[encoded data removed]",
      "text/plain": [
       "<Figure size 720x1800 with 1 Axes>"
      ]
     },
     "metadata": {
      "needs_background": "light"
     },
     "output_type": "display_data"
    }
   ],
   "source": [
    "plt.figure(figsize=(10,25))\n",
    "plt.title(\"Suicidios por genero\")\n",
    "plt.ylabel(\"Pais\")\n",
    "plt.xlabel(\"Proporcion\")\n",
    "plt.xticks(np.arange(0,100,step=5))\n",
    "\n",
    "#Top\n",
    "bar1 = sns.barplot(x = male_proportion1 ,y = countries,color='#803BFA')\n",
    "#Bottom\n",
    "bar2 = sns.barplot(x = female_proportion ,y = countries,color='#F56750')\n",
    "\n",
    "top_bar = mpatches.Patch(color='#F56750', label='Mujeres')\n",
    "bottom_bar = mpatches.Patch(color='#803BFA', label='Hombres')\n",
    "plt.legend(handles=[top_bar, bottom_bar])\n",
    "\n",
    "\n",
    "plt.show()"
   ]
  },
  {
   "cell_type": "markdown",
   "id": "2f62ede8",
   "metadata": {},
   "source": [
    "## Insights\n",
    "* El ratio de suicidios de hombres en todos los paises es superior. Su proporcion supera el 50%\n",
    "* En el reporte de se menciona que pese a que las mujeres son mas propensas a sufrir depresion y pensamientos suicidas, los hombres son mas propensos a morir por suicidio.\n",
    "* [Diferencia de generos en suicidio](https://es.wikipedia.org/wiki/Diferencia_de_género_en_el_suicidio)"
   ]
  },
  {
   "cell_type": "markdown",
   "id": "8ec4176c",
   "metadata": {},
   "source": [
    "# Diferencia de edades por continente"
   ]
  },
  {
   "cell_type": "code",
   "execution_count": 32,
   "id": "2f1cdf77",
   "metadata": {},
   "outputs": [],
   "source": [
    "df_edad = df.groupby([\"continent\",\"age\"])"
   ]
  },
  {
   "cell_type": "code",
   "execution_count": 34,
   "id": "b2eaab16",
   "metadata": {},
   "outputs": [
    {
     "data": {
      "text/plain": [
       "'for names,groups in df_edad:\\n    print(names)\\n    print(groups)'"
      ]
     },
     "execution_count": 34,
     "metadata": {},
     "output_type": "execute_result"
    }
   ],
   "source": [
    "'''for names,groups in df_edad:\n",
    "    print(names)\n",
    "    print(groups)'''"
   ]
  },
  {
   "cell_type": "code",
   "execution_count": 36,
   "id": "e6eff593",
   "metadata": {},
   "outputs": [],
   "source": [
    "population_edad = df_edad[\"population\"].sum()\n",
    "#population_edad"
   ]
  },
  {
   "cell_type": "code",
   "execution_count": 39,
   "id": "1191e3ad",
   "metadata": {},
   "outputs": [],
   "source": [
    "suicides_edad = df_edad[\"suicides_no\"].sum()\n",
    "#suicides_edad"
   ]
  },
  {
   "cell_type": "code",
   "execution_count": 113,
   "id": "f66918e7",
   "metadata": {},
   "outputs": [],
   "source": [
    "suicides_per_100k_edad = (suicides_edad/population_edad)*100000\n",
    "#suicides_per_100k_edad"
   ]
  },
  {
   "cell_type": "code",
   "execution_count": 65,
   "id": "109ec3cc",
   "metadata": {},
   "outputs": [],
   "source": [
    "years15 = list(suicides_per_100k_edad[0::6]) \n",
    "years25 = list(suicides_per_100k_edad[1::6])\n",
    "years35 = list(suicides_per_100k_edad[2::6])\n",
    "years5 = list(suicides_per_100k_edad[3::6])\n",
    "years55 = list(suicides_per_100k_edad[4::6])\n",
    "years75 = list(suicides_per_100k_edad[5::6])"
   ]
  },
  {
   "cell_type": "code",
   "execution_count": 115,
   "id": "ba033199",
   "metadata": {
    "scrolled": true
   },
   "outputs": [
    {
     "data": {
      "image/png": "[encoded data removed]",
      "text/plain": [
       "<Figure size 1440x720 with 1 Axes>"
      ]
     },
     "metadata": {
      "needs_background": "light"
     },
     "output_type": "display_data"
    }
   ],
   "source": [
    "%matplotlib inline\n",
    "x = np.arange(len(continentes))\n",
    "\n",
    "width=0.1\n",
    "\n",
    "\n",
    "fig, ax = plt.subplots(figsize=(20,10))\n",
    "rects1 = ax.bar(x + 0.25, years15, width, label='15-24 years', color=\"#fde725\")\n",
    "rects2 = ax.bar(x + 0.15, years25, width, label='25-34 years',color=\"#7ad151\")\n",
    "rects3 = ax.bar(x + 0.05 , years35, width, label='35-54 years', color=\"#22a884\")\n",
    "rects4 = ax.bar(x - 0.05, years5, width, label='5-14',color=\"#2a788e\")\n",
    "rects5 = ax.bar(x - 0.15, years55, width, label='55-74', color=\"#414487\")\n",
    "rects6 = ax.bar(x - 0.25, years75, width, label='75+',color=\"#440154\")\n",
    "\n",
    "\n",
    "ax.set_ylabel('Suicidios per 100k')\n",
    "ax.set_title('Suicidios por continente, por edad')\n",
    "ax.set_xticks(x, continentes)\n",
    "ax.legend()\n",
    "\n",
    "mean_line = ax.plot(x,suicide_prom, label='Mean', linestyle='--')\n",
    "\n",
    "#ax.bar_label(rects1)\n",
    "#ax.bar_label(rects2)\n",
    "#ax.bar_label(rects3)\n",
    "#ax.bar_label(rects4)\n",
    "#ax.bar_label(rects5)\n",
    "#ax.bar_label(rects6)\n",
    "\n",
    "#fig.tight_layout()\n",
    "\n",
    "plt.show()"
   ]
  },
  {
   "cell_type": "markdown",
   "id": "0e852d78",
   "metadata": {},
   "source": [
    "## Insights\n",
    "* Los adultos mayores excepto en Oceania y Africa son los que mas cometen suicidio.\n",
    "* Asia es el continente con mayores suicidios en adultos mayores de 55 años.\n",
    "* Parece ser que conforme mas crece una persona mas aumenta su probabilidad de cometer suicidio."
   ]
  },
  {
   "cell_type": "code",
   "execution_count": null,
   "id": "04f5072c",
   "metadata": {},
   "outputs": [],
   "source": []
  }
 ],
 "metadata": {
  "kernelspec": {
   "display_name": "Python 3 (ipykernel)",
   "language": "python",
   "name": "python3"
  },
  "language_info": {
   "codemirror_mode": {
    "name": "ipython",
    "version": 3
   },
   "file_extension": ".py",
   "mimetype": "text/x-python",
   "name": "python",
   "nbconvert_exporter": "python",
   "pygments_lexer": "ipython3",
   "version": "3.7.7"
  }
 },
 "nbformat": 4,
 "nbformat_minor": 5
}
