{
 "cells": [
  {
   "cell_type": "markdown",
   "id": "c93f8c6d",
   "metadata": {},
   "source": [
    "# Analisis Global 2\n",
    "* Ya me comenzaba a estresar ver tantas lineas (obvio no fui muy limpio, intentare corregirlo).\n",
    "* Esta parte se corresponde a lo visto en el reporte del usuario de Kaggle **lmorgan95** a la parte 2.5.2 en adelante.Hasta genero.\n",
    "* A lo largo de las secciones anteriores he ido replicando sus estadisticos en Python(al ser mi primer proyecto es muy interesante para mi el como se aborda). \n",
    "* A partir del apartado 3 me enfocare totalmente en México y Latinoamerica, haciendo mis propias preguntas."
   ]
  },
  {
   "cell_type": "code",
   "execution_count": 1,
   "id": "8ba04931",
   "metadata": {},
   "outputs": [],
   "source": [
    "#Importamos librerias necesarias basicas.\n",
    "import pandas as pd\n",
    "import numpy as np\n",
    "import matplotlib.pyplot as plt\n",
    "import seaborn as sns\n",
    "from sklearn.linear_model import LinearRegression\n",
    "from statsmodels.formula.api import ols\n",
    "from statsmodels.sandbox.stats.multicomp import multipletests"
   ]
  },
  {
   "cell_type": "code",
   "execution_count": 2,
   "id": "66a4a839",
   "metadata": {},
   "outputs": [
    {
     "data": {
      "text/html": [
       "<div>\n",
       "<style scoped>\n",
       "    .dataframe tbody tr th:only-of-type {\n",
       "        vertical-align: middle;\n",
       "    }\n",
       "\n",
       "    .dataframe tbody tr th {\n",
       "        vertical-align: top;\n",
       "    }\n",
       "\n",
       "    .dataframe thead th {\n",
       "        text-align: right;\n",
       "    }\n",
       "</style>\n",
       "<table border=\"1\" class=\"dataframe\">\n",
       "  <thead>\n",
       "    <tr style=\"text-align: right;\">\n",
       "      <th></th>\n",
       "      <th>Unnamed: 0</th>\n",
       "      <th>country</th>\n",
       "      <th>year</th>\n",
       "      <th>sex</th>\n",
       "      <th>age</th>\n",
       "      <th>suicides_no</th>\n",
       "      <th>population</th>\n",
       "      <th>suicides/100k pop</th>\n",
       "      <th>country-year</th>\n",
       "      <th>gdp_for_year ($)</th>\n",
       "      <th>gdp_per_capita ($)</th>\n",
       "      <th>generation</th>\n",
       "      <th>continent</th>\n",
       "    </tr>\n",
       "  </thead>\n",
       "  <tbody>\n",
       "    <tr>\n",
       "      <th>0</th>\n",
       "      <td>0</td>\n",
       "      <td>Albania</td>\n",
       "      <td>1987</td>\n",
       "      <td>male</td>\n",
       "      <td>15-24 years</td>\n",
       "      <td>21</td>\n",
       "      <td>312900</td>\n",
       "      <td>6.71</td>\n",
       "      <td>Albania1987</td>\n",
       "      <td>2,156,624,900</td>\n",
       "      <td>796</td>\n",
       "      <td>Generation X</td>\n",
       "      <td>EU</td>\n",
       "    </tr>\n",
       "  </tbody>\n",
       "</table>\n",
       "</div>"
      ],
      "text/plain": [
       "   Unnamed: 0  country  year   sex          age  suicides_no  population  \\\n",
       "0           0  Albania  1987  male  15-24 years           21      312900   \n",
       "\n",
       "   suicides/100k pop country-year  gdp_for_year ($)   gdp_per_capita ($)  \\\n",
       "0               6.71  Albania1987      2,156,624,900                 796   \n",
       "\n",
       "     generation continent  \n",
       "0  Generation X        EU  "
      ]
     },
     "execution_count": 2,
     "metadata": {},
     "output_type": "execute_result"
    }
   ],
   "source": [
    "df = pd.read_csv(\"masterClean.csv\")\n",
    "df.head(1)"
   ]
  },
  {
   "cell_type": "code",
   "execution_count": 3,
   "id": "dee9fb87",
   "metadata": {},
   "outputs": [
    {
     "data": {
      "text/html": [
       "<div>\n",
       "<style scoped>\n",
       "    .dataframe tbody tr th:only-of-type {\n",
       "        vertical-align: middle;\n",
       "    }\n",
       "\n",
       "    .dataframe tbody tr th {\n",
       "        vertical-align: top;\n",
       "    }\n",
       "\n",
       "    .dataframe thead th {\n",
       "        text-align: right;\n",
       "    }\n",
       "</style>\n",
       "<table border=\"1\" class=\"dataframe\">\n",
       "  <thead>\n",
       "    <tr style=\"text-align: right;\">\n",
       "      <th></th>\n",
       "      <th>country</th>\n",
       "      <th>year</th>\n",
       "      <th>sex</th>\n",
       "      <th>age</th>\n",
       "      <th>suicides_no</th>\n",
       "      <th>population</th>\n",
       "      <th>suicides/100k pop</th>\n",
       "      <th>country-year</th>\n",
       "      <th>gdp_for_year ($)</th>\n",
       "      <th>gdp_per_capita ($)</th>\n",
       "      <th>generation</th>\n",
       "      <th>continent</th>\n",
       "    </tr>\n",
       "  </thead>\n",
       "  <tbody>\n",
       "    <tr>\n",
       "      <th>0</th>\n",
       "      <td>Albania</td>\n",
       "      <td>1987</td>\n",
       "      <td>male</td>\n",
       "      <td>15-24 years</td>\n",
       "      <td>21</td>\n",
       "      <td>312900</td>\n",
       "      <td>6.71</td>\n",
       "      <td>Albania1987</td>\n",
       "      <td>2,156,624,900</td>\n",
       "      <td>796</td>\n",
       "      <td>Generation X</td>\n",
       "      <td>EU</td>\n",
       "    </tr>\n",
       "  </tbody>\n",
       "</table>\n",
       "</div>"
      ],
      "text/plain": [
       "   country  year   sex          age  suicides_no  population  \\\n",
       "0  Albania  1987  male  15-24 years           21      312900   \n",
       "\n",
       "   suicides/100k pop country-year  gdp_for_year ($)   gdp_per_capita ($)  \\\n",
       "0               6.71  Albania1987      2,156,624,900                 796   \n",
       "\n",
       "     generation continent  \n",
       "0  Generation X        EU  "
      ]
     },
     "execution_count": 3,
     "metadata": {},
     "output_type": "execute_result"
    }
   ],
   "source": [
    "df.drop(columns=[\"Unnamed: 0\"], inplace=True)\n",
    "df[\"continent\"] = df[\"continent\"].fillna(\"NA\")\n",
    "df.head(1) #Necesito revisar como evitar la creacion de esas columnas y que Norte America se cambie a Nan"
   ]
  },
  {
   "cell_type": "code",
   "execution_count": 4,
   "id": "d713a9b9",
   "metadata": {},
   "outputs": [],
   "source": [
    "df.drop(df[df[\"country\"] == \"Macau\"].index, inplace=True)"
   ]
  },
  {
   "cell_type": "code",
   "execution_count": 5,
   "id": "51047bcd",
   "metadata": {},
   "outputs": [],
   "source": [
    "years = df[\"year\"].unique().tolist()"
   ]
  },
  {
   "cell_type": "markdown",
   "id": "344c731c",
   "metadata": {},
   "source": [
    "## Tendencia lineal \n",
    "En esta parte del reporte el interes es saber como cambia la tasa de suicidio a largo del tiempo dentro de cada pais. En lugar de visualizar las tasas de los 93 paises a lo largo del tiempo, se ajusta una regresion lineal\n",
    "a los datos de cada pais. Se buscan los paises cuya tasa aumenta o disminuye linealmente a lo largo del tiempo.\n",
    "lm(suicides_per_100k ~year) suicidios en termino del año"
   ]
  },
  {
   "cell_type": "code",
   "execution_count": 6,
   "id": "d7c3d127",
   "metadata": {},
   "outputs": [
    {
     "data": {
      "text/plain": [
       "93"
      ]
     },
     "execution_count": 6,
     "metadata": {},
     "output_type": "execute_result"
    }
   ],
   "source": [
    "countries = df[\"country\"].unique().tolist()\n",
    "len(countries)"
   ]
  },
  {
   "cell_type": "code",
   "execution_count": 7,
   "id": "93697f5b",
   "metadata": {},
   "outputs": [],
   "source": [
    "df_Tendencia = df[[\"country\",\"year\",\"suicides_no\",\"population\"]]"
   ]
  },
  {
   "cell_type": "code",
   "execution_count": 8,
   "id": "580f3e74",
   "metadata": {},
   "outputs": [],
   "source": [
    "df_groupT = df_Tendencia.groupby([\"country\",\"year\"])"
   ]
  },
  {
   "cell_type": "code",
   "execution_count": 170,
   "id": "c204f5a6",
   "metadata": {},
   "outputs": [
    {
     "data": {
      "text/plain": [
       "'\\nfor name,groups in df_groupT:\\n    print(name)\\n    print(groups)\\n'"
      ]
     },
     "execution_count": 170,
     "metadata": {},
     "output_type": "execute_result"
    }
   ],
   "source": [
    "'''\n",
    "for name,groups in df_groupT:\n",
    "    print(name)\n",
    "    print(groups)\n",
    "'''\n",
    "\n",
    "#sklearn.metrics.classification_report\n"
   ]
  },
  {
   "cell_type": "code",
   "execution_count": 171,
   "id": "ebdc8436",
   "metadata": {},
   "outputs": [],
   "source": [
    "population_T = df_groupT[\"population\"].sum()\n",
    "#population_T"
   ]
  },
  {
   "cell_type": "code",
   "execution_count": 11,
   "id": "9e62b3dc",
   "metadata": {},
   "outputs": [],
   "source": [
    "suicides_T = df_groupT[\"suicides_no\"].sum()"
   ]
  },
  {
   "cell_type": "code",
   "execution_count": 172,
   "id": "49a13ff3",
   "metadata": {},
   "outputs": [],
   "source": [
    "#pd.options.display.max_rows = 50\n",
    "suicides_per_100k = (suicides_T/population_T)*100000\n",
    "#suicides_per_100k"
   ]
  },
  {
   "cell_type": "code",
   "execution_count": 13,
   "id": "9800e94f",
   "metadata": {},
   "outputs": [],
   "source": [
    "#Al ser distinto a lo que se hace en R hare un DataSet con el valor de suicides_per_100k por año\n",
    "#Extraigo los valores de los paises con sus respectivos suicide ratio por año, los separare y despues los pondre en un nuevo\n",
    "#DataFrame para que sea usado con la formula suicide_per_100k~año\n",
    "total = []\n",
    "paiscuenta = []\n",
    "size = []\n",
    "for i in range(0,len(countries)):\n",
    "    \n",
    "    pais = suicides_per_100k[countries[i]].to_dict() #Convierto el objeto Serie a un diccionario\n",
    "    lista = list(pais.items())#Extraigo los elementos del diccionario (año,suicide_100k)\n",
    "    total.append(lista)#Lista final\n",
    "    paiscuenta.append(countries[i])#Lista de los paises para comprobar que se usaron todos\n",
    "    size.append(len(pais))#Extraigo el tamaño de cada pais para separarlos despues en dos columnas (año,pais)\n",
    "#total"
   ]
  },
  {
   "cell_type": "code",
   "execution_count": 14,
   "id": "c82f88ae",
   "metadata": {},
   "outputs": [
    {
     "data": {
      "text/plain": [
       "(2010, 3.5087398689704954)"
      ]
     },
     "execution_count": 14,
     "metadata": {},
     "output_type": "execute_result"
    }
   ],
   "source": [
    "total[0][21]"
   ]
  },
  {
   "cell_type": "code",
   "execution_count": 15,
   "id": "6c8c24f2",
   "metadata": {},
   "outputs": [
    {
     "data": {
      "text/plain": [
       "(True, 93)"
      ]
     },
     "execution_count": 15,
     "metadata": {},
     "output_type": "execute_result"
    }
   ],
   "source": [
    "#list(zip(countries,size))\n",
    "\n",
    "len(paiscuenta) == len(countries),len(size)#"
   ]
  },
  {
   "cell_type": "code",
   "execution_count": 16,
   "id": "6a019ea1",
   "metadata": {},
   "outputs": [],
   "source": [
    "#Separar variables.\n",
    "year = []\n",
    "suicide_100k = []\n",
    "paises_total = []\n",
    "for i in range(0,93):\n",
    "    for j in range(size[i]):\n",
    "        year.append(total[i][j][0])\n",
    "        suicide_100k.append(total[i][j][1])\n",
    "        paises_total.append(countries[i])\n",
    "        "
   ]
  },
  {
   "cell_type": "code",
   "execution_count": 17,
   "id": "362c8774",
   "metadata": {},
   "outputs": [
    {
     "data": {
      "text/plain": [
       "True"
      ]
     },
     "execution_count": 17,
     "metadata": {},
     "output_type": "execute_result"
    }
   ],
   "source": [
    "len(year) == len(suicide_100k) == len(paises_total)"
   ]
  },
  {
   "cell_type": "code",
   "execution_count": 18,
   "id": "49ce6ffe",
   "metadata": {},
   "outputs": [],
   "source": [
    "#Creamos el nuevo DF \n",
    "df_trend = pd.DataFrame(list(zip(paises_total,year,suicide_100k)), columns=[\"pais\",\"año\",\"suicides_per_100k\"])"
   ]
  },
  {
   "cell_type": "code",
   "execution_count": 173,
   "id": "6f7dde3c",
   "metadata": {},
   "outputs": [],
   "source": [
    "#df_trend"
   ]
  },
  {
   "cell_type": "code",
   "execution_count": 20,
   "id": "d38087f6",
   "metadata": {},
   "outputs": [],
   "source": [
    "#De https://stackoverflow.com/questions/41511945/python-pandas-linear-regression-groupby  encontre un\n",
    "#codigo para hacer un modelo de regresion lineal para datos agrupados. Lo modificare un poco\n",
    "def model(df):\n",
    "    X = df_trend[\"año\"].values.reshape(-1,1)\n",
    "    Y = df_trend[\"suicides_per_100k\"].values.reshape(-1,1)\n",
    "    return np.squeeze(LinearRegression().fit(X, Y).predict(X))\n",
    "\n",
    "#La unica desventaja es que no podremos obtener el summary de los modelos"
   ]
  },
  {
   "cell_type": "code",
   "execution_count": 174,
   "id": "87b85dde",
   "metadata": {},
   "outputs": [],
   "source": [
    "#df_trend.groupby(\"pais\").apply(model)"
   ]
  },
  {
   "cell_type": "code",
   "execution_count": 22,
   "id": "a0bc2e96",
   "metadata": {},
   "outputs": [],
   "source": [
    "df_trend1 = df_trend.groupby(\"pais\")"
   ]
  },
  {
   "cell_type": "code",
   "execution_count": 23,
   "id": "648d2147",
   "metadata": {},
   "outputs": [
    {
     "name": "stdout",
     "output_type": "stream",
     "text": [
      "0\n",
      "Albania\n",
      "1\n",
      "Antigua and Barbuda\n",
      "2\n",
      "Argentina\n",
      "3\n",
      "Armenia\n",
      "4\n",
      "Aruba\n",
      "5\n",
      "Australia\n",
      "6\n",
      "Austria\n",
      "7\n",
      "Azerbaijan\n",
      "8\n",
      "Bahamas\n",
      "9\n",
      "Bahrain\n",
      "10\n",
      "Barbados\n",
      "11\n",
      "Belarus\n",
      "12\n",
      "Belgium\n",
      "13\n",
      "Belize\n",
      "14\n",
      "Brazil\n",
      "15\n",
      "Bulgaria\n",
      "16\n",
      "Canada\n",
      "17\n",
      "Chile\n",
      "18\n",
      "Colombia\n",
      "19\n",
      "Costa Rica\n",
      "20\n",
      "Croatia\n",
      "21\n",
      "Cuba\n",
      "22\n",
      "Cyprus\n",
      "23\n",
      "Czech Republic\n",
      "24\n",
      "Denmark\n",
      "25\n",
      "Ecuador\n",
      "26\n",
      "El Salvador\n",
      "27\n",
      "Estonia\n",
      "28\n",
      "Fiji\n",
      "29\n",
      "Finland\n",
      "30\n",
      "France\n",
      "31\n",
      "Georgia\n",
      "32\n",
      "Germany\n",
      "33\n",
      "Greece\n",
      "34\n",
      "Grenada\n",
      "35\n",
      "Guatemala\n",
      "36\n",
      "Guyana\n",
      "37\n",
      "Hungary\n",
      "38\n",
      "Iceland\n",
      "39\n",
      "Ireland\n",
      "40\n",
      "Israel\n",
      "41\n",
      "Italy\n",
      "42\n",
      "Jamaica\n",
      "43\n",
      "Japan\n",
      "44\n",
      "Kazakhstan\n",
      "45\n",
      "Kiribati\n",
      "46\n",
      "Kuwait\n",
      "47\n",
      "Kyrgyzstan\n",
      "48\n",
      "Latvia\n",
      "49\n",
      "Lithuania\n",
      "50\n",
      "Luxembourg\n",
      "51\n",
      "Maldives\n",
      "52\n",
      "Malta\n",
      "53\n",
      "Mauritius\n",
      "54\n",
      "Mexico\n",
      "55\n",
      "Montenegro\n",
      "56\n",
      "Netherlands\n",
      "57\n",
      "New Zealand\n",
      "58\n",
      "Nicaragua\n",
      "59\n",
      "Norway\n",
      "60\n",
      "Panama\n",
      "61\n",
      "Paraguay\n",
      "62\n",
      "Philippines\n",
      "63\n",
      "Poland\n",
      "64\n",
      "Portugal\n",
      "65\n",
      "Puerto Rico\n",
      "66\n",
      "Qatar\n",
      "67\n",
      "Republic of Korea\n",
      "68\n",
      "Romania\n",
      "69\n",
      "Russian Federation\n",
      "70\n",
      "Saint Lucia\n",
      "71\n",
      "Saint Vincent and Grenadines\n",
      "72\n",
      "Serbia\n",
      "73\n",
      "Seychelles\n",
      "74\n",
      "Singapore\n",
      "75\n",
      "Slovakia\n",
      "76\n",
      "Slovenia\n",
      "77\n",
      "South Africa\n",
      "78\n",
      "Spain\n",
      "79\n",
      "Sri Lanka\n",
      "80\n",
      "Suriname\n",
      "81\n",
      "Sweden\n",
      "82\n",
      "Switzerland\n",
      "83\n",
      "Thailand\n",
      "84\n",
      "Trinidad and Tobago\n",
      "85\n",
      "Turkey\n",
      "86\n",
      "Turkmenistan\n",
      "87\n",
      "Ukraine\n",
      "88\n",
      "United Arab Emirates\n",
      "89\n",
      "United Kingdom\n",
      "90\n",
      "United States\n",
      "91\n",
      "Uruguay\n",
      "92\n",
      "Uzbekistan\n"
     ]
    }
   ],
   "source": [
    "#En lugar de eso se hara un modelo con statsmodels\n",
    "pvalues = []\n",
    "i = 0\n",
    "parametros = []\n",
    "for k, g in df_trend1:\n",
    "    model = ols('suicides_per_100k ~ año', g)\n",
    "    results = model.fit()\n",
    "    i += 1\n",
    "    print(i-1)\n",
    "    print(k)\n",
    "    #print(results.summary())\n",
    "    pvalues.append(results.pvalues)\n",
    "    parametros.append(results.params)\n",
    "#Imprime el numero de pais en el orden que se ejecuto el modelo"
   ]
  },
  {
   "cell_type": "code",
   "execution_count": 24,
   "id": "a8fa3ead",
   "metadata": {},
   "outputs": [],
   "source": [
    "pvalues1 = []\n",
    "\n",
    "for i in range(0,93):\n",
    "    pvalues1.append(pvalues[i][1])"
   ]
  },
  {
   "cell_type": "code",
   "execution_count": 26,
   "id": "5c70d338",
   "metadata": {},
   "outputs": [],
   "source": [
    "p_adjusted = multipletests(pvalues1, method='bonferroni') #Metodo para P-adjusted"
   ]
  },
  {
   "cell_type": "code",
   "execution_count": 33,
   "id": "b6cbe2e3",
   "metadata": {},
   "outputs": [],
   "source": [
    "p_adjusted1 = list(p_adjusted)\n",
    "#p_adjusted1"
   ]
  },
  {
   "cell_type": "code",
   "execution_count": 35,
   "id": "3ba4b5d5",
   "metadata": {},
   "outputs": [],
   "source": [
    "p_adjusted2= []\n",
    "for i in range(0,93):\n",
    "    p_adjusted2.append(p_adjusted1[1][i])\n",
    "#Se guardan todos los valoes ajustados P\n",
    "#p_adjusted2 "
   ]
  },
  {
   "cell_type": "code",
   "execution_count": 38,
   "id": "ff86eed1",
   "metadata": {},
   "outputs": [],
   "source": [
    "p_adjustedFinal = []\n",
    "indice = []\n",
    "for i in range(0,93):\n",
    "    if p_adjusted2[i] < 0.05:\n",
    "        p_adjustedFinal.append(p_adjusted2[i])\n",
    "        indice.append(p_adjusted2.index(p_adjusted2[i]))\n",
    "#Se guardan los valores mas representativos <0.5      \n",
    "#p_adjustedFinal \n",
    "#Indice de los paises correspondientes\n",
    "#indice "
   ]
  },
  {
   "cell_type": "code",
   "execution_count": 30,
   "id": "b8153b65",
   "metadata": {
    "scrolled": true
   },
   "outputs": [],
   "source": [
    "countries_adj = []\n",
    "for i in indice:\n",
    "    countries_adj.append(countries[i])"
   ]
  },
  {
   "cell_type": "code",
   "execution_count": 39,
   "id": "bba70d4c",
   "metadata": {},
   "outputs": [
    {
     "data": {
      "text/plain": [
       "[(5.3082631607541405e-17, 'Austria'),\n",
       " (0.0022916413957529613, 'Barbados'),\n",
       " (0.00034221976855777883, 'Belgium'),\n",
       " (2.93296553176587e-18, 'Brazil'),\n",
       " (2.8224199864728482e-06, 'Bulgaria'),\n",
       " (5.9457752733814076e-09, 'Canada'),\n",
       " (1.043553863114577e-08, 'Chile'),\n",
       " (0.012281890488326633, 'Colombia'),\n",
       " (0.026953296577777588, 'Costa Rica'),\n",
       " (0.00010837861893731703, 'Croatia'),\n",
       " (1.3558077659541683e-06, 'Cuba'),\n",
       " (0.0003695376509679721, 'Cyprus'),\n",
       " (1.7668629187926465e-05, 'Czech Republic'),\n",
       " (1.150964352999043e-06, 'Denmark'),\n",
       " (0.02217949284363354, 'Ecuador'),\n",
       " (0.011811194614015377, 'El Salvador'),\n",
       " (6.23961620943921e-08, 'Estonia'),\n",
       " (1.3735382469572262e-17, 'Finland'),\n",
       " (6.186448032733091e-16, 'France'),\n",
       " (3.1116527683378715e-08, 'Germany'),\n",
       " (8.959875434011182e-05, 'Guyana'),\n",
       " (2.0704441052668383e-15, 'Hungary'),\n",
       " (0.019911346297530153, 'Ireland'),\n",
       " (0.000355534030708335, 'Israel'),\n",
       " (3.2923285690060194e-06, 'Italy'),\n",
       " (2.041767733781053e-08, 'Kyrgyzstan'),\n",
       " (1.5164635703968384e-08, 'Latvia'),\n",
       " (3.949687464529012e-07, 'Lithuania'),\n",
       " (0.00011910221001050862, 'Luxembourg'),\n",
       " (0.0009361175998366417, 'Malta'),\n",
       " (5.537115769232512e-22, 'Mexico'),\n",
       " (3.9118686445584095e-07, 'Norway'),\n",
       " (3.6529654735066764e-11, 'Paraguay'),\n",
       " (2.9829634066828097e-05, 'Philippines'),\n",
       " (0.000200033197623462, 'Puerto Rico'),\n",
       " (1.5533637031800877e-13, 'Republic of Korea'),\n",
       " (0.042133707384341725, 'Russian Federation'),\n",
       " (8.031537773148423e-05, 'Serbia'),\n",
       " (0.00016294895142337075, 'Singapore'),\n",
       " (1.454466381171322e-07, 'Slovenia'),\n",
       " (0.005745936340154516, 'South Africa'),\n",
       " (0.008747000482017217, 'Sri Lanka'),\n",
       " (0.021238084609351025, 'Suriname'),\n",
       " (2.29559189268088e-08, 'Sweden'),\n",
       " (1.0090121964531603e-07, 'Switzerland'),\n",
       " (0.00039374648955700707, 'United Kingdom'),\n",
       " (7.560205968025162e-07, 'Uruguay')]"
      ]
     },
     "execution_count": 39,
     "metadata": {},
     "output_type": "execute_result"
    }
   ],
   "source": [
    "ajustado_pais = list(zip(p_adjustedFinal,countries_adj))\n",
    "ajustado_pais#P ajustado con su pais"
   ]
  },
  {
   "cell_type": "code",
   "execution_count": 41,
   "id": "e4331d92",
   "metadata": {},
   "outputs": [
    {
     "data": {
      "text/plain": [
       "[-0.46445784498589787,\n",
       " -0.21970226314851643,\n",
       " -0.14323465056394136,\n",
       " 0.07503460036992741,\n",
       " -0.26571282027021736,\n",
       " -0.12548824658053653,\n",
       " 0.26834602058687385,\n",
       " 0.07976438193984482,\n",
       " 0.07115165245940441,\n",
       " -0.27028306688383164,\n",
       " -0.4646154239587466,\n",
       " 0.32161896018889713,\n",
       " -0.20323295977032935,\n",
       " -0.38217237855930447,\n",
       " 0.06724775186370947,\n",
       " -0.145182530576631,\n",
       " -1.3088739145950525,\n",
       " -0.6103963197850975,\n",
       " -0.27240362767562387,\n",
       " -0.23500508759202327,\n",
       " 0.9250727820493486,\n",
       " -0.7836610888285943,\n",
       " 0.12252196698139331,\n",
       " -0.08489968300672274,\n",
       " -0.06174931859994624,\n",
       " -0.24870485689334126,\n",
       " -1.037742277083053,\n",
       " -0.9336513155372084,\n",
       " -0.3219799343627857,\n",
       " 0.18124685128341927,\n",
       " 0.10298648085545387,\n",
       " -0.18858230976517043,\n",
       " 0.13596898472258392,\n",
       " 0.09228265779465251,\n",
       " -0.10831524639561531,\n",
       " 0.9305792917581257,\n",
       " -0.6265492303663884,\n",
       " -0.2780604679525519,\n",
       " -0.16369136403371443,\n",
       " -0.6490190652687764,\n",
       " 0.035295362654412465,\n",
       " -0.7924290081942005,\n",
       " 0.5365022637101102,\n",
       " -0.2254239394638112,\n",
       " -0.44199041300290615,\n",
       " -0.05463797172352159,\n",
       " 0.3128963176429385]"
      ]
     },
     "execution_count": 41,
     "metadata": {},
     "output_type": "execute_result"
    }
   ],
   "source": [
    "parametros_adj = []\n",
    "for i in indice:\n",
    "    parametros_adj.append(parametros[i][1])\n",
    "parametros_adj #R valores sin ajustar"
   ]
  },
  {
   "cell_type": "code",
   "execution_count": 42,
   "id": "90aa1753",
   "metadata": {},
   "outputs": [],
   "source": [
    "#Para ordenar la lista y guardar indices de esa lista a ordenar. Mayor a menor\n",
    "size= len(parametros_adj)\n",
    "indice1 = [i for i in range(0,size)]\n",
    "zipped = list(zip(indice1,parametros_adj))\n",
    "sorted_list = sorted(zipped,key=lambda x: x[1] )\n",
    "#zipped"
   ]
  },
  {
   "cell_type": "code",
   "execution_count": 43,
   "id": "56c097c9",
   "metadata": {},
   "outputs": [
    {
     "data": {
      "text/plain": [
       "'(16, 26, 27, 41, 21, 39, 36, 17, 10, 0, 44, 13, 28, 37, 18, 9, 4, 25, 19, 43, 1, 12, 31, 38, 15, 2, 5, 34, 23, 24, 45, 40, 14, 8, 3, 7, 33, 30, 22, 32, 29, 6, 46, 11, 42, 20, 35)'"
      ]
     },
     "execution_count": 43,
     "metadata": {},
     "output_type": "execute_result"
    }
   ],
   "source": [
    "#Se obtienen los indices de la lista ya ordenada\n",
    "unziped = list(zip(*sorted_list))\n",
    "index = str(unziped[0])\n",
    "index"
   ]
  },
  {
   "cell_type": "code",
   "execution_count": 44,
   "id": "b4225914",
   "metadata": {},
   "outputs": [
    {
     "data": {
      "text/plain": [
       "47"
      ]
     },
     "execution_count": 44,
     "metadata": {},
     "output_type": "execute_result"
    }
   ],
   "source": [
    "#Se quita el molesto ( )\n",
    "index1 = index.replace(\"(\",\" \")\n",
    "index1 = index1.replace(\")\",\" \")\n",
    "index1 = index1.split(\",\")\n",
    "index1 = [int(i) for i in index1]\n",
    "len(index1)"
   ]
  },
  {
   "cell_type": "code",
   "execution_count": 45,
   "id": "ada054db",
   "metadata": {},
   "outputs": [
    {
     "data": {
      "text/plain": [
       "47"
      ]
     },
     "execution_count": 45,
     "metadata": {},
     "output_type": "execute_result"
    }
   ],
   "source": [
    "#se crea nueva lista ordenada \n",
    "countries1=[]\n",
    "for i in index1:\n",
    "    countries1.append(countries_adj[i])\n",
    "\n",
    "len(countries1)"
   ]
  },
  {
   "cell_type": "code",
   "execution_count": 46,
   "id": "4aae356d",
   "metadata": {},
   "outputs": [
    {
     "data": {
      "text/plain": [
       "47"
      ]
     },
     "execution_count": 46,
     "metadata": {},
     "output_type": "execute_result"
    }
   ],
   "source": [
    "#Lista ordenada\n",
    "par_adj = []\n",
    "for i in index1:\n",
    "    par_adj.append(parametros_adj[i])\n",
    "len(par_adj)"
   ]
  },
  {
   "cell_type": "code",
   "execution_count": 47,
   "id": "714d7312",
   "metadata": {},
   "outputs": [
    {
     "data": {
      "text/plain": [
       "<AxesSubplot:>"
      ]
     },
     "execution_count": 47,
     "metadata": {},
     "output_type": "execute_result"
    },
    {
     "data": {
      "image/png": "[encoded data removed]",
      "text/plain": [
       "<Figure size 864x720 with 1 Axes>"
      ]
     },
     "metadata": {
      "needs_background": "light"
     },
     "output_type": "display_data"
    }
   ],
   "source": [
    "plt.figure(figsize=(12,10))\n",
    "plt.xlim(-1.5, 1.6)\n",
    "plt.xticks(np.arange(-1.5,1.5,0.1))\n",
    "plt.grid(True)\n",
    "sns.scatterplot(x = par_adj, y =countries1) #YA quedo alv "
   ]
  },
  {
   "cell_type": "markdown",
   "id": "db7d9488",
   "metadata": {},
   "source": [
    "### Insights\n",
    "* La mitad de los paises han cambiado sus tendencias a lo largo del tiempo.\n",
    "* 31 paises : ~65% han disminuido su tendencia."
   ]
  },
  {
   "cell_type": "markdown",
   "id": "96a12d21",
   "metadata": {},
   "source": [
    "## Lineas de tendencia de los paises a la alza"
   ]
  },
  {
   "cell_type": "code",
   "execution_count": 48,
   "id": "4ee93e32",
   "metadata": {},
   "outputs": [
    {
     "data": {
      "text/plain": [
       "['Colombia',\n",
       " 'Philippines',\n",
       " 'Mexico',\n",
       " 'Ireland',\n",
       " 'Paraguay',\n",
       " 'Malta',\n",
       " 'Chile',\n",
       " 'Uruguay',\n",
       " 'Cyprus',\n",
       " 'Suriname',\n",
       " 'Guyana',\n",
       " 'Republic of Korea']"
      ]
     },
     "execution_count": 48,
     "metadata": {},
     "output_type": "execute_result"
    }
   ],
   "source": [
    "countries1[-12:] #Extraigo los 12 ultimos ya que van a la alza"
   ]
  },
  {
   "cell_type": "code",
   "execution_count": 60,
   "id": "5748250f",
   "metadata": {},
   "outputs": [
    {
     "data": {
      "text/plain": [
       "31"
      ]
     },
     "execution_count": 60,
     "metadata": {},
     "output_type": "execute_result"
    }
   ],
   "source": [
    "#Obtengo sus suicides_per_100k de cada pais a analizar\n",
    "Colombia = df_trend1.get_group(\"Colombia\")[\"suicides_per_100k\"]\n",
    "Philippines = df_trend1.get_group(\"Philippines\")[\"suicides_per_100k\"]\n",
    "Mexico = df_trend1.get_group(\"Mexico\")[\"suicides_per_100k\"]\n",
    "Ireland = df_trend1.get_group(\"Ireland\")[\"suicides_per_100k\"]\n",
    "Paraguay = df_trend1.get_group(\"Paraguay\")[\"suicides_per_100k\"]\n",
    "Malta = df_trend1.get_group(\"Malta\")[\"suicides_per_100k\"]\n",
    "Chile = df_trend1.get_group(\"Chile\")[\"suicides_per_100k\"]\n",
    "Uruguay = df_trend1.get_group(\"Uruguay\")[\"suicides_per_100k\"]\n",
    "Cyprus = df_trend1.get_group(\"Cyprus\")[\"suicides_per_100k\"]\n",
    "Suriname = df_trend1.get_group(\"Suriname\")[\"suicides_per_100k\"]\n",
    "Guyana = df_trend1.get_group(\"Guyana\")[\"suicides_per_100k\"]\n",
    "Korea = df_trend1.get_group(\"Republic of Korea\")[\"suicides_per_100k\"]"
   ]
  },
  {
   "cell_type": "code",
   "execution_count": 61,
   "id": "6ae281f0",
   "metadata": {},
   "outputs": [
    {
     "data": {
      "text/plain": [
       "31"
      ]
     },
     "execution_count": 61,
     "metadata": {},
     "output_type": "execute_result"
    }
   ],
   "source": [
    "#Obtengo los años exactos de cada pais\n",
    "ColombiaY = list(df_trend1.get_group(\"Colombia\")[\"año\"])\n",
    "PhilippinesY = list(df_trend1.get_group(\"Philippines\")[\"año\"])\n",
    "MexicoY = list(df_trend1.get_group(\"Mexico\")[\"año\"])\n",
    "IrelandY = list(df_trend1.get_group(\"Ireland\")[\"año\"])\n",
    "ParaguayY = list(df_trend1.get_group(\"Paraguay\")[\"año\"])\n",
    "MaltaY = list(df_trend1.get_group(\"Malta\")[\"año\"])\n",
    "ChileY = list(df_trend1.get_group(\"Chile\")[\"año\"])\n",
    "UruguayY = list(df_trend1.get_group(\"Uruguay\")[\"año\"])\n",
    "CyprusY = list(df_trend1.get_group(\"Cyprus\")[\"año\"])\n",
    "SurinameY = list(df_trend1.get_group(\"Suriname\")[\"año\"])\n",
    "GuyanaY = list(df_trend1.get_group(\"Guyana\")[\"año\"])\n",
    "KoreaY = list(df_trend1.get_group(\"Republic of Korea\")[\"año\"])"
   ]
  },
  {
   "cell_type": "code",
   "execution_count": 103,
   "id": "98b216d7",
   "metadata": {},
   "outputs": [
    {
     "data": {
      "text/plain": [
       "Intercept   -1842.520387\n",
       "año             0.930579\n",
       "dtype: float64"
      ]
     },
     "execution_count": 103,
     "metadata": {},
     "output_type": "execute_result"
    }
   ],
   "source": [
    "parametros[67]#Busco cada pais y sus interceptos, este deberia ser automatico. Por el momento busco cada pais "
   ]
  },
  {
   "cell_type": "code",
   "execution_count": 104,
   "id": "4199e402",
   "metadata": {},
   "outputs": [],
   "source": [
    "#Calculo la recta de tendencia manualmente\n",
    "KoreaP  = []\n",
    "for i in range(0,len(KoreaY)):\n",
    "    KoreaP.append(-1842.520387 + 0.930579*float(KoreaY[i]))"
   ]
  },
  {
   "cell_type": "code",
   "execution_count": 105,
   "id": "2d58a4e7",
   "metadata": {},
   "outputs": [
    {
     "data": {
      "text/plain": [
       "<AxesSubplot:title={'center':'Corea del Sur'}, ylabel='suicides_per_100k'>"
      ]
     },
     "execution_count": 105,
     "metadata": {},
     "output_type": "execute_result"
    },
    {
     "data": {
      "image/png": "[encoded data removed]",
      "text/plain": [
       "<Figure size 1296x720 with 12 Axes>"
      ]
     },
     "metadata": {
      "needs_background": "light"
     },
     "output_type": "display_data"
    }
   ],
   "source": [
    "fig, axes = plt.subplots(3, 4, figsize=(18, 10))\n",
    "axes[0,0].set_title(\"Colombia\")\n",
    "sns.scatterplot(ax=axes[0,0],x=ColombiaY,y=Colombia)\n",
    "sns.lineplot(ax=axes[0,0],x=ColombiaY,y=ColombiaP,color=\"red\")\n",
    "axes[0,1].set_title(\"Filipinas\")\n",
    "sns.scatterplot(ax=axes[0,1],x=PhilippinesY,y=Philippines)\n",
    "sns.lineplot(ax=axes[0,1],x=PhilippinesY,y=PhilippinesP,color=\"green\")\n",
    "axes[0,2].set_title(\"Mexico\")\n",
    "sns.scatterplot(ax=axes[0,2],x=MexicoY,y=Mexico)\n",
    "sns.lineplot(ax=axes[0,2],x=MexicoY,y=MexicoP,color=\"orange\")\n",
    "axes[0,3].set_title(\"Irlanda\")\n",
    "sns.scatterplot(ax=axes[0,3],x=IrelandY,y=Ireland)\n",
    "sns.lineplot(ax=axes[0,3],x=IrelandY,y=IrelandP,color=\"pink\")\n",
    "axes[1,0].set_title(\"Paraguay\")\n",
    "sns.scatterplot(ax=axes[1,0],x=ParaguayY,y=Paraguay)\n",
    "sns.lineplot(ax=axes[1,0],x=ParaguayY,y=ParaguayP,color=\"red\")\n",
    "axes[1,1].set_title(\"Malta\")\n",
    "sns.scatterplot(ax=axes[1,1],x=MaltaY,y=Malta)\n",
    "sns.lineplot(ax=axes[1,1],x=MaltaY,y=MaltaP,color=\"green\")\n",
    "axes[1,2].set_title(\"Chile\")\n",
    "sns.scatterplot(ax=axes[1,2],x=ChileY,y=Chile)\n",
    "sns.lineplot(ax=axes[1,2],x=ChileY,y=ChileP,color=\"orange\")\n",
    "axes[1,3].set_title(\"Uruguay\")\n",
    "sns.scatterplot(ax=axes[1,3],x=UruguayY,y=Uruguay)\n",
    "sns.lineplot(ax=axes[1,3],x=UruguayY,y=UruguayP,color=\"pink\")\n",
    "axes[2,0].set_title(\"Chipre\")\n",
    "sns.scatterplot(ax=axes[2,0],x=CyprusY,y=Cyprus)\n",
    "sns.lineplot(ax=axes[2,0],x=CyprusY,y=CyprusP,color=\"red\")\n",
    "axes[2,1].set_title(\"Surinam\")\n",
    "sns.scatterplot(ax=axes[2,1],x=SurinameY,y=Suriname)\n",
    "sns.lineplot(ax=axes[2,1],x=SurinameY,y=SurinameP,color=\"green\")\n",
    "axes[2,2].set_title(\"Guyana\")\n",
    "sns.scatterplot(ax=axes[2,2],x=GuyanaY,y=Guyana)\n",
    "sns.lineplot(ax=axes[2,2],x=GuyanaY,y=GuyanaP,color=\"orange\")\n",
    "axes[2,3].set_title(\"Corea del Sur\")\n",
    "sns.scatterplot(ax=axes[2,3],x=KoreaY,y=Korea)\n",
    "sns.lineplot(ax=axes[2,3],x=KoreaY,y=KoreaP,color=\"pink\")\n"
   ]
  },
  {
   "cell_type": "markdown",
   "id": "66b139c0",
   "metadata": {},
   "source": [
    "## Insigths\n",
    "* Corea por consistencia de datos a lo largo de los años es el que muestra la tendencia mas alta de todo el mundo.\n",
    "* 5 paises latinoamericanos muestran un aumento, siendo el mas preocupante Uruguay seguido de Chile.\n",
    "* Mexico tiene una linea de regresion bastante fiel a la informacion dada, por lo que es preocupante si esa tendencia a la alza continua."
   ]
  },
  {
   "cell_type": "code",
   "execution_count": 109,
   "id": "9f11e74a",
   "metadata": {},
   "outputs": [
    {
     "data": {
      "text/plain": [
       "['Estonia',\n",
       " 'Latvia',\n",
       " 'Lithuania',\n",
       " 'Sri Lanka',\n",
       " 'Hungary',\n",
       " 'Slovenia',\n",
       " 'Russian Federation',\n",
       " 'Finland',\n",
       " 'Cuba',\n",
       " 'Austria',\n",
       " 'Switzerland',\n",
       " 'Denmark']"
      ]
     },
     "execution_count": 109,
     "metadata": {},
     "output_type": "execute_result"
    }
   ],
   "source": [
    "#Siguen los de tendencia a la baja.\n",
    "\n",
    "countries1[:12]"
   ]
  },
  {
   "cell_type": "code",
   "execution_count": 119,
   "id": "9a6c6456",
   "metadata": {},
   "outputs": [],
   "source": [
    "#Obtengo sus suicides_per_100k de cada pais a analizar\n",
    "Estonia = df_trend1.get_group(\"Estonia\")[\"suicides_per_100k\"]\n",
    "Latvia = df_trend1.get_group(\"Latvia\")[\"suicides_per_100k\"]\n",
    "Lithuania = df_trend1.get_group(\"Lithuania\")[\"suicides_per_100k\"]\n",
    "SriLanka = df_trend1.get_group(\"Sri Lanka\")[\"suicides_per_100k\"]\n",
    "Hungary = df_trend1.get_group(\"Hungary\")[\"suicides_per_100k\"]\n",
    "Slovenia = df_trend1.get_group(\"Slovenia\")[\"suicides_per_100k\"]\n",
    "Russia = df_trend1.get_group(\"Russian Federation\")[\"suicides_per_100k\"]\n",
    "Finland = df_trend1.get_group(\"Finland\")[\"suicides_per_100k\"]\n",
    "Cuba = df_trend1.get_group(\"Cuba\")[\"suicides_per_100k\"]\n",
    "Austria = df_trend1.get_group(\"Austria\")[\"suicides_per_100k\"]\n",
    "Switzerland = df_trend1.get_group(\"Switzerland\")[\"suicides_per_100k\"]\n",
    "Denmark = df_trend1.get_group(\"Denmark\")[\"suicides_per_100k\"]"
   ]
  },
  {
   "cell_type": "code",
   "execution_count": 129,
   "id": "959c252f",
   "metadata": {},
   "outputs": [],
   "source": [
    "EstoniaY = list(df_trend1.get_group(\"Estonia\")[\"año\"])#27\n",
    "LatviaY = list(df_trend1.get_group(\"Latvia\")[\"año\"])#48\n",
    "LithuaniaY = list(df_trend1.get_group(\"Lithuania\")[\"año\"])#49\n",
    "SriLankaY = list(df_trend1.get_group(\"Sri Lanka\")[\"año\"])#79\n",
    "HungaryY = list(df_trend1.get_group(\"Hungary\")[\"año\"])#37\n",
    "SloveniaY = list(df_trend1.get_group(\"Slovenia\")[\"año\"])#76\n",
    "RussiaY = list(df_trend1.get_group(\"Russian Federation\")[\"año\"])#69\n",
    "FinlandY = list(df_trend1.get_group(\"Finland\")[\"año\"])#29\n",
    "CubaY = list(df_trend1.get_group(\"Cuba\")[\"año\"])#21\n",
    "AustriaY = list(df_trend1.get_group(\"Austria\")[\"año\"])#6\n",
    "SwitzerlandY = list(df_trend1.get_group(\"Switzerland\")[\"año\"])#82\n",
    "DenmarkY = list(df_trend1.get_group(\"Denmark\")[\"año\"])#24"
   ]
  },
  {
   "cell_type": "code",
   "execution_count": 167,
   "id": "25fa524d",
   "metadata": {},
   "outputs": [
    {
     "data": {
      "text/plain": [
       "Intercept    779.767139\n",
       "año           -0.382172\n",
       "dtype: float64"
      ]
     },
     "execution_count": 167,
     "metadata": {},
     "output_type": "execute_result"
    }
   ],
   "source": [
    "parametros[24]"
   ]
  },
  {
   "cell_type": "code",
   "execution_count": 131,
   "id": "13e42a15",
   "metadata": {},
   "outputs": [
    {
     "data": {
      "text/plain": [
       "(21, 21)"
      ]
     },
     "execution_count": 131,
     "metadata": {},
     "output_type": "execute_result"
    }
   ],
   "source": [
    "len(Estonia),len(EstoniaY)"
   ]
  },
  {
   "cell_type": "code",
   "execution_count": 168,
   "id": "3db33837",
   "metadata": {},
   "outputs": [],
   "source": [
    "#Calculo la recta de tendencia manualmente\n",
    "DenmarkP  = []\n",
    "for i in range(0,len(DenmarkY)):\n",
    "    DenmarkP.append(779.767139 + (-0.382172)*float(DenmarkY[i]))"
   ]
  },
  {
   "cell_type": "code",
   "execution_count": 169,
   "id": "8d631418",
   "metadata": {
    "scrolled": true
   },
   "outputs": [
    {
     "data": {
      "text/plain": [
       "<AxesSubplot:title={'center':'Dinamarca'}, ylabel='suicides_per_100k'>"
      ]
     },
     "execution_count": 169,
     "metadata": {},
     "output_type": "execute_result"
    },
    {
     "data": {
      "image/png": "[encoded data removed]",
      "text/plain": [
       "<Figure size 1296x720 with 12 Axes>"
      ]
     },
     "metadata": {
      "needs_background": "light"
     },
     "output_type": "display_data"
    }
   ],
   "source": [
    "fig, axes = plt.subplots(3, 4, figsize=(18, 10))\n",
    "axes[0,0].set_title(\"Estonia\")\n",
    "sns.scatterplot(ax=axes[0,0],x=EstoniaY,y=Estonia)\n",
    "sns.lineplot(ax=axes[0,0],x=EstoniaY,y=EstoniaP,color=\"red\")\n",
    "axes[0,1].set_title(\"Letonia\")\n",
    "sns.scatterplot(ax=axes[0,1],x=LatviaY,y=Latvia)\n",
    "sns.lineplot(ax=axes[0,1],x=LatviaY,y=LatviaP,color=\"green\")\n",
    "axes[0,2].set_title(\"Lituania\")\n",
    "sns.scatterplot(ax=axes[0,2],x=LithuaniaY,y=Lithuania)\n",
    "sns.lineplot(ax=axes[0,2],x=LithuaniaY,y=LithuaniaP,color=\"orange\")\n",
    "axes[0,3].set_title(\"Sri Lanka\")\n",
    "sns.scatterplot(ax=axes[0,3],x=SriLankaY,y=SriLanka)\n",
    "sns.lineplot(ax=axes[0,3],x=SriLankaY,y=SriLankaP,color=\"pink\")\n",
    "axes[1,0].set_title(\"Hungria\")\n",
    "sns.scatterplot(ax=axes[1,0],x=HungaryY,y=Hungary)\n",
    "sns.lineplot(ax=axes[1,0],x=HungaryY,y=HungaryP,color=\"red\")\n",
    "axes[1,1].set_title(\"Eslovenia\")\n",
    "sns.scatterplot(ax=axes[1,1],x=SloveniaY,y=Slovenia)\n",
    "sns.lineplot(ax=axes[1,1],x=SloveniaY,y=SloveniaP,color=\"green\")\n",
    "axes[1,2].set_title(\"Rusia\")\n",
    "sns.scatterplot(ax=axes[1,2],x=RussiaY,y=Russia)\n",
    "sns.lineplot(ax=axes[1,2],x=RussiaY,y=RussiaP,color=\"orange\")\n",
    "axes[1,3].set_title(\"Finlandia\")\n",
    "sns.scatterplot(ax=axes[1,3],x=FinlandY,y=Finland)\n",
    "sns.lineplot(ax=axes[1,3],x=FinlandY,y=FinlandP,color=\"pink\")\n",
    "axes[2,0].set_title(\"Cuba\")\n",
    "sns.scatterplot(ax=axes[2,0],x=CubaY,y=Cuba)\n",
    "sns.lineplot(ax=axes[2,0],x=CubaY,y=CubaP,color=\"red\")\n",
    "axes[2,1].set_title(\"Austria\")\n",
    "sns.scatterplot(ax=axes[2,1],x=AustriaY,y=Austria)\n",
    "sns.lineplot(ax=axes[2,1],x=AustriaY,y=AustriaP,color=\"green\")\n",
    "axes[2,2].set_title(\"Suiza\")\n",
    "sns.scatterplot(ax=axes[2,2],x=SwitzerlandY,y=Switzerland)\n",
    "sns.lineplot(ax=axes[2,2],x=SwitzerlandY,y=SwitzerlandP,color=\"orange\")\n",
    "axes[2,3].set_title(\"Dinamarca\")\n",
    "sns.scatterplot(ax=axes[2,3],x=DenmarkY,y=Denmark)\n",
    "sns.lineplot(ax=axes[2,3],x=DenmarkY,y=DenmarkP,color=\"pink\")"
   ]
  },
  {
   "cell_type": "markdown",
   "id": "07bdf6e7",
   "metadata": {},
   "source": [
    "## Insights\n",
    "* A pasar de la tendencia a la baja, estos paises todavia estan muy por encima de latinoamerica.\n",
    "* Estonia es el pais con la mayor disminucion de suicidios.\n",
    "* Sri Lanka a pesar de tener una disminucion considerable no tiene la suficiente informacion por años"
   ]
  },
  {
   "cell_type": "code",
   "execution_count": null,
   "id": "93ab4bd7",
   "metadata": {},
   "outputs": [],
   "source": []
  }
 ],
 "metadata": {
  "kernelspec": {
   "display_name": "Python 3 (ipykernel)",
   "language": "python",
   "name": "python3"
  },
  "language_info": {
   "codemirror_mode": {
    "name": "ipython",
    "version": 3
   },
   "file_extension": ".py",
   "mimetype": "text/x-python",
   "name": "python",
   "nbconvert_exporter": "python",
   "pygments_lexer": "ipython3",
   "version": "3.7.7"
  }
 },
 "nbformat": 4,
 "nbformat_minor": 5
}
