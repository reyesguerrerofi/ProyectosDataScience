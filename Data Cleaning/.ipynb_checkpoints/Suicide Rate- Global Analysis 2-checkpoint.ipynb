{
 "cells": [
  {
   "cell_type": "markdown",
   "id": "c93f8c6d",
   "metadata": {},
   "source": [
    "# Analisis Global 2\n",
    "* Ya me comenzaba a estresar ver tantas lineas (obvio no fui muy limpio, intentare corregirlo).\n",
    "* Esta parte se corresponde a lo visto en el reporte del usuario de Kaggle **lmorgan95** a la parte 2.5.2 en adelante.\n",
    "* A lo largo de las secciones anteriores he ido replicando sus estadisticos en Python(al ser mi primer proyecto es muy interesante para mi el como se aborda). \n",
    "* A partir del apartado 3 me enfocare totalmente en México y Latinoamerica, haciendo mis propias preguntas."
   ]
  },
  {
   "cell_type": "code",
   "execution_count": 1,
   "id": "8ba04931",
   "metadata": {},
   "outputs": [],
   "source": [
    "#Importamos librerias necesarias basicas.\n",
    "import pandas as pd\n",
    "import numpy as np\n",
    "import matplotlib.pyplot as plt\n",
    "import seaborn as sns\n",
    "from sklearn.linear_model import LinearRegression\n",
    "from statsmodels.formula.api import ols\n",
    "from statsmodels.sandbox.stats.multicomp import multipletests"
   ]
  },
  {
   "cell_type": "code",
   "execution_count": 2,
   "id": "66a4a839",
   "metadata": {},
   "outputs": [
    {
     "data": {
      "text/html": [
       "<div>\n",
       "<style scoped>\n",
       "    .dataframe tbody tr th:only-of-type {\n",
       "        vertical-align: middle;\n",
       "    }\n",
       "\n",
       "    .dataframe tbody tr th {\n",
       "        vertical-align: top;\n",
       "    }\n",
       "\n",
       "    .dataframe thead th {\n",
       "        text-align: right;\n",
       "    }\n",
       "</style>\n",
       "<table border=\"1\" class=\"dataframe\">\n",
       "  <thead>\n",
       "    <tr style=\"text-align: right;\">\n",
       "      <th></th>\n",
       "      <th>Unnamed: 0</th>\n",
       "      <th>country</th>\n",
       "      <th>year</th>\n",
       "      <th>sex</th>\n",
       "      <th>age</th>\n",
       "      <th>suicides_no</th>\n",
       "      <th>population</th>\n",
       "      <th>suicides/100k pop</th>\n",
       "      <th>country-year</th>\n",
       "      <th>gdp_for_year ($)</th>\n",
       "      <th>gdp_per_capita ($)</th>\n",
       "      <th>generation</th>\n",
       "      <th>continent</th>\n",
       "    </tr>\n",
       "  </thead>\n",
       "  <tbody>\n",
       "    <tr>\n",
       "      <th>0</th>\n",
       "      <td>0</td>\n",
       "      <td>Albania</td>\n",
       "      <td>1987</td>\n",
       "      <td>male</td>\n",
       "      <td>15-24 years</td>\n",
       "      <td>21</td>\n",
       "      <td>312900</td>\n",
       "      <td>6.71</td>\n",
       "      <td>Albania1987</td>\n",
       "      <td>2,156,624,900</td>\n",
       "      <td>796</td>\n",
       "      <td>Generation X</td>\n",
       "      <td>EU</td>\n",
       "    </tr>\n",
       "  </tbody>\n",
       "</table>\n",
       "</div>"
      ],
      "text/plain": [
       "   Unnamed: 0  country  year   sex          age  suicides_no  population  \\\n",
       "0           0  Albania  1987  male  15-24 years           21      312900   \n",
       "\n",
       "   suicides/100k pop country-year  gdp_for_year ($)   gdp_per_capita ($)  \\\n",
       "0               6.71  Albania1987      2,156,624,900                 796   \n",
       "\n",
       "     generation continent  \n",
       "0  Generation X        EU  "
      ]
     },
     "execution_count": 2,
     "metadata": {},
     "output_type": "execute_result"
    }
   ],
   "source": [
    "df = pd.read_csv(\"masterClean.csv\")\n",
    "df.head(1)"
   ]
  },
  {
   "cell_type": "code",
   "execution_count": 3,
   "id": "dee9fb87",
   "metadata": {},
   "outputs": [
    {
     "data": {
      "text/html": [
       "<div>\n",
       "<style scoped>\n",
       "    .dataframe tbody tr th:only-of-type {\n",
       "        vertical-align: middle;\n",
       "    }\n",
       "\n",
       "    .dataframe tbody tr th {\n",
       "        vertical-align: top;\n",
       "    }\n",
       "\n",
       "    .dataframe thead th {\n",
       "        text-align: right;\n",
       "    }\n",
       "</style>\n",
       "<table border=\"1\" class=\"dataframe\">\n",
       "  <thead>\n",
       "    <tr style=\"text-align: right;\">\n",
       "      <th></th>\n",
       "      <th>country</th>\n",
       "      <th>year</th>\n",
       "      <th>sex</th>\n",
       "      <th>age</th>\n",
       "      <th>suicides_no</th>\n",
       "      <th>population</th>\n",
       "      <th>suicides/100k pop</th>\n",
       "      <th>country-year</th>\n",
       "      <th>gdp_for_year ($)</th>\n",
       "      <th>gdp_per_capita ($)</th>\n",
       "      <th>generation</th>\n",
       "      <th>continent</th>\n",
       "    </tr>\n",
       "  </thead>\n",
       "  <tbody>\n",
       "    <tr>\n",
       "      <th>0</th>\n",
       "      <td>Albania</td>\n",
       "      <td>1987</td>\n",
       "      <td>male</td>\n",
       "      <td>15-24 years</td>\n",
       "      <td>21</td>\n",
       "      <td>312900</td>\n",
       "      <td>6.71</td>\n",
       "      <td>Albania1987</td>\n",
       "      <td>2,156,624,900</td>\n",
       "      <td>796</td>\n",
       "      <td>Generation X</td>\n",
       "      <td>EU</td>\n",
       "    </tr>\n",
       "  </tbody>\n",
       "</table>\n",
       "</div>"
      ],
      "text/plain": [
       "   country  year   sex          age  suicides_no  population  \\\n",
       "0  Albania  1987  male  15-24 years           21      312900   \n",
       "\n",
       "   suicides/100k pop country-year  gdp_for_year ($)   gdp_per_capita ($)  \\\n",
       "0               6.71  Albania1987      2,156,624,900                 796   \n",
       "\n",
       "     generation continent  \n",
       "0  Generation X        EU  "
      ]
     },
     "execution_count": 3,
     "metadata": {},
     "output_type": "execute_result"
    }
   ],
   "source": [
    "df.drop(columns=[\"Unnamed: 0\"], inplace=True)\n",
    "df[\"continent\"] = df[\"continent\"].fillna(\"NA\")\n",
    "df.head(1) #Necesito revisar como evitar la creacion de esas columnas y que Norte America se cambie a Nan"
   ]
  },
  {
   "cell_type": "code",
   "execution_count": 4,
   "id": "d713a9b9",
   "metadata": {},
   "outputs": [],
   "source": [
    "df.drop(df[df[\"country\"] == \"Macau\"].index, inplace=True)"
   ]
  },
  {
   "cell_type": "markdown",
   "id": "344c731c",
   "metadata": {},
   "source": [
    "## Tendencia lineal \n",
    "En esta parte del reporte el interes es saber como cambia la tasa de suicidio a largo del tiempo dentro de cada pais. En lugar de visualizar las tasas de los 93 paises a lo largo del tiempo, se ajusta una regresion lineal\n",
    "a los datos de cada pais. Se buscan los paises cuya tasa aumenta o disminuye linealmente a lo largo del tiempo.\n",
    "lm(suicides_per_100k ~year) suicidios en termino del año"
   ]
  },
  {
   "cell_type": "code",
   "execution_count": 5,
   "id": "d7c3d127",
   "metadata": {},
   "outputs": [
    {
     "data": {
      "text/plain": [
       "93"
      ]
     },
     "execution_count": 5,
     "metadata": {},
     "output_type": "execute_result"
    }
   ],
   "source": [
    "countries = df[\"country\"].unique().tolist()\n",
    "len(countries)"
   ]
  },
  {
   "cell_type": "code",
   "execution_count": 6,
   "id": "93697f5b",
   "metadata": {},
   "outputs": [],
   "source": [
    "df_Tendencia = df[[\"country\",\"year\",\"suicides_no\",\"population\"]]"
   ]
  },
  {
   "cell_type": "code",
   "execution_count": 7,
   "id": "580f3e74",
   "metadata": {},
   "outputs": [],
   "source": [
    "df_groupT = df_Tendencia.groupby([\"country\",\"year\"])"
   ]
  },
  {
   "cell_type": "code",
   "execution_count": null,
   "id": "c204f5a6",
   "metadata": {},
   "outputs": [],
   "source": [
    "\n",
    "for name,groups in df_groupT:\n",
    "    print(name)\n",
    "    print(groups)\n",
    "#sklearn.metrics.classification_report\n"
   ]
  },
  {
   "cell_type": "code",
   "execution_count": 8,
   "id": "ebdc8436",
   "metadata": {},
   "outputs": [
    {
     "data": {
      "text/plain": [
       "country     year\n",
       "Albania     1987     2709600\n",
       "            1988     2764300\n",
       "            1989     2803100\n",
       "            1992     2822500\n",
       "            1993     2807300\n",
       "                      ...   \n",
       "Uzbekistan  2010    25651783\n",
       "            2011    25978049\n",
       "            2012    26381830\n",
       "            2013    26838924\n",
       "            2014    27313507\n",
       "Name: population, Length: 2306, dtype: int64"
      ]
     },
     "execution_count": 8,
     "metadata": {},
     "output_type": "execute_result"
    }
   ],
   "source": [
    "population_T = df_groupT[\"population\"].sum()\n",
    "population_T"
   ]
  },
  {
   "cell_type": "code",
   "execution_count": 9,
   "id": "9e62b3dc",
   "metadata": {},
   "outputs": [],
   "source": [
    "suicides_T = df_groupT[\"suicides_no\"].sum()"
   ]
  },
  {
   "cell_type": "code",
   "execution_count": 10,
   "id": "49a13ff3",
   "metadata": {},
   "outputs": [
    {
     "data": {
      "text/plain": [
       "country     year\n",
       "Albania     1987    2.694125\n",
       "            1988    2.279058\n",
       "            1989    2.425886\n",
       "            1992    1.665190\n",
       "            1993    2.600363\n",
       "                      ...   \n",
       "Uzbekistan  2010    5.707206\n",
       "            2011    6.313022\n",
       "            2012    6.955545\n",
       "            2013    7.265567\n",
       "            2014    7.670198\n",
       "Length: 2306, dtype: float64"
      ]
     },
     "execution_count": 10,
     "metadata": {},
     "output_type": "execute_result"
    }
   ],
   "source": [
    "#pd.options.display.max_rows = 50\n",
    "suicides_per_100k = (suicides_T/population_T)*100000\n",
    "suicides_per_100k"
   ]
  },
  {
   "cell_type": "code",
   "execution_count": 11,
   "id": "9800e94f",
   "metadata": {},
   "outputs": [],
   "source": [
    "#Como no entiendo muy bien lo que quiere hacer en R hare un DataSet con el valor de suicides_per_100k por año\n",
    "#Extraigo los valores de los paises con sus respectivos suicide ratio por año, los separare y despues los pondre en un nuevo\n",
    "#DataFrame para que sea usado con la formula suicide_per_100k~año\n",
    "total = []\n",
    "paiscuenta = []\n",
    "size = []\n",
    "for i in range(0,len(countries)):\n",
    "    \n",
    "    pais = suicides_per_100k[countries[i]].to_dict() #Convierto el objeto Serie a un diccionario\n",
    "    lista = list(pais.items())#Extraigo los elementos del diccionario (año,suicide_100k)\n",
    "    total.append(lista)#Lista final\n",
    "    paiscuenta.append(countries[i])#Lista de los paises para comprobar que se usaron todos\n",
    "    size.append(len(pais))#Extraigo el tamaño de cada pais para separarlos despues en dos columnas (año,pais)\n",
    "#total"
   ]
  },
  {
   "cell_type": "code",
   "execution_count": 12,
   "id": "c82f88ae",
   "metadata": {},
   "outputs": [
    {
     "data": {
      "text/plain": [
       "(2010, 3.5087398689704954)"
      ]
     },
     "execution_count": 12,
     "metadata": {},
     "output_type": "execute_result"
    }
   ],
   "source": [
    "total[0][21]"
   ]
  },
  {
   "cell_type": "code",
   "execution_count": 13,
   "id": "6c8c24f2",
   "metadata": {},
   "outputs": [
    {
     "data": {
      "text/plain": [
       "(True, 93)"
      ]
     },
     "execution_count": 13,
     "metadata": {},
     "output_type": "execute_result"
    }
   ],
   "source": [
    "#list(zip(countries,size))\n",
    "\n",
    "len(paiscuenta) == len(countries),len(size)#"
   ]
  },
  {
   "cell_type": "code",
   "execution_count": 14,
   "id": "6a019ea1",
   "metadata": {},
   "outputs": [],
   "source": [
    "#Separar variables.\n",
    "year = []\n",
    "suicide_100k = []\n",
    "paises_total = []\n",
    "for i in range(0,93):\n",
    "    for j in range(size[i]):\n",
    "        year.append(total[i][j][0])\n",
    "        suicide_100k.append(total[i][j][1])\n",
    "        paises_total.append(countries[i])\n",
    "        "
   ]
  },
  {
   "cell_type": "code",
   "execution_count": 15,
   "id": "362c8774",
   "metadata": {},
   "outputs": [
    {
     "data": {
      "text/plain": [
       "True"
      ]
     },
     "execution_count": 15,
     "metadata": {},
     "output_type": "execute_result"
    }
   ],
   "source": [
    "len(year) == len(suicide_100k) == len(paises_total)"
   ]
  },
  {
   "cell_type": "code",
   "execution_count": 16,
   "id": "49ce6ffe",
   "metadata": {},
   "outputs": [],
   "source": [
    "#Creamos el nuevo DF \n",
    "df_trend = pd.DataFrame(list(zip(paises_total,year,suicide_100k)), columns=[\"pais\",\"año\",\"suicides_per_100k\"])"
   ]
  },
  {
   "cell_type": "code",
   "execution_count": 17,
   "id": "6f7dde3c",
   "metadata": {},
   "outputs": [
    {
     "data": {
      "text/html": [
       "<div>\n",
       "<style scoped>\n",
       "    .dataframe tbody tr th:only-of-type {\n",
       "        vertical-align: middle;\n",
       "    }\n",
       "\n",
       "    .dataframe tbody tr th {\n",
       "        vertical-align: top;\n",
       "    }\n",
       "\n",
       "    .dataframe thead th {\n",
       "        text-align: right;\n",
       "    }\n",
       "</style>\n",
       "<table border=\"1\" class=\"dataframe\">\n",
       "  <thead>\n",
       "    <tr style=\"text-align: right;\">\n",
       "      <th></th>\n",
       "      <th>pais</th>\n",
       "      <th>año</th>\n",
       "      <th>suicides_per_100k</th>\n",
       "    </tr>\n",
       "  </thead>\n",
       "  <tbody>\n",
       "    <tr>\n",
       "      <th>0</th>\n",
       "      <td>Albania</td>\n",
       "      <td>1987</td>\n",
       "      <td>2.694125</td>\n",
       "    </tr>\n",
       "    <tr>\n",
       "      <th>1</th>\n",
       "      <td>Albania</td>\n",
       "      <td>1988</td>\n",
       "      <td>2.279058</td>\n",
       "    </tr>\n",
       "    <tr>\n",
       "      <th>2</th>\n",
       "      <td>Albania</td>\n",
       "      <td>1989</td>\n",
       "      <td>2.425886</td>\n",
       "    </tr>\n",
       "    <tr>\n",
       "      <th>3</th>\n",
       "      <td>Albania</td>\n",
       "      <td>1992</td>\n",
       "      <td>1.665190</td>\n",
       "    </tr>\n",
       "    <tr>\n",
       "      <th>4</th>\n",
       "      <td>Albania</td>\n",
       "      <td>1993</td>\n",
       "      <td>2.600363</td>\n",
       "    </tr>\n",
       "    <tr>\n",
       "      <th>...</th>\n",
       "      <td>...</td>\n",
       "      <td>...</td>\n",
       "      <td>...</td>\n",
       "    </tr>\n",
       "    <tr>\n",
       "      <th>2301</th>\n",
       "      <td>Uzbekistan</td>\n",
       "      <td>2010</td>\n",
       "      <td>5.707206</td>\n",
       "    </tr>\n",
       "    <tr>\n",
       "      <th>2302</th>\n",
       "      <td>Uzbekistan</td>\n",
       "      <td>2011</td>\n",
       "      <td>6.313022</td>\n",
       "    </tr>\n",
       "    <tr>\n",
       "      <th>2303</th>\n",
       "      <td>Uzbekistan</td>\n",
       "      <td>2012</td>\n",
       "      <td>6.955545</td>\n",
       "    </tr>\n",
       "    <tr>\n",
       "      <th>2304</th>\n",
       "      <td>Uzbekistan</td>\n",
       "      <td>2013</td>\n",
       "      <td>7.265567</td>\n",
       "    </tr>\n",
       "    <tr>\n",
       "      <th>2305</th>\n",
       "      <td>Uzbekistan</td>\n",
       "      <td>2014</td>\n",
       "      <td>7.670198</td>\n",
       "    </tr>\n",
       "  </tbody>\n",
       "</table>\n",
       "<p>2306 rows × 3 columns</p>\n",
       "</div>"
      ],
      "text/plain": [
       "            pais   año  suicides_per_100k\n",
       "0        Albania  1987           2.694125\n",
       "1        Albania  1988           2.279058\n",
       "2        Albania  1989           2.425886\n",
       "3        Albania  1992           1.665190\n",
       "4        Albania  1993           2.600363\n",
       "...          ...   ...                ...\n",
       "2301  Uzbekistan  2010           5.707206\n",
       "2302  Uzbekistan  2011           6.313022\n",
       "2303  Uzbekistan  2012           6.955545\n",
       "2304  Uzbekistan  2013           7.265567\n",
       "2305  Uzbekistan  2014           7.670198\n",
       "\n",
       "[2306 rows x 3 columns]"
      ]
     },
     "execution_count": 17,
     "metadata": {},
     "output_type": "execute_result"
    }
   ],
   "source": [
    "df_trend"
   ]
  },
  {
   "cell_type": "code",
   "execution_count": 18,
   "id": "d38087f6",
   "metadata": {},
   "outputs": [],
   "source": [
    "#De https://stackoverflow.com/questions/41511945/python-pandas-linear-regression-groupby  encontre un\n",
    "#codigo para hacer un modelo de regresion lineal para datos agrupados. Lo modificare un poco\n",
    "def model(df):\n",
    "    X = df_trend[\"año\"].values.reshape(-1,1)\n",
    "    Y = df_trend[\"suicides_per_100k\"].values.reshape(-1,1)\n",
    "    return np.squeeze(LinearRegression().fit(X, Y).predict(X))\n",
    "\n",
    "#La unica desventaja es que no podremos obtener el summary de los modelos"
   ]
  },
  {
   "cell_type": "code",
   "execution_count": 19,
   "id": "87b85dde",
   "metadata": {},
   "outputs": [
    {
     "data": {
      "text/plain": [
       "pais\n",
       "Albania                 [12.041184645778046, 12.023450047745285, 12.00...\n",
       "Antigua and Barbuda     [12.041184645778046, 12.023450047745285, 12.00...\n",
       "Argentina               [12.041184645778046, 12.023450047745285, 12.00...\n",
       "Armenia                 [12.041184645778046, 12.023450047745285, 12.00...\n",
       "Aruba                   [12.041184645778046, 12.023450047745285, 12.00...\n",
       "                                              ...                        \n",
       "United Arab Emirates    [12.041184645778046, 12.023450047745285, 12.00...\n",
       "United Kingdom          [12.041184645778046, 12.023450047745285, 12.00...\n",
       "United States           [12.041184645778046, 12.023450047745285, 12.00...\n",
       "Uruguay                 [12.041184645778046, 12.023450047745285, 12.00...\n",
       "Uzbekistan              [12.041184645778046, 12.023450047745285, 12.00...\n",
       "Length: 93, dtype: object"
      ]
     },
     "execution_count": 19,
     "metadata": {},
     "output_type": "execute_result"
    }
   ],
   "source": [
    "df_trend.groupby(\"pais\").apply(model)"
   ]
  },
  {
   "cell_type": "code",
   "execution_count": 20,
   "id": "a0bc2e96",
   "metadata": {},
   "outputs": [],
   "source": [
    "df_trend1 = df_trend.groupby(\"pais\")"
   ]
  },
  {
   "cell_type": "code",
   "execution_count": 21,
   "id": "648d2147",
   "metadata": {},
   "outputs": [],
   "source": [
    "#En lugar de eso se hara un modelo con statsmodels\n",
    "pvalues = []\n",
    "parametros = []\n",
    "for k, g in df_trend1:\n",
    "    model = ols('suicides_per_100k ~ año', g)\n",
    "    results = model.fit()\n",
    "    #print(k)\n",
    "    #print(results.summary())\n",
    "    pvalues.append(results.pvalues)\n",
    "    parametros.append(results.params)"
   ]
  },
  {
   "cell_type": "code",
   "execution_count": 22,
   "id": "a8fa3ead",
   "metadata": {},
   "outputs": [],
   "source": [
    "pvalues1 = []\n",
    "\n",
    "for i in range(0,93):\n",
    "    pvalues1.append(pvalues[i][1])"
   ]
  },
  {
   "cell_type": "code",
   "execution_count": 23,
   "id": "5c70d338",
   "metadata": {},
   "outputs": [],
   "source": [
    "p_adjusted = multipletests(pvalues1, method='bonferroni')"
   ]
  },
  {
   "cell_type": "code",
   "execution_count": 24,
   "id": "b6cbe2e3",
   "metadata": {},
   "outputs": [],
   "source": [
    "p_adjusted1 = list(p_adjusted)"
   ]
  },
  {
   "cell_type": "code",
   "execution_count": 25,
   "id": "3ba4b5d5",
   "metadata": {},
   "outputs": [],
   "source": [
    "p_adjusted2= []\n",
    "for i in range(0,93):\n",
    "    p_adjusted2.append(p_adjusted1[1][i])"
   ]
  },
  {
   "cell_type": "code",
   "execution_count": 26,
   "id": "ff86eed1",
   "metadata": {},
   "outputs": [],
   "source": [
    "p_adjustedFinal = []\n",
    "indice = []\n",
    "for i in range(0,93):\n",
    "    if p_adjusted2[i] < 0.05:\n",
    "        p_adjustedFinal.append(p_adjusted2[i])\n",
    "        indice.append(p_adjusted2.index(p_adjusted2[i]))"
   ]
  },
  {
   "cell_type": "code",
   "execution_count": 27,
   "id": "b8153b65",
   "metadata": {
    "scrolled": true
   },
   "outputs": [],
   "source": [
    "countries_adj = []\n",
    "for i in indice:\n",
    "    countries_adj.append(countries[i])"
   ]
  },
  {
   "cell_type": "code",
   "execution_count": 28,
   "id": "bba70d4c",
   "metadata": {},
   "outputs": [
    {
     "data": {
      "text/plain": [
       "[(5.3082631607541405e-17, 'Austria'),\n",
       " (0.0022916413957529613, 'Barbados'),\n",
       " (0.00034221976855777883, 'Belgium'),\n",
       " (2.93296553176587e-18, 'Brazil'),\n",
       " (2.8224199864728482e-06, 'Bulgaria'),\n",
       " (5.9457752733814076e-09, 'Canada'),\n",
       " (1.043553863114577e-08, 'Chile'),\n",
       " (0.012281890488326633, 'Colombia'),\n",
       " (0.026953296577777588, 'Costa Rica'),\n",
       " (0.00010837861893731703, 'Croatia'),\n",
       " (1.3558077659541683e-06, 'Cuba'),\n",
       " (0.0003695376509679721, 'Cyprus'),\n",
       " (1.7668629187926465e-05, 'Czech Republic'),\n",
       " (1.150964352999043e-06, 'Denmark'),\n",
       " (0.02217949284363354, 'Ecuador'),\n",
       " (0.011811194614015377, 'El Salvador'),\n",
       " (6.23961620943921e-08, 'Estonia'),\n",
       " (1.3735382469572262e-17, 'Finland'),\n",
       " (6.186448032733091e-16, 'France'),\n",
       " (3.1116527683378715e-08, 'Germany'),\n",
       " (8.959875434011182e-05, 'Guyana'),\n",
       " (2.0704441052668383e-15, 'Hungary'),\n",
       " (0.019911346297530153, 'Ireland'),\n",
       " (0.000355534030708335, 'Israel'),\n",
       " (3.2923285690060194e-06, 'Italy'),\n",
       " (2.041767733781053e-08, 'Kyrgyzstan'),\n",
       " (1.5164635703968384e-08, 'Latvia'),\n",
       " (3.949687464529012e-07, 'Lithuania'),\n",
       " (0.00011910221001050862, 'Luxembourg'),\n",
       " (0.0009361175998366417, 'Malta'),\n",
       " (5.537115769232512e-22, 'Mexico'),\n",
       " (3.9118686445584095e-07, 'Norway'),\n",
       " (3.6529654735066764e-11, 'Paraguay'),\n",
       " (2.9829634066828097e-05, 'Philippines'),\n",
       " (0.000200033197623462, 'Puerto Rico'),\n",
       " (1.5533637031800877e-13, 'Republic of Korea'),\n",
       " (0.042133707384341725, 'Russian Federation'),\n",
       " (8.031537773148423e-05, 'Serbia'),\n",
       " (0.00016294895142337075, 'Singapore'),\n",
       " (1.454466381171322e-07, 'Slovenia'),\n",
       " (0.005745936340154516, 'South Africa'),\n",
       " (0.008747000482017217, 'Sri Lanka'),\n",
       " (0.021238084609351025, 'Suriname'),\n",
       " (2.29559189268088e-08, 'Sweden'),\n",
       " (1.0090121964531603e-07, 'Switzerland'),\n",
       " (0.00039374648955700707, 'United Kingdom'),\n",
       " (7.560205968025162e-07, 'Uruguay')]"
      ]
     },
     "execution_count": 28,
     "metadata": {},
     "output_type": "execute_result"
    }
   ],
   "source": [
    "ajustado_pais = list(zip(p_adjustedFinal,countries_adj))\n",
    "ajustado_pais"
   ]
  },
  {
   "cell_type": "code",
   "execution_count": 35,
   "id": "714d7312",
   "metadata": {},
   "outputs": [
    {
     "data": {
      "text/plain": [
       "<AxesSubplot:>"
      ]
     },
     "execution_count": 35,
     "metadata": {},
     "output_type": "execute_result"
    },
    {
     "data": {
      "image/png": "[encoded data removed]",
      "text/plain": [
       "<Figure size 864x720 with 1 Axes>"
      ]
     },
     "metadata": {
      "needs_background": "light"
     },
     "output_type": "display_data"
    }
   ],
   "source": [
    "plt.figure(figsize=(12,10))\n",
    "plt.xlim(-1.5, 1.6)\n",
    "plt.xticks(np.arange(-1.5,1.5,0.1))\n",
    "plt.grid(True)\n",
    "sns.scatterplot(x = par_adj, y =countries1) #YA quedo alv "
   ]
  },
  {
   "cell_type": "code",
   "execution_count": 29,
   "id": "e4331d92",
   "metadata": {},
   "outputs": [],
   "source": [
    "parametros_adj = []\n",
    "for i in indice:\n",
    "    parametros_adj.append(parametros[i][1])"
   ]
  },
  {
   "cell_type": "code",
   "execution_count": 30,
   "id": "90aa1753",
   "metadata": {},
   "outputs": [
    {
     "data": {
      "text/plain": [
       "[(0, -0.46445784498589787),\n",
       " (1, -0.21970226314851643),\n",
       " (2, -0.14323465056394136),\n",
       " (3, 0.07503460036992741),\n",
       " (4, -0.26571282027021736),\n",
       " (5, -0.12548824658053653),\n",
       " (6, 0.26834602058687385),\n",
       " (7, 0.07976438193984482),\n",
       " (8, 0.07115165245940441),\n",
       " (9, -0.27028306688383164),\n",
       " (10, -0.4646154239587466),\n",
       " (11, 0.32161896018889713),\n",
       " (12, -0.20323295977032935),\n",
       " (13, -0.38217237855930447),\n",
       " (14, 0.06724775186370947),\n",
       " (15, -0.145182530576631),\n",
       " (16, -1.3088739145950525),\n",
       " (17, -0.6103963197850975),\n",
       " (18, -0.27240362767562387),\n",
       " (19, -0.23500508759202327),\n",
       " (20, 0.9250727820493486),\n",
       " (21, -0.7836610888285943),\n",
       " (22, 0.12252196698139331),\n",
       " (23, -0.08489968300672274),\n",
       " (24, -0.06174931859994624),\n",
       " (25, -0.24870485689334126),\n",
       " (26, -1.037742277083053),\n",
       " (27, -0.9336513155372084),\n",
       " (28, -0.3219799343627857),\n",
       " (29, 0.18124685128341927),\n",
       " (30, 0.10298648085545387),\n",
       " (31, -0.18858230976517043),\n",
       " (32, 0.13596898472258392),\n",
       " (33, 0.09228265779465251),\n",
       " (34, -0.10831524639561531),\n",
       " (35, 0.9305792917581257),\n",
       " (36, -0.6265492303663884),\n",
       " (37, -0.2780604679525519),\n",
       " (38, -0.16369136403371443),\n",
       " (39, -0.6490190652687764),\n",
       " (40, 0.035295362654412465),\n",
       " (41, -0.7924290081942005),\n",
       " (42, 0.5365022637101102),\n",
       " (43, -0.2254239394638112),\n",
       " (44, -0.44199041300290615),\n",
       " (45, -0.05463797172352159),\n",
       " (46, 0.3128963176429385)]"
      ]
     },
     "execution_count": 30,
     "metadata": {},
     "output_type": "execute_result"
    }
   ],
   "source": [
    "#Para ordenar la lista y guardar indices de esa lista a ordenar\n",
    "size= len(parametros_adj)\n",
    "indice1 = [i for i in range(0,size)]\n",
    "zipped = list(zip(indice1,parametros_adj))\n",
    "sorted_list = sorted(zipped,key=lambda x: x[1] )\n",
    "zipped"
   ]
  },
  {
   "cell_type": "code",
   "execution_count": 31,
   "id": "56c097c9",
   "metadata": {},
   "outputs": [
    {
     "data": {
      "text/plain": [
       "'(16, 26, 27, 41, 21, 39, 36, 17, 10, 0, 44, 13, 28, 37, 18, 9, 4, 25, 19, 43, 1, 12, 31, 38, 15, 2, 5, 34, 23, 24, 45, 40, 14, 8, 3, 7, 33, 30, 22, 32, 29, 6, 46, 11, 42, 20, 35)'"
      ]
     },
     "execution_count": 31,
     "metadata": {},
     "output_type": "execute_result"
    }
   ],
   "source": [
    "#Se obtienen los indices de la lista ya ordenada\n",
    "unziped = list(zip(*sorted_list))\n",
    "index = str(unziped[0])\n",
    "index"
   ]
  },
  {
   "cell_type": "code",
   "execution_count": 32,
   "id": "b4225914",
   "metadata": {},
   "outputs": [
    {
     "data": {
      "text/plain": [
       "47"
      ]
     },
     "execution_count": 32,
     "metadata": {},
     "output_type": "execute_result"
    }
   ],
   "source": [
    "#Se quita el molesto ( )\n",
    "index1 = index.replace(\"(\",\" \")\n",
    "index1 = index1.replace(\")\",\" \")\n",
    "index1 = index1.split(\",\")\n",
    "index1 = [int(i) for i in index1]\n",
    "len(index1)"
   ]
  },
  {
   "cell_type": "code",
   "execution_count": 33,
   "id": "ada054db",
   "metadata": {},
   "outputs": [
    {
     "data": {
      "text/plain": [
       "47"
      ]
     },
     "execution_count": 33,
     "metadata": {},
     "output_type": "execute_result"
    }
   ],
   "source": [
    "#se crea nueva lista ordenada \n",
    "countries1=[]\n",
    "for i in index1:\n",
    "    countries1.append(countries_adj[i])\n",
    "\n",
    "len(countries1)"
   ]
  },
  {
   "cell_type": "code",
   "execution_count": 34,
   "id": "4aae356d",
   "metadata": {},
   "outputs": [
    {
     "data": {
      "text/plain": [
       "47"
      ]
     },
     "execution_count": 34,
     "metadata": {},
     "output_type": "execute_result"
    }
   ],
   "source": [
    "#Lista ordenada\n",
    "par_adj = []\n",
    "for i in index1:\n",
    "    par_adj.append(parametros_adj[i])\n",
    "len(par_adj)"
   ]
  },
  {
   "cell_type": "code",
   "execution_count": null,
   "id": "7e6f84eb",
   "metadata": {},
   "outputs": [],
   "source": []
  }
 ],
 "metadata": {
  "kernelspec": {
   "display_name": "Python 3 (ipykernel)",
   "language": "python",
   "name": "python3"
  },
  "language_info": {
   "codemirror_mode": {
    "name": "ipython",
    "version": 3
   },
   "file_extension": ".py",
   "mimetype": "text/x-python",
   "name": "python",
   "nbconvert_exporter": "python",
   "pygments_lexer": "ipython3",
   "version": "3.7.7"
  }
 },
 "nbformat": 4,
 "nbformat_minor": 5
}
